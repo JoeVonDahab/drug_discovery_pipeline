{
 "cells": [
  {
   "cell_type": "code",
   "execution_count": 2,
   "id": "3b8969bd",
   "metadata": {},
   "outputs": [
    {
     "name": "stderr",
     "output_type": "stream",
     "text": [
      "c:\\Users\\isaac\\anaconda3\\envs\\cdd223\\lib\\site-packages\\tqdm\\auto.py:21: TqdmWarning: IProgress not found. Please update jupyter and ipywidgets. See https://ipywidgets.readthedocs.io/en/stable/user_install.html\n",
      "  from .autonotebook import tqdm as notebook_tqdm\n"
     ]
    },
    {
     "name": "stdout",
     "output_type": "stream",
     "text": [
      "Instructions: Answer the following question about drug properties.\n",
      "Context: As a membrane separating circulating blood and brain extracellular fluid, the blood-brain barrier (BBB) is the protection layer that blocks most foreign drugs. Thus the ability of a drug to penetrate the barrier to deliver to the site of action forms a crucial challenge in development of drugs for central nervous system.\n",
      "Question: Given a drug SMILES string, predict whether it\n",
      "(A) does not cross the BBB (B) crosses the BBB\n",
      "Drug SMILES: CN1C(=O)CN=C(C2=CCCCC2)c2cc(Cl)ccc21\n",
      "Answer:\n"
     ]
    }
   ],
   "source": [
    "import json\n",
    "from huggingface_hub import hf_hub_download\n",
    "\n",
    "# Load prompt template for tasks from TDC\n",
    "tdc_prompts_filepath = hf_hub_download(\n",
    "    repo_id=\"google/txgemma-2b-predict\",\n",
    "    filename=\"tdc_prompts.json\",\n",
    ")\n",
    "with open(tdc_prompts_filepath, \"r\") as f:\n",
    "    tdc_prompts_json = json.load(f)\n",
    "\n",
    "# Set example TDC task and input\n",
    "task_name = \"BBB_Martins\"\n",
    "input_type = \"{Drug SMILES}\"\n",
    "drug_smiles = \"CN1C(=O)CN=C(C2=CCCCC2)c2cc(Cl)ccc21\"\n",
    "\n",
    "# Construct prompt using template and input drug SMILES string\n",
    "TDC_PROMPT = tdc_prompts_json[task_name].replace(input_type, drug_smiles)\n",
    "print(TDC_PROMPT)\n"
   ]
  },
  {
   "cell_type": "code",
   "execution_count": 3,
   "id": "f80cc58f",
   "metadata": {},
   "outputs": [
    {
     "name": "stderr",
     "output_type": "stream",
     "text": [
      "Loading checkpoint shards: 100%|██████████| 3/3 [00:08<00:00,  2.71s/it]\n",
      "Some parameters are on the meta device because they were offloaded to the cpu.\n"
     ]
    },
    {
     "name": "stdout",
     "output_type": "stream",
     "text": [
      "Instructions: Answer the following question about drug properties.\n",
      "Context: As a membrane separating circulating blood and brain extracellular fluid, the blood-brain barrier (BBB) is the protection layer that blocks most foreign drugs. Thus the ability of a drug to penetrate the barrier to deliver to the site of action forms a crucial challenge in development of drugs for central nervous system.\n",
      "Question: Given a drug SMILES string, predict whether it\n",
      "(A) does not cross the BBB (B) crosses the BBB\n",
      "Drug SMILES: CN1C(=O)CN=C(C2=CCCCC2)c2cc(Cl)ccc21\n",
      "Answer:(B)\n"
     ]
    }
   ],
   "source": [
    "# pip install accelerate transformers\n",
    "from transformers import AutoTokenizer, AutoModelForCausalLM\n",
    "\n",
    "# Load model directly from Hugging Face Hub\n",
    "tokenizer = AutoTokenizer.from_pretrained(\"google/txgemma-2b-predict\")\n",
    "model = AutoModelForCausalLM.from_pretrained(\n",
    "    \"google/txgemma-2b-predict\",\n",
    "    device_map=\"auto\",\n",
    ")\n",
    "\n",
    "# Formatted TDC prompt (see \"Formatting prompts for therapeutic tasks\" section above)\n",
    "prompt = TDC_PROMPT\n",
    "\n",
    "# Prepare tokenized inputs\n",
    "input_ids = tokenizer(prompt, return_tensors=\"pt\").to(\"cuda\")\n",
    "\n",
    "# Generate response\n",
    "outputs = model.generate(**input_ids, max_new_tokens=8)\n",
    "print(tokenizer.decode(outputs[0], skip_special_tokens=True))\n"
   ]
  }
 ],
 "metadata": {
  "kernelspec": {
   "display_name": "cdd223",
   "language": "python",
   "name": "python3"
  },
  "language_info": {
   "codemirror_mode": {
    "name": "ipython",
    "version": 3
   },
   "file_extension": ".py",
   "mimetype": "text/x-python",
   "name": "python",
   "nbconvert_exporter": "python",
   "pygments_lexer": "ipython3",
   "version": "3.10.11"
  }
 },
 "nbformat": 4,
 "nbformat_minor": 5
}
