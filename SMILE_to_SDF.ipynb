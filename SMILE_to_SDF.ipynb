{
 "cells": [
  {
   "cell_type": "code",
   "execution_count": 1,
   "id": "4eea1d19",
   "metadata": {},
   "outputs": [],
   "source": [
    "from rdkit import Chem\n",
    "from rdkit.Chem import AllChem\n",
    "import os\n",
    "import pandas as pd"
   ]
  },
  {
   "cell_type": "code",
   "execution_count": 2,
   "id": "68aaaaa2",
   "metadata": {},
   "outputs": [],
   "source": [
    "df = pd.read_csv(\"test.csv\")"
   ]
  },
  {
   "cell_type": "code",
   "execution_count": 3,
   "id": "1570d249",
   "metadata": {},
   "outputs": [
    {
     "name": "stdout",
     "output_type": "stream",
     "text": [
      "Saved molecules/molecule_1.sdf\n",
      "Saved molecules/molecule_2.sdf\n",
      "Saved molecules/molecule_3.sdf\n",
      "Saved molecules/molecule_4.sdf\n",
      "Saved molecules/molecule_5.sdf\n",
      "Saved molecules/molecule_6.sdf\n",
      "Saved molecules/molecule_7.sdf\n",
      "Saved molecules/molecule_8.sdf\n",
      "Saved molecules/molecule_9.sdf\n"
     ]
    }
   ],
   "source": [
    "smiles_list = df[\"SMILE String\"].tolist()\n",
    "\n",
    "for i, smile in enumerate(smiles_list):\n",
    "    mol = Chem.MolFromSmiles(smile)\n",
    "    if mol is None:\n",
    "        print(f\"Invalid SMILES at index {i}: {smile}\")\n",
    "        continue\n",
    "\n",
    "    mol = Chem.AddHs(mol)\n",
    "    AllChem.EmbedMolecule(mol)\n",
    "    AllChem.UFFOptimizeMolecule(mol)\n",
    "    \n",
    "\n",
    "    # create output folder\n",
    "    os.makedirs(\"molecules\", exist_ok=True)\n",
    "\n",
    "    # save each molecule\n",
    "    path = f\"molecules/molecule_{i+1}.sdf\"\n",
    "    w = Chem.SDWriter(path)\n",
    "    w.write(mol)\n",
    "    w.close()\n",
    "\n",
    "    print(f\"Saved {path}\")"
   ]
  },
  {
   "cell_type": "code",
   "execution_count": null,
   "id": "e6fdcfad",
   "metadata": {},
   "outputs": [
    {
     "name": "stdout",
     "output_type": "stream",
     "text": [
      "test\n"
     ]
    }
   ],
   "source": []
  },
  {
   "cell_type": "code",
   "execution_count": null,
   "id": "ec982386",
   "metadata": {},
   "outputs": [],
   "source": []
  }
 ],
 "metadata": {
  "kernelspec": {
   "display_name": "base",
   "language": "python",
   "name": "python3"
  },
  "language_info": {
   "codemirror_mode": {
    "name": "ipython",
    "version": 3
   },
   "file_extension": ".py",
   "mimetype": "text/x-python",
   "name": "python",
   "nbconvert_exporter": "python",
   "pygments_lexer": "ipython3",
   "version": "3.12.7"
  }
 },
 "nbformat": 4,
 "nbformat_minor": 5
}
