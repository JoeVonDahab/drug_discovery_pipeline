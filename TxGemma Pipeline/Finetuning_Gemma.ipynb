{
  "cells": [
    {
      "cell_type": "code",
      "execution_count": null,
      "id": "0fc23d95",
      "metadata": {
        "id": "0fc23d95"
      },
      "outputs": [],
      "source": [
        "import os\n",
        "from google.colab import userdata\n",
        "os.environ[\"HF_TOKEN\"] = userdata.get(\"HF_TOKEN\")"
      ]
    },
    {
      "cell_type": "markdown",
      "id": "ce7c2b59",
      "metadata": {
        "id": "ce7c2b59"
      },
      "source": [
        "# Install dependencies"
      ]
    },
    {
      "cell_type": "code",
      "execution_count": null,
      "id": "8Xi3v5kRDydu",
      "metadata": {
        "id": "8Xi3v5kRDydu"
      },
      "outputs": [],
      "source": [
        "! pip install --upgrade --quiet bitsandbytes datasets peft transformers trl rdkit"
      ]
    },
    {
      "cell_type": "markdown",
      "id": "537afddc",
      "metadata": {
        "id": "537afddc"
      },
      "source": [
        "# Load model from HF"
      ]
    },
    {
      "cell_type": "code",
      "execution_count": null,
      "id": "970a87b2",
      "metadata": {
        "id": "970a87b2"
      },
      "outputs": [],
      "source": [
        "import torch\n",
        "from transformers import AutoTokenizer, AutoModelForCausalLM, BitsAndBytesConfig\n",
        "\n",
        "base_model = \"google/txgemma-\"\n",
        "CHAT_VARIANT = \"9b-chat\" # @param [\"9b-chat\", \"27b-chat\"]\n",
        "\n",
        "model_id = base_model + CHAT_VARIANT\n",
        "\n",
        "# Use 4-bit quantization to reduce memory usage\n",
        "quantization_config = BitsAndBytesConfig(\n",
        "    load_in_4bit=True,\n",
        "    bnb_4bit_quant_type=\"nf4\",\n",
        "    bnb_4bit_compute_dtype=torch.bfloat16,\n",
        ")\n",
        "\n",
        "tokenizer = AutoTokenizer.from_pretrained(model_id)\n",
        "model = AutoModelForCausalLM.from_pretrained(\n",
        "    model_id,\n",
        "    quantization_config=quantization_config,\n",
        "    device_map={\"\":0},\n",
        "    torch_dtype=\"auto\",\n",
        "    attn_implementation=\"eager\",\n",
        ")"
      ]
    },
    {
      "cell_type": "markdown",
      "id": "8ca81a64",
      "metadata": {
        "id": "8ca81a64"
      },
      "source": [
        "# Load dataset and prepare train test split"
      ]
    },
    {
      "cell_type": "code",
      "execution_count": null,
      "id": "nrqQHoXFl9u0",
      "metadata": {
        "id": "nrqQHoXFl9u0"
      },
      "outputs": [],
      "source": [
        "import json\n",
        "\n",
        "with open(\"train_hif_binding.jsonl\",\"r\") as f:\n",
        "    binders = [json.loads(line) for line in f]\n",
        "\n",
        "# Create formatting function for LoRA later\n",
        "def formatting_func(example):\n",
        "    return f\"{example['prompt']}\\n{example['bind']}\"\n",
        "\n",
        "print(formatting_func(binders[0]))"
      ]
    },
    {
      "cell_type": "code",
      "execution_count": null,
      "id": "h6RagSrOp0mA",
      "metadata": {
        "id": "h6RagSrOp0mA"
      },
      "outputs": [],
      "source": [
        "import pandas as pd\n",
        "\n",
        "data = pd.DataFrame([\n",
        "    {\n",
        "        \"input\": ex[\"prompt\"],\n",
        "        \"output\": ex[\"bind\"]\n",
        "    }\n",
        "    for ex in binders\n",
        "])\n",
        "\n",
        "data"
      ]
    },
    {
      "cell_type": "markdown",
      "id": "V6m7PvHDqCkF",
      "metadata": {
        "id": "V6m7PvHDqCkF"
      },
      "source": [
        "## Spliting train test"
      ]
    },
    {
      "cell_type": "code",
      "execution_count": null,
      "id": "xSJYfyWYqCVa",
      "metadata": {
        "id": "xSJYfyWYqCVa"
      },
      "outputs": [],
      "source": [
        "from sklearn.model_selection import train_test_split\n",
        "\n",
        "train_data, test_data = train_test_split(data, test_size=0.1, random_state=42)\n",
        "\n",
        "train_data.reset_index(drop=True, inplace=True)\n",
        "test_data.reset_index(drop=True, inplace=True)\n",
        "\n",
        "train_data"
      ]
    },
    {
      "cell_type": "markdown",
      "id": "p21qqvZSI-ol",
      "metadata": {
        "id": "p21qqvZSI-ol"
      },
      "source": [
        "# Fine tuning the model (finally 😱)"
      ]
    },
    {
      "cell_type": "code",
      "execution_count": null,
      "id": "sL3vXhbTI2Xe",
      "metadata": {
        "id": "sL3vXhbTI2Xe"
      },
      "outputs": [],
      "source": [
        "from peft import LoraConfig\n",
        "\n",
        "lora_config = LoraConfig(\n",
        "    r=8,\n",
        "    task_type=\"CAUSAL_LM\",\n",
        "    target_modules=[\n",
        "        \"q_proj\",\n",
        "        \"o_proj\",\n",
        "        \"k_proj\",\n",
        "        \"v_proj\",\n",
        "        \"gate_proj\",\n",
        "        \"up_proj\",\n",
        "        \"down_proj\",\n",
        "    ],\n",
        ")"
      ]
    },
    {
      "cell_type": "code",
      "source": [
        "from peft import prepare_model_for_kbit_training, get_peft_model\n",
        "\n",
        "# Preprocess quantized model for training\n",
        "model = prepare_model_for_kbit_training(model)\n",
        "\n",
        "# Create PeftModel from quantized model and configuration\n",
        "model = get_peft_model(model, lora_config)"
      ],
      "metadata": {
        "id": "TvWRv0eAZUWZ"
      },
      "id": "TvWRv0eAZUWZ",
      "execution_count": null,
      "outputs": []
    },
    {
      "cell_type": "code",
      "source": [
        "import transformers\n",
        "from trl import SFTTrainer, SFTConfig\n",
        "\n",
        "trainer = SFTTrainer(\n",
        "    model=model,\n",
        "    train_dataset=train_data,\n",
        "    args=SFTConfig(\n",
        "        per_device_train_batch_size=1,\n",
        "        gradient_accumulation_steps=4,\n",
        "        warmup_steps=2,\n",
        "        max_steps=50,\n",
        "        learning_rate=2e-4,\n",
        "        fp16=True,\n",
        "        logging_steps=5,\n",
        "        max_seq_length=512,\n",
        "        output_dir=\"/content/outputs\",\n",
        "        optim=\"paged_adamw_8bit\",\n",
        "        report_to=\"none\",\n",
        "    ),\n",
        "    peft_config=lora_config,\n",
        "    formatting_func=formatting_func,\n",
        ")\n",
        ""
      ],
      "metadata": {
        "id": "iQzSUM2DZcpS"
      },
      "id": "iQzSUM2DZcpS",
      "execution_count": null,
      "outputs": []
    },
    {
      "cell_type": "code",
      "source": [
        "trainer.train()\n",
        "\n",
        "trainer.save_model()\n",
        "trainer.tokenizer.save_pretrained(\n",
        "    trainer.args.output_dir\n",
        ")"
      ],
      "metadata": {
        "id": "4dMDrZ2tZtwa"
      },
      "id": "4dMDrZ2tZtwa",
      "execution_count": null,
      "outputs": []
    },
    {
      "cell_type": "markdown",
      "source": [
        "# Test the fine-tuned model"
      ],
      "metadata": {
        "id": "4BUZI3vXak7U"
      },
      "id": "4BUZI3vXak7U"
    },
    {
      "cell_type": "code",
      "source": [
        "prompt = test_data.iloc[0][\"input\"]\n",
        "inputs = tokenizer(prompt, return_tensors=\"pt\").to(\"cuda\")\n",
        "\n",
        "outputs = model.generate(**inputs, max_new_tokens=8)\n",
        "print(tokenizer.decode(outputs[0], skip_special_tokens=True))"
      ],
      "metadata": {
        "id": "S9Hne2lcampz"
      },
      "id": "S9Hne2lcampz",
      "execution_count": null,
      "outputs": []
    },
    {
      "cell_type": "code",
      "source": [
        "print(f\"The correct output should be:\\n{test_data.iloc[0]['output']}\")"
      ],
      "metadata": {
        "id": "iW4RWnT3bUaa"
      },
      "id": "iW4RWnT3bUaa",
      "execution_count": null,
      "outputs": []
    }
  ],
  "metadata": {
    "accelerator": "GPU",
    "colab": {
      "gpuType": "T4",
      "provenance": []
    },
    "kernelspec": {
      "display_name": "Python 3",
      "name": "python3"
    },
    "language_info": {
      "name": "python"
    }
  },
  "nbformat": 4,
  "nbformat_minor": 5
}