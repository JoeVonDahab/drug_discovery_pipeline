{
 "cells": [
  {
   "cell_type": "code",
   "execution_count": null,
   "id": "0fc23d95",
   "metadata": {
    "id": "0fc23d95"
   },
   "outputs": [],
   "source": [
    "import os\n",
    "os.environ[\"HF_TOKEN\"] ="
   ]
  },
  {
   "cell_type": "markdown",
   "id": "ce7c2b59",
   "metadata": {
    "id": "ce7c2b59"
   },
   "source": [
    "# Install dependencies"
   ]
  },
  {
   "cell_type": "code",
   "execution_count": 2,
   "id": "8Xi3v5kRDydu",
   "metadata": {
    "id": "8Xi3v5kRDydu"
   },
   "outputs": [],
   "source": [
    "! pip install --upgrade --quiet bitsandbytes datasets peft transformers trl rdkit tf-keras"
   ]
  },
  {
   "cell_type": "markdown",
   "id": "537afddc",
   "metadata": {
    "id": "537afddc"
   },
   "source": [
    "# Load model from HF"
   ]
  },
  {
   "cell_type": "code",
   "execution_count": 3,
   "id": "a0a3f183-12d4-4543-92e6-f983a1dbc149",
   "metadata": {},
   "outputs": [
    {
     "name": "stdout",
     "output_type": "stream",
     "text": [
      "Defaulting to user installation because normal site-packages is not writeable\n",
      "Collecting numpy<2.0\n",
      "  Using cached numpy-1.26.4-cp310-cp310-manylinux_2_17_x86_64.manylinux2014_x86_64.whl (18.2 MB)\n",
      "Installing collected packages: numpy\n",
      "  Attempting uninstall: numpy\n",
      "    Found existing installation: numpy 1.26.4\n",
      "    Uninstalling numpy-1.26.4:\n",
      "      Successfully uninstalled numpy-1.26.4\n",
      "\u001b[33m  WARNING: The script f2py is installed in '/home/ubuntu/.local/bin' which is not on PATH.\n",
      "  Consider adding this directory to PATH or, if you prefer to suppress this warning, use --no-warn-script-location.\u001b[0m\u001b[33m\n",
      "\u001b[0mSuccessfully installed numpy-1.26.4\n"
     ]
    }
   ],
   "source": [
    "!pip install --upgrade --force-reinstall \"numpy<2.0\""
   ]
  },
  {
   "cell_type": "code",
   "execution_count": 4,
   "id": "6bb4edbf-50c5-42ed-a6b9-096f58e1d793",
   "metadata": {},
   "outputs": [
    {
     "name": "stdout",
     "output_type": "stream",
     "text": [
      "1.26.4\n"
     ]
    }
   ],
   "source": [
    "import numpy\n",
    "print(numpy.__version__) "
   ]
  },
  {
   "cell_type": "code",
   "execution_count": 5,
   "id": "970a87b2",
   "metadata": {
    "id": "970a87b2"
   },
   "outputs": [
    {
     "name": "stderr",
     "output_type": "stream",
     "text": [
      "/home/ubuntu/.local/lib/python3.10/site-packages/tqdm/auto.py:21: TqdmWarning: IProgress not found. Please update jupyter and ipywidgets. See https://ipywidgets.readthedocs.io/en/stable/user_install.html\n",
      "  from .autonotebook import tqdm as notebook_tqdm\n",
      "/usr/lib/python3/dist-packages/scipy/__init__.py:146: UserWarning: A NumPy version >=1.17.3 and <1.25.0 is required for this version of SciPy (detected version 1.26.4\n",
      "  warnings.warn(f\"A NumPy version >={np_minversion} and <{np_maxversion}\"\n",
      "2025-05-07 02:23:53.235807: E external/local_xla/xla/stream_executor/cuda/cuda_fft.cc:467] Unable to register cuFFT factory: Attempting to register factory for plugin cuFFT when one has already been registered\n",
      "WARNING: All log messages before absl::InitializeLog() is called are written to STDERR\n",
      "E0000 00:00:1746584633.254094   21654 cuda_dnn.cc:8579] Unable to register cuDNN factory: Attempting to register factory for plugin cuDNN when one has already been registered\n",
      "E0000 00:00:1746584633.259493   21654 cuda_blas.cc:1407] Unable to register cuBLAS factory: Attempting to register factory for plugin cuBLAS when one has already been registered\n",
      "W0000 00:00:1746584633.271473   21654 computation_placer.cc:177] computation placer already registered. Please check linkage and avoid linking the same target more than once.\n",
      "W0000 00:00:1746584633.271481   21654 computation_placer.cc:177] computation placer already registered. Please check linkage and avoid linking the same target more than once.\n",
      "W0000 00:00:1746584633.271483   21654 computation_placer.cc:177] computation placer already registered. Please check linkage and avoid linking the same target more than once.\n",
      "W0000 00:00:1746584633.271485   21654 computation_placer.cc:177] computation placer already registered. Please check linkage and avoid linking the same target more than once.\n",
      "2025-05-07 02:23:53.275533: I tensorflow/core/platform/cpu_feature_guard.cc:210] This TensorFlow binary is optimized to use available CPU instructions in performance-critical operations.\n",
      "To enable the following instructions: AVX2 FMA, in other operations, rebuild TensorFlow with the appropriate compiler flags.\n",
      "Loading checkpoint shards: 100%|██████████| 4/4 [00:14<00:00,  3.65s/it]\n"
     ]
    }
   ],
   "source": [
    "import torch\n",
    "from transformers import AutoTokenizer, AutoModelForCausalLM, BitsAndBytesConfig\n",
    "\n",
    "base_model = \"google/txgemma-\"\n",
    "CHAT_VARIANT = \"9b-chat\" # @param [\"9b-chat\", \"27b-chat\"]\n",
    "\n",
    "model_id = base_model + CHAT_VARIANT\n",
    "\n",
    "# Use 4-bit quantization to reduce memory usage\n",
    "quantization_config = BitsAndBytesConfig(\n",
    "    load_in_4bit=True,\n",
    "    bnb_4bit_quant_type=\"nf4\",\n",
    "    bnb_4bit_compute_dtype=torch.bfloat16,\n",
    ")\n",
    "\n",
    "tokenizer = AutoTokenizer.from_pretrained(model_id)\n",
    "model = AutoModelForCausalLM.from_pretrained(\n",
    "    model_id,\n",
    "    quantization_config=quantization_config,\n",
    "    device_map={\"\":0},\n",
    "    torch_dtype=\"auto\",\n",
    "    attn_implementation=\"eager\",\n",
    ")"
   ]
  },
  {
   "cell_type": "markdown",
   "id": "8ca81a64",
   "metadata": {
    "id": "8ca81a64"
   },
   "source": [
    "# Load dataset and prepare train test split"
   ]
  },
  {
   "cell_type": "code",
   "execution_count": 12,
   "id": "nrqQHoXFl9u0",
   "metadata": {
    "id": "nrqQHoXFl9u0"
   },
   "outputs": [
    {
     "name": "stdout",
     "output_type": "stream",
     "text": [
      "From the following information about a ligand, predict whether it can bind to the HIF-2α protein.\n",
      "\n",
      "This ligand is represented by the SMILES string O[C@H]1c2c(CC1(F)F)c(Oc1cc(F)cc(F)c1)ccc2C#N, and exhibits an IC50 of 35.0 nM (pIC50 = 7.46). It has a molecular weight of 323.25 Da, a topological polar surface area of 53.25 Å², 1.0 hydrogen bond donor, 3.0 hydrogen bond acceptors, and 2.0 rotatable bonds, with a logP of 3.85.\n",
      "\n",
      "Answer: Yes, it binds to HIF-2α<eos>\n"
     ]
    }
   ],
   "source": [
    "import json\n",
    "\n",
    "with open(\"train_hif_binding.jsonl\",\"r\") as f:\n",
    "    binders = [json.loads(line) for line in f]\n",
    "\n",
    "records = [\n",
    "    {\"input\": ex[\"prompt\"], \"output\": ex[\"bind\"]}\n",
    "    for ex in binders\n",
    "]\n",
    "\n",
    "def formatting_func(example):\n",
    "    return f\"{example['input']}\\n{example['output']}\"\n",
    "\n",
    "print(formatting_func(records[0]))"
   ]
  },
  {
   "cell_type": "code",
   "execution_count": 13,
   "id": "h6RagSrOp0mA",
   "metadata": {
    "id": "h6RagSrOp0mA"
   },
   "outputs": [
    {
     "data": {
      "text/html": [
       "<div>\n",
       "<style scoped>\n",
       "    .dataframe tbody tr th:only-of-type {\n",
       "        vertical-align: middle;\n",
       "    }\n",
       "\n",
       "    .dataframe tbody tr th {\n",
       "        vertical-align: top;\n",
       "    }\n",
       "\n",
       "    .dataframe thead th {\n",
       "        text-align: right;\n",
       "    }\n",
       "</style>\n",
       "<table border=\"1\" class=\"dataframe\">\n",
       "  <thead>\n",
       "    <tr style=\"text-align: right;\">\n",
       "      <th></th>\n",
       "      <th>input</th>\n",
       "      <th>output</th>\n",
       "    </tr>\n",
       "  </thead>\n",
       "  <tbody>\n",
       "    <tr>\n",
       "      <th>0</th>\n",
       "      <td>From the following information about a ligand,...</td>\n",
       "      <td>Answer: Yes, it binds to HIF-2α&lt;eos&gt;</td>\n",
       "    </tr>\n",
       "    <tr>\n",
       "      <th>1</th>\n",
       "      <td>From the following information about a ligand,...</td>\n",
       "      <td>Answer: Yes, it binds to HIF-2α&lt;eos&gt;</td>\n",
       "    </tr>\n",
       "    <tr>\n",
       "      <th>2</th>\n",
       "      <td>From the following information about a ligand,...</td>\n",
       "      <td>Answer: Yes, it binds to HIF-2α&lt;eos&gt;</td>\n",
       "    </tr>\n",
       "    <tr>\n",
       "      <th>3</th>\n",
       "      <td>From the following information about a ligand,...</td>\n",
       "      <td>Answer: No, it doesn't bind to HIF-2α&lt;eos&gt;</td>\n",
       "    </tr>\n",
       "    <tr>\n",
       "      <th>4</th>\n",
       "      <td>From the following information about a ligand,...</td>\n",
       "      <td>Answer: No, it doesn't bind to HIF-2α&lt;eos&gt;</td>\n",
       "    </tr>\n",
       "    <tr>\n",
       "      <th>...</th>\n",
       "      <td>...</td>\n",
       "      <td>...</td>\n",
       "    </tr>\n",
       "    <tr>\n",
       "      <th>1993</th>\n",
       "      <td>From the following information about a ligand,...</td>\n",
       "      <td>Answer: No, it doesn't bind to HIF-2α&lt;eos&gt;</td>\n",
       "    </tr>\n",
       "    <tr>\n",
       "      <th>1994</th>\n",
       "      <td>From the following information about a ligand,...</td>\n",
       "      <td>Answer: Yes, it binds to HIF-2α&lt;eos&gt;</td>\n",
       "    </tr>\n",
       "    <tr>\n",
       "      <th>1995</th>\n",
       "      <td>From the following information about a ligand,...</td>\n",
       "      <td>Answer: Yes, it binds to HIF-2α&lt;eos&gt;</td>\n",
       "    </tr>\n",
       "    <tr>\n",
       "      <th>1996</th>\n",
       "      <td>From the following information about a ligand,...</td>\n",
       "      <td>Answer: No, it doesn't bind to HIF-2α&lt;eos&gt;</td>\n",
       "    </tr>\n",
       "    <tr>\n",
       "      <th>1997</th>\n",
       "      <td>From the following information about a ligand,...</td>\n",
       "      <td>Answer: Yes, it binds to HIF-2α&lt;eos&gt;</td>\n",
       "    </tr>\n",
       "  </tbody>\n",
       "</table>\n",
       "<p>1998 rows × 2 columns</p>\n",
       "</div>"
      ],
      "text/plain": [
       "                                                  input  \\\n",
       "0     From the following information about a ligand,...   \n",
       "1     From the following information about a ligand,...   \n",
       "2     From the following information about a ligand,...   \n",
       "3     From the following information about a ligand,...   \n",
       "4     From the following information about a ligand,...   \n",
       "...                                                 ...   \n",
       "1993  From the following information about a ligand,...   \n",
       "1994  From the following information about a ligand,...   \n",
       "1995  From the following information about a ligand,...   \n",
       "1996  From the following information about a ligand,...   \n",
       "1997  From the following information about a ligand,...   \n",
       "\n",
       "                                          output  \n",
       "0           Answer: Yes, it binds to HIF-2α<eos>  \n",
       "1           Answer: Yes, it binds to HIF-2α<eos>  \n",
       "2           Answer: Yes, it binds to HIF-2α<eos>  \n",
       "3     Answer: No, it doesn't bind to HIF-2α<eos>  \n",
       "4     Answer: No, it doesn't bind to HIF-2α<eos>  \n",
       "...                                          ...  \n",
       "1993  Answer: No, it doesn't bind to HIF-2α<eos>  \n",
       "1994        Answer: Yes, it binds to HIF-2α<eos>  \n",
       "1995        Answer: Yes, it binds to HIF-2α<eos>  \n",
       "1996  Answer: No, it doesn't bind to HIF-2α<eos>  \n",
       "1997        Answer: Yes, it binds to HIF-2α<eos>  \n",
       "\n",
       "[1998 rows x 2 columns]"
      ]
     },
     "execution_count": 13,
     "metadata": {},
     "output_type": "execute_result"
    }
   ],
   "source": [
    "import pandas as pd\n",
    "\n",
    "data = pd.DataFrame([\n",
    "    {\n",
    "        \"input\": ex[\"prompt\"],\n",
    "        \"output\": ex[\"bind\"]\n",
    "    }\n",
    "    for ex in binders\n",
    "])\n",
    "\n",
    "data"
   ]
  },
  {
   "cell_type": "markdown",
   "id": "V6m7PvHDqCkF",
   "metadata": {
    "id": "V6m7PvHDqCkF"
   },
   "source": [
    "## Spliting train test"
   ]
  },
  {
   "cell_type": "code",
   "execution_count": 14,
   "id": "xSJYfyWYqCVa",
   "metadata": {
    "id": "xSJYfyWYqCVa"
   },
   "outputs": [
    {
     "data": {
      "text/html": [
       "<div>\n",
       "<style scoped>\n",
       "    .dataframe tbody tr th:only-of-type {\n",
       "        vertical-align: middle;\n",
       "    }\n",
       "\n",
       "    .dataframe tbody tr th {\n",
       "        vertical-align: top;\n",
       "    }\n",
       "\n",
       "    .dataframe thead th {\n",
       "        text-align: right;\n",
       "    }\n",
       "</style>\n",
       "<table border=\"1\" class=\"dataframe\">\n",
       "  <thead>\n",
       "    <tr style=\"text-align: right;\">\n",
       "      <th></th>\n",
       "      <th>input</th>\n",
       "      <th>output</th>\n",
       "    </tr>\n",
       "  </thead>\n",
       "  <tbody>\n",
       "    <tr>\n",
       "      <th>0</th>\n",
       "      <td>From the following information about a ligand,...</td>\n",
       "      <td>Answer: Yes, it binds to HIF-2α&lt;eos&gt;</td>\n",
       "    </tr>\n",
       "    <tr>\n",
       "      <th>1</th>\n",
       "      <td>From the following information about a ligand,...</td>\n",
       "      <td>Answer: Yes, it binds to HIF-2α&lt;eos&gt;</td>\n",
       "    </tr>\n",
       "    <tr>\n",
       "      <th>2</th>\n",
       "      <td>From the following information about a ligand,...</td>\n",
       "      <td>Answer: No, it doesn't bind to HIF-2α&lt;eos&gt;</td>\n",
       "    </tr>\n",
       "    <tr>\n",
       "      <th>3</th>\n",
       "      <td>From the following information about a ligand,...</td>\n",
       "      <td>Answer: Yes, it binds to HIF-2α&lt;eos&gt;</td>\n",
       "    </tr>\n",
       "    <tr>\n",
       "      <th>4</th>\n",
       "      <td>From the following information about a ligand,...</td>\n",
       "      <td>Answer: Yes, it binds to HIF-2α&lt;eos&gt;</td>\n",
       "    </tr>\n",
       "    <tr>\n",
       "      <th>...</th>\n",
       "      <td>...</td>\n",
       "      <td>...</td>\n",
       "    </tr>\n",
       "    <tr>\n",
       "      <th>1793</th>\n",
       "      <td>From the following information about a ligand,...</td>\n",
       "      <td>Answer: Yes, it binds to HIF-2α&lt;eos&gt;</td>\n",
       "    </tr>\n",
       "    <tr>\n",
       "      <th>1794</th>\n",
       "      <td>From the following information about a ligand,...</td>\n",
       "      <td>Answer: No, it doesn't bind to HIF-2α&lt;eos&gt;</td>\n",
       "    </tr>\n",
       "    <tr>\n",
       "      <th>1795</th>\n",
       "      <td>From the following information about a ligand,...</td>\n",
       "      <td>Answer: No, it doesn't bind to HIF-2α&lt;eos&gt;</td>\n",
       "    </tr>\n",
       "    <tr>\n",
       "      <th>1796</th>\n",
       "      <td>From the following information about a ligand,...</td>\n",
       "      <td>Answer: Yes, it binds to HIF-2α&lt;eos&gt;</td>\n",
       "    </tr>\n",
       "    <tr>\n",
       "      <th>1797</th>\n",
       "      <td>From the following information about a ligand,...</td>\n",
       "      <td>Answer: No, it doesn't bind to HIF-2α&lt;eos&gt;</td>\n",
       "    </tr>\n",
       "  </tbody>\n",
       "</table>\n",
       "<p>1798 rows × 2 columns</p>\n",
       "</div>"
      ],
      "text/plain": [
       "                                                  input  \\\n",
       "0     From the following information about a ligand,...   \n",
       "1     From the following information about a ligand,...   \n",
       "2     From the following information about a ligand,...   \n",
       "3     From the following information about a ligand,...   \n",
       "4     From the following information about a ligand,...   \n",
       "...                                                 ...   \n",
       "1793  From the following information about a ligand,...   \n",
       "1794  From the following information about a ligand,...   \n",
       "1795  From the following information about a ligand,...   \n",
       "1796  From the following information about a ligand,...   \n",
       "1797  From the following information about a ligand,...   \n",
       "\n",
       "                                          output  \n",
       "0           Answer: Yes, it binds to HIF-2α<eos>  \n",
       "1           Answer: Yes, it binds to HIF-2α<eos>  \n",
       "2     Answer: No, it doesn't bind to HIF-2α<eos>  \n",
       "3           Answer: Yes, it binds to HIF-2α<eos>  \n",
       "4           Answer: Yes, it binds to HIF-2α<eos>  \n",
       "...                                          ...  \n",
       "1793        Answer: Yes, it binds to HIF-2α<eos>  \n",
       "1794  Answer: No, it doesn't bind to HIF-2α<eos>  \n",
       "1795  Answer: No, it doesn't bind to HIF-2α<eos>  \n",
       "1796        Answer: Yes, it binds to HIF-2α<eos>  \n",
       "1797  Answer: No, it doesn't bind to HIF-2α<eos>  \n",
       "\n",
       "[1798 rows x 2 columns]"
      ]
     },
     "execution_count": 14,
     "metadata": {},
     "output_type": "execute_result"
    }
   ],
   "source": [
    "from sklearn.model_selection import train_test_split\n",
    "\n",
    "train_data, test_data = train_test_split(data, test_size=0.1, random_state=42)\n",
    "\n",
    "train_data.reset_index(drop=True, inplace=True)\n",
    "test_data.reset_index(drop=True, inplace=True)\n",
    "\n",
    "train_data"
   ]
  },
  {
   "cell_type": "markdown",
   "id": "p21qqvZSI-ol",
   "metadata": {
    "id": "p21qqvZSI-ol"
   },
   "source": [
    "# Fine tuning the model (finally 😱)"
   ]
  },
  {
   "cell_type": "code",
   "execution_count": 15,
   "id": "sL3vXhbTI2Xe",
   "metadata": {
    "id": "sL3vXhbTI2Xe"
   },
   "outputs": [],
   "source": [
    "from peft import LoraConfig\n",
    "\n",
    "lora_config = LoraConfig(\n",
    "    r=8,\n",
    "    task_type=\"CAUSAL_LM\",\n",
    "    target_modules=[\n",
    "        \"q_proj\",\n",
    "        \"o_proj\",\n",
    "        \"k_proj\",\n",
    "        \"v_proj\",\n",
    "        \"gate_proj\",\n",
    "        \"up_proj\",\n",
    "        \"down_proj\",\n",
    "    ],\n",
    ")"
   ]
  },
  {
   "cell_type": "code",
   "execution_count": 16,
   "id": "TvWRv0eAZUWZ",
   "metadata": {
    "id": "TvWRv0eAZUWZ"
   },
   "outputs": [
    {
     "name": "stderr",
     "output_type": "stream",
     "text": [
      "/home/ubuntu/.local/lib/python3.10/site-packages/peft/mapping_func.py:73: UserWarning: You are trying to modify a model with PEFT for a second time. If you want to reload the model with a different config, make sure to call `.unload()` before.\n",
      "  warnings.warn(\n",
      "/home/ubuntu/.local/lib/python3.10/site-packages/peft/tuners/tuners_utils.py:167: UserWarning: Already found a `peft_config` attribute in the model. This will lead to having multiple adapters in the model. Make sure to know what you are doing!\n",
      "  warnings.warn(\n"
     ]
    }
   ],
   "source": [
    "from peft import prepare_model_for_kbit_training, get_peft_model\n",
    "\n",
    "# Preprocess quantized model for training\n",
    "model = prepare_model_for_kbit_training(model)\n",
    "\n",
    "# Create PeftModel from quantized model and configuration\n",
    "model = get_peft_model(model, lora_config)"
   ]
  },
  {
   "cell_type": "code",
   "execution_count": 18,
   "id": "iQzSUM2DZcpS",
   "metadata": {
    "id": "iQzSUM2DZcpS"
   },
   "outputs": [
    {
     "name": "stderr",
     "output_type": "stream",
     "text": [
      "Applying formatting function to train dataset: 100%|██████████| 1798/1798 [00:00<00:00, 17969.61 examples/s]\n",
      "Converting train dataset to ChatML: 100%|██████████| 1798/1798 [00:00<00:00, 24910.35 examples/s]\n",
      "Adding EOS to train dataset: 100%|██████████| 1798/1798 [00:00<00:00, 19269.72 examples/s]\n",
      "Tokenizing train dataset: 100%|██████████| 1798/1798 [00:00<00:00, 2429.27 examples/s]\n",
      "Truncating train dataset: 100%|██████████| 1798/1798 [00:00<00:00, 288113.03 examples/s]\n",
      "Applying formatting function to eval dataset: 100%|██████████| 200/200 [00:00<00:00, 16697.73 examples/s]\n",
      "Converting eval dataset to ChatML: 100%|██████████| 200/200 [00:00<00:00, 19595.43 examples/s]\n",
      "Adding EOS to eval dataset: 100%|██████████| 200/200 [00:00<00:00, 15920.99 examples/s]\n",
      "Tokenizing eval dataset: 100%|██████████| 200/200 [00:00<00:00, 2323.40 examples/s]\n",
      "Truncating eval dataset: 100%|██████████| 200/200 [00:00<00:00, 62925.57 examples/s]\n",
      "No label_names provided for model class `PeftModelForCausalLM`. Since `PeftModel` hides base models input arguments, if label_names is not given, label_names can't be set automatically within `Trainer`. Note that empty label_names list will be used instead.\n"
     ]
    }
   ],
   "source": [
    "import transformers\n",
    "from trl import SFTTrainer, SFTConfig\n",
    "from datasets import Dataset\n",
    "\n",
    "train_records = train_data.to_dict(orient=\"records\")\n",
    "test_records  = test_data.to_dict(orient=\"records\")\n",
    "\n",
    "hf_train = Dataset.from_list(train_records)\n",
    "hf_eval  = Dataset.from_list(test_records)\n",
    "\n",
    "trainer = SFTTrainer(\n",
    "    model=model,\n",
    "    train_dataset = hf_train,\n",
    "    eval_dataset  = hf_eval,\n",
    "    args=SFTConfig(\n",
    "        per_device_train_batch_size=1,\n",
    "        gradient_accumulation_steps=4,\n",
    "        warmup_steps=2,\n",
    "        max_steps=50,\n",
    "        learning_rate=2e-4,\n",
    "        fp16=True,\n",
    "        logging_steps=5,\n",
    "        max_seq_length=512,\n",
    "        output_dir=\"./outputs\",\n",
    "        optim=\"paged_adamw_8bit\",\n",
    "        report_to=\"none\",\n",
    "    ),\n",
    "    peft_config=lora_config,\n",
    "    formatting_func=formatting_func,\n",
    ")\n"
   ]
  },
  {
   "cell_type": "code",
   "execution_count": 19,
   "id": "4dMDrZ2tZtwa",
   "metadata": {
    "id": "4dMDrZ2tZtwa"
   },
   "outputs": [
    {
     "name": "stderr",
     "output_type": "stream",
     "text": [
      "`use_cache=True` is incompatible with gradient checkpointing. Setting `use_cache=False`.\n",
      "/usr/lib/python3/dist-packages/torch/_dynamo/eval_frame.py:745: UserWarning: torch.utils.checkpoint: the use_reentrant parameter should be passed explicitly. In version 2.5 we will raise an exception if use_reentrant is not passed. use_reentrant=False is recommended, but if you need to preserve the current default behavior, you can pass use_reentrant=True. Refer to docs for more details on the differences between the two variants.\n",
      "  return fn(*args, **kwargs)\n"
     ]
    },
    {
     "data": {
      "text/html": [
       "\n",
       "    <div>\n",
       "      \n",
       "      <progress value='50' max='50' style='width:300px; height:20px; vertical-align: middle;'></progress>\n",
       "      [50/50 01:51, Epoch 0/1]\n",
       "    </div>\n",
       "    <table border=\"1\" class=\"dataframe\">\n",
       "  <thead>\n",
       " <tr style=\"text-align: left;\">\n",
       "      <th>Step</th>\n",
       "      <th>Training Loss</th>\n",
       "    </tr>\n",
       "  </thead>\n",
       "  <tbody>\n",
       "    <tr>\n",
       "      <td>5</td>\n",
       "      <td>3.152400</td>\n",
       "    </tr>\n",
       "    <tr>\n",
       "      <td>10</td>\n",
       "      <td>1.035200</td>\n",
       "    </tr>\n",
       "    <tr>\n",
       "      <td>15</td>\n",
       "      <td>0.680200</td>\n",
       "    </tr>\n",
       "    <tr>\n",
       "      <td>20</td>\n",
       "      <td>0.679300</td>\n",
       "    </tr>\n",
       "    <tr>\n",
       "      <td>25</td>\n",
       "      <td>0.594600</td>\n",
       "    </tr>\n",
       "    <tr>\n",
       "      <td>30</td>\n",
       "      <td>0.594000</td>\n",
       "    </tr>\n",
       "    <tr>\n",
       "      <td>35</td>\n",
       "      <td>0.570000</td>\n",
       "    </tr>\n",
       "    <tr>\n",
       "      <td>40</td>\n",
       "      <td>0.561700</td>\n",
       "    </tr>\n",
       "    <tr>\n",
       "      <td>45</td>\n",
       "      <td>0.541800</td>\n",
       "    </tr>\n",
       "    <tr>\n",
       "      <td>50</td>\n",
       "      <td>0.514500</td>\n",
       "    </tr>\n",
       "  </tbody>\n",
       "</table><p>"
      ],
      "text/plain": [
       "<IPython.core.display.HTML object>"
      ]
     },
     "metadata": {},
     "output_type": "display_data"
    },
    {
     "name": "stderr",
     "output_type": "stream",
     "text": [
      "Trainer.tokenizer is now deprecated. You should use Trainer.processing_class instead.\n"
     ]
    },
    {
     "data": {
      "text/plain": [
       "('./outputs/tokenizer_config.json',\n",
       " './outputs/special_tokens_map.json',\n",
       " './outputs/tokenizer.json')"
      ]
     },
     "execution_count": 19,
     "metadata": {},
     "output_type": "execute_result"
    }
   ],
   "source": [
    "trainer.train()\n",
    "\n",
    "trainer.save_model()\n",
    "trainer.tokenizer.save_pretrained(\n",
    "    trainer.args.output_dir\n",
    ")"
   ]
  },
  {
   "cell_type": "markdown",
   "id": "4BUZI3vXak7U",
   "metadata": {
    "id": "4BUZI3vXak7U"
   },
   "source": [
    "# Test the fine-tuned model"
   ]
  },
  {
   "cell_type": "code",
   "execution_count": 60,
   "id": "ac086fe1-4616-43cf-80ef-bb45ad9a69c6",
   "metadata": {},
   "outputs": [],
   "source": [
    "i = 13"
   ]
  },
  {
   "cell_type": "code",
   "execution_count": null,
   "id": "S9Hne2lcampz",
   "metadata": {
    "id": "S9Hne2lcampz"
   },
   "outputs": [],
   "source": [
    "import torch\n",
    "from torch.amp import autocast\n",
    "\n",
    "model = model.to(\"cuda\").eval()\n",
    "\n",
    "prompt = test_data.iloc[i][\"input\"]\n",
    "inputs = tokenizer(prompt, return_tensors=\"pt\").to(\"cuda\")\n",
    "\n",
    "# Note: first argument is device type, not a keyword\n",
    "with autocast(\"cuda\", dtype=torch.bfloat16):\n",
    "    outputs = model.generate(**inputs, max_new_tokens=8)\n",
    "\n",
    "print(tokenizer.decode(outputs[0], skip_special_tokens=True))"
   ]
  },
  {
   "cell_type": "code",
   "execution_count": null,
   "id": "iW4RWnT3bUaa",
   "metadata": {
    "id": "iW4RWnT3bUaa"
   },
   "outputs": [],
   "source": [
    "print(f\"The correct output should be:\\n{test_data.iloc[i]['output']}\")"
   ]
  },
  {
   "cell_type": "code",
   "execution_count": null,
   "id": "b6f748d3-6d24-4ee1-b263-41af398e9098",
   "metadata": {},
   "outputs": [],
   "source": []
  }
 ],
 "metadata": {
  "accelerator": "GPU",
  "colab": {
   "gpuType": "T4",
   "provenance": []
  },
  "kernelspec": {
   "display_name": "Python 3 (ipykernel)",
   "language": "python",
   "name": "python3"
  },
  "language_info": {
   "codemirror_mode": {
    "name": "ipython",
    "version": 3
   },
   "file_extension": ".py",
   "mimetype": "text/x-python",
   "name": "python",
   "nbconvert_exporter": "python",
   "pygments_lexer": "ipython3",
   "version": "3.10.12"
  }
 },
 "nbformat": 4,
 "nbformat_minor": 5
}
