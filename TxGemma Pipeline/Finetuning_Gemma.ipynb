{
  "cells": [
    {
      "cell_type": "code",
      "execution_count": 11,
      "id": "0fc23d95",
      "metadata": {
        "id": "0fc23d95"
      },
      "outputs": [],
      "source": [
        "import os\n",
        "from google.colab import userdata\n",
        "os.environ[\"HF_TOKEN\"] = userdata.get(\"HF_TOKEN\")"
      ]
    },
    {
      "cell_type": "markdown",
      "id": "ce7c2b59",
      "metadata": {
        "id": "ce7c2b59"
      },
      "source": [
        "# Install dependencies"
      ]
    },
    {
      "cell_type": "code",
      "source": [
        "! pip install --upgrade --quiet bitsandbytes datasets peft transformers trl rdkit"
      ],
      "metadata": {
        "id": "8Xi3v5kRDydu",
        "colab": {
          "base_uri": "https://localhost:8080/"
        },
        "outputId": "74ba88ec-9b51-4926-c7f0-f1bbbda53dae"
      },
      "id": "8Xi3v5kRDydu",
      "execution_count": 1,
      "outputs": [
        {
          "output_type": "stream",
          "name": "stdout",
          "text": [
            "\u001b[2K   \u001b[90m━━━━━━━━━━━━━━━━━━━━━━━━━━━━━━━━━━━━━━━━\u001b[0m \u001b[32m76.1/76.1 MB\u001b[0m \u001b[31m12.2 MB/s\u001b[0m eta \u001b[36m0:00:00\u001b[0m\n",
            "\u001b[2K   \u001b[90m━━━━━━━━━━━━━━━━━━━━━━━━━━━━━━━━━━━━━━━━\u001b[0m \u001b[32m491.4/491.4 kB\u001b[0m \u001b[31m37.7 MB/s\u001b[0m eta \u001b[36m0:00:00\u001b[0m\n",
            "\u001b[2K   \u001b[90m━━━━━━━━━━━━━━━━━━━━━━━━━━━━━━━━━━━━━━━━\u001b[0m \u001b[32m348.0/348.0 kB\u001b[0m \u001b[31m28.2 MB/s\u001b[0m eta \u001b[36m0:00:00\u001b[0m\n",
            "\u001b[2K   \u001b[90m━━━━━━━━━━━━━━━━━━━━━━━━━━━━━━━━━━━━━━━━\u001b[0m \u001b[32m34.3/34.3 MB\u001b[0m \u001b[31m62.2 MB/s\u001b[0m eta \u001b[36m0:00:00\u001b[0m\n",
            "\u001b[2K   \u001b[90m━━━━━━━━━━━━━━━━━━━━━━━━━━━━━━━━━━━━━━━━\u001b[0m \u001b[32m116.3/116.3 kB\u001b[0m \u001b[31m10.2 MB/s\u001b[0m eta \u001b[36m0:00:00\u001b[0m\n",
            "\u001b[2K   \u001b[90m━━━━━━━━━━━━━━━━━━━━━━━━━━━━━━━━━━━━━━━━\u001b[0m \u001b[32m193.6/193.6 kB\u001b[0m \u001b[31m18.3 MB/s\u001b[0m eta \u001b[36m0:00:00\u001b[0m\n",
            "\u001b[2K   \u001b[90m━━━━━━━━━━━━━━━━━━━━━━━━━━━━━━━━━━━━━━━━\u001b[0m \u001b[32m143.5/143.5 kB\u001b[0m \u001b[31m12.6 MB/s\u001b[0m eta \u001b[36m0:00:00\u001b[0m\n",
            "\u001b[2K   \u001b[90m━━━━━━━━━━━━━━━━━━━━━━━━━━━━━━━━━━━━━━━━\u001b[0m \u001b[32m363.4/363.4 MB\u001b[0m \u001b[31m4.0 MB/s\u001b[0m eta \u001b[36m0:00:00\u001b[0m\n",
            "\u001b[2K   \u001b[90m━━━━━━━━━━━━━━━━━━━━━━━━━━━━━━━━━━━━━━━━\u001b[0m \u001b[32m13.8/13.8 MB\u001b[0m \u001b[31m42.6 MB/s\u001b[0m eta \u001b[36m0:00:00\u001b[0m\n",
            "\u001b[2K   \u001b[90m━━━━━━━━━━━━━━━━━━━━━━━━━━━━━━━━━━━━━━━━\u001b[0m \u001b[32m24.6/24.6 MB\u001b[0m \u001b[31m44.1 MB/s\u001b[0m eta \u001b[36m0:00:00\u001b[0m\n",
            "\u001b[2K   \u001b[90m━━━━━━━━━━━━━━━━━━━━━━━━━━━━━━━━━━━━━━━━\u001b[0m \u001b[32m883.7/883.7 kB\u001b[0m \u001b[31m35.1 MB/s\u001b[0m eta \u001b[36m0:00:00\u001b[0m\n",
            "\u001b[2K   \u001b[90m━━━━━━━━━━━━━━━━━━━━━━━━━━━━━━━━━━━━━━━━\u001b[0m \u001b[32m664.8/664.8 MB\u001b[0m \u001b[31m2.1 MB/s\u001b[0m eta \u001b[36m0:00:00\u001b[0m\n",
            "\u001b[2K   \u001b[90m━━━━━━━━━━━━━━━━━━━━━━━━━━━━━━━━━━━━━━━━\u001b[0m \u001b[32m211.5/211.5 MB\u001b[0m \u001b[31m2.0 MB/s\u001b[0m eta \u001b[36m0:00:00\u001b[0m\n",
            "\u001b[2K   \u001b[90m━━━━━━━━━━━━━━━━━━━━━━━━━━━━━━━━━━━━━━━━\u001b[0m \u001b[32m56.3/56.3 MB\u001b[0m \u001b[31m12.7 MB/s\u001b[0m eta \u001b[36m0:00:00\u001b[0m\n",
            "\u001b[2K   \u001b[90m━━━━━━━━━━━━━━━━━━━━━━━━━━━━━━━━━━━━━━━━\u001b[0m \u001b[32m127.9/127.9 MB\u001b[0m \u001b[31m10.1 MB/s\u001b[0m eta \u001b[36m0:00:00\u001b[0m\n",
            "\u001b[2K   \u001b[90m━━━━━━━━━━━━━━━━━━━━━━━━━━━━━━━━━━━━━━━━\u001b[0m \u001b[32m207.5/207.5 MB\u001b[0m \u001b[31m6.4 MB/s\u001b[0m eta \u001b[36m0:00:00\u001b[0m\n",
            "\u001b[2K   \u001b[90m━━━━━━━━━━━━━━━━━━━━━━━━━━━━━━━━━━━━━━━━\u001b[0m \u001b[32m21.1/21.1 MB\u001b[0m \u001b[31m72.3 MB/s\u001b[0m eta \u001b[36m0:00:00\u001b[0m\n",
            "\u001b[2K   \u001b[90m━━━━━━━━━━━━━━━━━━━━━━━━━━━━━━━━━━━━━━━━\u001b[0m \u001b[32m194.8/194.8 kB\u001b[0m \u001b[31m17.3 MB/s\u001b[0m eta \u001b[36m0:00:00\u001b[0m\n",
            "\u001b[?25h\u001b[31mERROR: pip's dependency resolver does not currently take into account all the packages that are installed. This behaviour is the source of the following dependency conflicts.\n",
            "gcsfs 2025.3.2 requires fsspec==2025.3.2, but you have fsspec 2025.3.0 which is incompatible.\u001b[0m\u001b[31m\n",
            "\u001b[0m"
          ]
        }
      ]
    },
    {
      "cell_type": "markdown",
      "id": "537afddc",
      "metadata": {
        "id": "537afddc"
      },
      "source": [
        "# Load model from HF"
      ]
    },
    {
      "cell_type": "code",
      "execution_count": null,
      "id": "970a87b2",
      "metadata": {
        "id": "970a87b2"
      },
      "outputs": [],
      "source": [
        "import torch\n",
        "from transformers import AutoTokenizer, AutoModelForCausalLM, BitsAndBytesConfig\n",
        "\n",
        "base_model = \"google/txgemma-\"\n",
        "CHAT_VARIANT = \"9b-chat\" # @param [\"9b-chat\", \"27b-chat\"]\n",
        "\n",
        "model_id = base_model + CHAT_VARIANT\n",
        "\n",
        "# Use 4-bit quantization to reduce memory usage\n",
        "quantization_config = BitsAndBytesConfig(\n",
        "    load_in_4bit=True,\n",
        "    bnb_4bit_quant_type=\"nf4\",\n",
        "    bnb_4bit_compute_dtype=torch.bfloat16,\n",
        ")\n",
        "\n",
        "tokenizer = AutoTokenizer.from_pretrained(model_id)\n",
        "model = AutoModelForCausalLM.from_pretrained(\n",
        "    model_id,\n",
        "    quantization_config=quantization_config,\n",
        "    device_map={\"\":0},\n",
        "    torch_dtype=\"auto\",\n",
        "    attn_implementation=\"eager\",\n",
        ")"
      ]
    },
    {
      "cell_type": "markdown",
      "id": "b127cb8e",
      "metadata": {
        "id": "b127cb8e"
      },
      "source": [
        "# Load Dataset and Clean It"
      ]
    },
    {
      "cell_type": "markdown",
      "source": [
        "## Known Binders to Q99814 · EPAS1 (taken from BindingDB curated by UCSD)"
      ],
      "metadata": {
        "id": "Ei-xCvGnv8ZG"
      },
      "id": "Ei-xCvGnv8ZG"
    },
    {
      "cell_type": "code",
      "execution_count": null,
      "id": "c25db361",
      "metadata": {
        "id": "c25db361"
      },
      "outputs": [],
      "source": [
        "import pandas as pd\n",
        "\n",
        "df = pd.read_csv(\"Known_HIF_Binders.csv\")"
      ]
    },
    {
      "cell_type": "code",
      "source": [
        "clean_df = df[[\"Ligand SMILES\", \"IC50 (nM)\"]].dropna()\n",
        "\n",
        "# remove rows that contain '<' or '>'\n",
        "has_censor = clean_df[\"IC50 (nM)\"] \\\n",
        "    .astype(str) \\\n",
        "    .str.contains(r\"[<>]\")\n",
        "\n",
        "# count how many rows will be dropped\n",
        "dropped_count = has_censor.sum()\n",
        "print(f\"Dropping {dropped_count} rows with '<' or '>' in IC50\")\n",
        "\n",
        "# keep only the rows *without* '<' or '>'\n",
        "clean_df = clean_df.loc[~has_censor].reset_index(drop=True)\n",
        "clean_df"
      ],
      "metadata": {
        "id": "-sHka3yIJ-bf"
      },
      "id": "-sHka3yIJ-bf",
      "execution_count": null,
      "outputs": []
    },
    {
      "cell_type": "code",
      "source": [
        "import re\n",
        "import numpy as np\n",
        "from rdkit import Chem\n",
        "from rdkit.Chem import Descriptors, Crippen, Lipinski\n",
        "\n",
        "# Clean & standardize IC50, compute pIC50\n",
        "def parse_ic50_to_pic50(ic50_str):\n",
        "    s = str(ic50_str).strip()\n",
        "    try:\n",
        "        nm = float(s)\n",
        "    except ValueError:\n",
        "        return np.nan\n",
        "\n",
        "    # convert nM → M\n",
        "    m = nm * 1e-9\n",
        "    # compute pIC50\n",
        "    pic50 = -np.log10(m)\n",
        "    return pic50\n",
        "\n",
        "clean_df[\"pIC50\"] = clean_df[\"IC50 (nM)\"].apply(parse_ic50_to_pic50)\n",
        "\n",
        "# Bin into activity classes\n",
        "# strong binder if pIC50 ≥ 7 (IC50 ≤ 100 nM), else weak/non-binder\n",
        "threshold = 7.0\n",
        "clean_df[\"activity_class\"] = np.where(clean_df[\"pIC50\"] >= threshold, \"strong\", \"weak\")\n",
        "\n",
        "# Compute 2D descriptors via RDKit\n",
        "def compute_descriptors(smiles):\n",
        "    mol = Chem.MolFromSmiles(smiles)\n",
        "    if mol is None:\n",
        "        return {\n",
        "            \"MolWt\": np.nan,\n",
        "            \"TPSA\": np.nan,\n",
        "            \"HBD\": np.nan,\n",
        "            \"HBA\": np.nan,\n",
        "            \"RotBonds\": np.nan,\n",
        "            \"LogP\": np.nan,\n",
        "        }\n",
        "    return {\n",
        "        \"MolWt\": Descriptors.MolWt(mol),\n",
        "        \"TPSA\": Descriptors.TPSA(mol),\n",
        "        \"HBD\": Lipinski.NumHDonors(mol),\n",
        "        \"HBA\": Lipinski.NumHAcceptors(mol),\n",
        "        \"RotBonds\": Descriptors.NumRotatableBonds(mol),\n",
        "        \"LogP\": Crippen.MolLogP(mol),\n",
        "    }\n",
        "\n",
        "# apply and expand into separate columns\n",
        "desc_df = clean_df[\"Ligand SMILES\"].apply(compute_descriptors).apply(pd.Series)\n",
        "clean_df = pd.concat([clean_df, desc_df], axis=1)\n",
        "clean_df[\"is_known_binder\"] = True\n",
        "\n",
        "# View the table\n",
        "print(clean_df.head())"
      ],
      "metadata": {
        "id": "hA2w5RjnXeMZ"
      },
      "id": "hA2w5RjnXeMZ",
      "execution_count": null,
      "outputs": []
    },
    {
      "cell_type": "markdown",
      "source": [
        "## Duds (Taken from BindingDB on Compounds that Bind to ESR1 · P03372)"
      ],
      "metadata": {
        "id": "3xoQB-q5v-zM"
      },
      "id": "3xoQB-q5v-zM"
    },
    {
      "cell_type": "code",
      "source": [
        "df = pd.read_csv(\"ESR1_Binders.csv\")"
      ],
      "metadata": {
        "id": "bG3gxKzTwqSc"
      },
      "id": "bG3gxKzTwqSc",
      "execution_count": null,
      "outputs": []
    },
    {
      "cell_type": "code",
      "source": [
        "esr1_df = df[[\"Ligand SMILES\", \"IC50 (nM)\"]].dropna()\n",
        "\n",
        "# remove rows that contain '<' or '>'\n",
        "has_censor = esr1_df[\"IC50 (nM)\"] \\\n",
        "    .astype(str) \\\n",
        "    .str.contains(r\"[<>]\")\n",
        "\n",
        "# count how many rows will be dropped\n",
        "dropped_count = has_censor.sum()\n",
        "print(f\"Dropping {dropped_count} rows with '<' or '>' in IC50\")\n",
        "\n",
        "# keep only the rows *without* '<' or '>'\n",
        "esr1_df = esr1_df.loc[~has_censor].reset_index(drop=True)\n",
        "esr1_df.reset_index(drop=True, inplace=True)\n",
        "esr1_df"
      ],
      "metadata": {
        "id": "ZqUT4mArEh6h"
      },
      "id": "ZqUT4mArEh6h",
      "execution_count": null,
      "outputs": []
    },
    {
      "cell_type": "code",
      "source": [
        "esr1_df[\"pIC50\"] = esr1_df[\"IC50 (nM)\"].apply(parse_ic50_to_pic50)\n",
        "\n",
        "esr1_df[\"activity_class\"] = np.where(esr1_df[\"pIC50\"] >= threshold, \"strong\", \"weak\")\n",
        "\n",
        "\n",
        "# apply and expand into separate columns\n",
        "temp_df = esr1_df[\"Ligand SMILES\"].apply(compute_descriptors).apply(pd.Series)\n",
        "esr1_df = pd.concat([esr1_df, temp_df], axis=1)\n",
        "esr1_df[\"is_known_binder\"] = False\n",
        "\n",
        "\n",
        "print(esr1_df.head())"
      ],
      "metadata": {
        "id": "8I30Ct05Emxc"
      },
      "id": "8I30Ct05Emxc",
      "execution_count": null,
      "outputs": []
    },
    {
      "cell_type": "markdown",
      "source": [
        "## Joining the known and unknown binders"
      ],
      "metadata": {
        "id": "MB3Pg8QxHYbo"
      },
      "id": "MB3Pg8QxHYbo"
    },
    {
      "cell_type": "code",
      "source": [
        "all_binders = pd.concat([clean_df, esr1_df], axis=0, ignore_index=True)"
      ],
      "metadata": {
        "id": "f_mGLgAZFmKI"
      },
      "id": "f_mGLgAZFmKI",
      "execution_count": null,
      "outputs": []
    },
    {
      "cell_type": "code",
      "source": [
        "# mix up dataset to avoid patterns\n",
        "perm = np.random.permutation(len(all_binders))\n",
        "all_binders = all_binders.iloc[perm].reset_index(drop=True)\n",
        "\n",
        "all_binders.to_csv(\"all_binders.csv\", index=False)"
      ],
      "metadata": {
        "id": "ByHYaN1SIp3n"
      },
      "id": "ByHYaN1SIp3n",
      "execution_count": null,
      "outputs": []
    },
    {
      "cell_type": "markdown",
      "source": [
        "## Turning CSV to jsonl"
      ],
      "metadata": {
        "id": "A1vMIwwFOr8r"
      },
      "id": "A1vMIwwFOr8r"
    },
    {
      "cell_type": "code",
      "source": [
        "import pandas as pd\n",
        "\n",
        "all_binders = pd.read_csv(\"all_binders.csv\")\n",
        "\n",
        "test = all_binders.head(1)\n"
      ],
      "metadata": {
        "id": "bOxPMknkOrfJ"
      },
      "id": "bOxPMknkOrfJ",
      "execution_count": 2,
      "outputs": []
    },
    {
      "cell_type": "code",
      "source": [
        "import json\n",
        "\n",
        "def make_example(row):\n",
        "    prompt = (\n",
        "        \"From the following information about a ligand, predict whether it can bind to the HIF-2α protein.\\n\\n\"\n",
        "        f\"This ligand is represented by the SMILES string {row['Ligand SMILES']}, and exhibits an IC50 of \"\n",
        "        f\"{row['IC50 (nM)']} nM (pIC50 = {row['pIC50']:.2f}). It has a molecular weight of {row['MolWt']:.2f} Da, \"\n",
        "        f\"a topological polar surface area of {row['TPSA']:.2f} Å², {row['HBD']} hydrogen bond donor\"\n",
        "        f\"{'s' if row['HBD'] != 1 else ''}, {row['HBA']} hydrogen bond acceptor\"\n",
        "        f\"{'s' if row['HBA'] != 1 else ''}, and {row['RotBonds']} rotatable bond\"\n",
        "        f\"{'s' if row['RotBonds'] != 1 else ''}, with a logP of {row['LogP']:.2f}.\\n\"\n",
        "    )\n",
        "    completion = \"Answer: Yes, it binds to HIF-2α<eos>\" if row[\"is_known_binder\"] else \"Answer: No, it doesn't bind to HIF-2α<eos>\"\n",
        "    return {\"prompt\": prompt, \"bind\": completion}\n",
        "\n",
        "\n",
        "with open(\"train_hif_binding.jsonl\",\"w\") as fout:\n",
        "    for _, row in all_binders.iterrows():\n",
        "        ex = make_example(row)\n",
        "        fout.write(json.dumps(ex) + \"\\n\")"
      ],
      "metadata": {
        "id": "bIZkT_-RZcpv"
      },
      "id": "bIZkT_-RZcpv",
      "execution_count": 3,
      "outputs": []
    },
    {
      "cell_type": "code",
      "source": [
        "import json\n",
        "\n",
        "with open(\"train_hif_binding.jsonl\",\"r\") as f:\n",
        "    binders = [json.loads(line) for line in f]\n",
        "\n",
        "# Create formatting function for LoRA later\n",
        "def formatting_func(example):\n",
        "    return f\"{example['prompt']}\\n{example['bind']}\"\n",
        "\n",
        "print(formatting_func(binders[0]))"
      ],
      "metadata": {
        "id": "nrqQHoXFl9u0",
        "outputId": "ae52b38d-67fb-4208-f9a8-64615b35b32a",
        "colab": {
          "base_uri": "https://localhost:8080/"
        }
      },
      "id": "nrqQHoXFl9u0",
      "execution_count": 4,
      "outputs": [
        {
          "output_type": "stream",
          "name": "stdout",
          "text": [
            "From the following information about a ligand, predict whether it can bind to the HIF-2α protein.\n",
            "\n",
            "This ligand is represented by the SMILES string O[C@H]1c2c(CC1(F)F)c(Oc1cc(F)cc(F)c1)ccc2C#N, and exhibits an IC50 of 35.0 nM (pIC50 = 7.46). It has a molecular weight of 323.25 Da, a topological polar surface area of 53.25 Å², 1.0 hydrogen bond donor, 3.0 hydrogen bond acceptors, and 2.0 rotatable bonds, with a logP of 3.85.\n",
            "\n",
            "Answer: Yes, it binds to HIF-2α<eos>\n"
          ]
        }
      ]
    },
    {
      "cell_type": "code",
      "source": [
        "data = (\n",
        "    all_binders\n",
        "    .apply(make_example, axis=1, result_type=\"expand\")\n",
        "    .rename(columns={\"prompt\":\"input\", \"bind\":\"output\"})\n",
        ")\n",
        "print(data.head())\n"
      ],
      "metadata": {
        "id": "h6RagSrOp0mA",
        "outputId": "456e6654-78cb-4e87-eab3-5b92e4b8af5e",
        "colab": {
          "base_uri": "https://localhost:8080/"
        }
      },
      "id": "h6RagSrOp0mA",
      "execution_count": 5,
      "outputs": [
        {
          "output_type": "stream",
          "name": "stdout",
          "text": [
            "                                               input  \\\n",
            "0  From the following information about a ligand,...   \n",
            "1  From the following information about a ligand,...   \n",
            "2  From the following information about a ligand,...   \n",
            "3  From the following information about a ligand,...   \n",
            "4  From the following information about a ligand,...   \n",
            "\n",
            "                                       output  \n",
            "0        Answer: Yes, it binds to HIF-2α<eos>  \n",
            "1        Answer: Yes, it binds to HIF-2α<eos>  \n",
            "2        Answer: Yes, it binds to HIF-2α<eos>  \n",
            "3  Answer: No, it doesn't bind to HIF-2α<eos>  \n",
            "4  Answer: No, it doesn't bind to HIF-2α<eos>  \n"
          ]
        }
      ]
    },
    {
      "cell_type": "markdown",
      "source": [
        "## Spliting train test"
      ],
      "metadata": {
        "id": "V6m7PvHDqCkF"
      },
      "id": "V6m7PvHDqCkF"
    },
    {
      "cell_type": "code",
      "source": [
        "from sklearn.model_selection import train_test_split\n",
        "\n",
        "train_data, test_data = train_test_split(data, test_size=0.2, random_state=42)\n",
        "\n",
        "train_data"
      ],
      "metadata": {
        "id": "xSJYfyWYqCVa",
        "outputId": "94322ce7-fc9c-43cb-e4af-b68f534d625d",
        "colab": {
          "base_uri": "https://localhost:8080/",
          "height": 423
        }
      },
      "id": "xSJYfyWYqCVa",
      "execution_count": 9,
      "outputs": [
        {
          "output_type": "execute_result",
          "data": {
            "text/plain": [
              "                                                  input  \\\n",
              "240   From the following information about a ligand,...   \n",
              "812   From the following information about a ligand,...   \n",
              "1240  From the following information about a ligand,...   \n",
              "1280  From the following information about a ligand,...   \n",
              "1084  From the following information about a ligand,...   \n",
              "...                                                 ...   \n",
              "1130  From the following information about a ligand,...   \n",
              "1294  From the following information about a ligand,...   \n",
              "860   From the following information about a ligand,...   \n",
              "1459  From the following information about a ligand,...   \n",
              "1126  From the following information about a ligand,...   \n",
              "\n",
              "                                          output  \n",
              "240   Answer: No, it doesn't bind to HIF-2α<eos>  \n",
              "812         Answer: Yes, it binds to HIF-2α<eos>  \n",
              "1240  Answer: No, it doesn't bind to HIF-2α<eos>  \n",
              "1280  Answer: No, it doesn't bind to HIF-2α<eos>  \n",
              "1084  Answer: No, it doesn't bind to HIF-2α<eos>  \n",
              "...                                          ...  \n",
              "1130        Answer: Yes, it binds to HIF-2α<eos>  \n",
              "1294  Answer: No, it doesn't bind to HIF-2α<eos>  \n",
              "860   Answer: No, it doesn't bind to HIF-2α<eos>  \n",
              "1459        Answer: Yes, it binds to HIF-2α<eos>  \n",
              "1126  Answer: No, it doesn't bind to HIF-2α<eos>  \n",
              "\n",
              "[1598 rows x 2 columns]"
            ],
            "text/html": [
              "\n",
              "  <div id=\"df-97a2dc4e-2445-462d-b6d7-9c77e89bd15d\" class=\"colab-df-container\">\n",
              "    <div>\n",
              "<style scoped>\n",
              "    .dataframe tbody tr th:only-of-type {\n",
              "        vertical-align: middle;\n",
              "    }\n",
              "\n",
              "    .dataframe tbody tr th {\n",
              "        vertical-align: top;\n",
              "    }\n",
              "\n",
              "    .dataframe thead th {\n",
              "        text-align: right;\n",
              "    }\n",
              "</style>\n",
              "<table border=\"1\" class=\"dataframe\">\n",
              "  <thead>\n",
              "    <tr style=\"text-align: right;\">\n",
              "      <th></th>\n",
              "      <th>input</th>\n",
              "      <th>output</th>\n",
              "    </tr>\n",
              "  </thead>\n",
              "  <tbody>\n",
              "    <tr>\n",
              "      <th>240</th>\n",
              "      <td>From the following information about a ligand,...</td>\n",
              "      <td>Answer: No, it doesn't bind to HIF-2α&lt;eos&gt;</td>\n",
              "    </tr>\n",
              "    <tr>\n",
              "      <th>812</th>\n",
              "      <td>From the following information about a ligand,...</td>\n",
              "      <td>Answer: Yes, it binds to HIF-2α&lt;eos&gt;</td>\n",
              "    </tr>\n",
              "    <tr>\n",
              "      <th>1240</th>\n",
              "      <td>From the following information about a ligand,...</td>\n",
              "      <td>Answer: No, it doesn't bind to HIF-2α&lt;eos&gt;</td>\n",
              "    </tr>\n",
              "    <tr>\n",
              "      <th>1280</th>\n",
              "      <td>From the following information about a ligand,...</td>\n",
              "      <td>Answer: No, it doesn't bind to HIF-2α&lt;eos&gt;</td>\n",
              "    </tr>\n",
              "    <tr>\n",
              "      <th>1084</th>\n",
              "      <td>From the following information about a ligand,...</td>\n",
              "      <td>Answer: No, it doesn't bind to HIF-2α&lt;eos&gt;</td>\n",
              "    </tr>\n",
              "    <tr>\n",
              "      <th>...</th>\n",
              "      <td>...</td>\n",
              "      <td>...</td>\n",
              "    </tr>\n",
              "    <tr>\n",
              "      <th>1130</th>\n",
              "      <td>From the following information about a ligand,...</td>\n",
              "      <td>Answer: Yes, it binds to HIF-2α&lt;eos&gt;</td>\n",
              "    </tr>\n",
              "    <tr>\n",
              "      <th>1294</th>\n",
              "      <td>From the following information about a ligand,...</td>\n",
              "      <td>Answer: No, it doesn't bind to HIF-2α&lt;eos&gt;</td>\n",
              "    </tr>\n",
              "    <tr>\n",
              "      <th>860</th>\n",
              "      <td>From the following information about a ligand,...</td>\n",
              "      <td>Answer: No, it doesn't bind to HIF-2α&lt;eos&gt;</td>\n",
              "    </tr>\n",
              "    <tr>\n",
              "      <th>1459</th>\n",
              "      <td>From the following information about a ligand,...</td>\n",
              "      <td>Answer: Yes, it binds to HIF-2α&lt;eos&gt;</td>\n",
              "    </tr>\n",
              "    <tr>\n",
              "      <th>1126</th>\n",
              "      <td>From the following information about a ligand,...</td>\n",
              "      <td>Answer: No, it doesn't bind to HIF-2α&lt;eos&gt;</td>\n",
              "    </tr>\n",
              "  </tbody>\n",
              "</table>\n",
              "<p>1598 rows × 2 columns</p>\n",
              "</div>\n",
              "    <div class=\"colab-df-buttons\">\n",
              "\n",
              "  <div class=\"colab-df-container\">\n",
              "    <button class=\"colab-df-convert\" onclick=\"convertToInteractive('df-97a2dc4e-2445-462d-b6d7-9c77e89bd15d')\"\n",
              "            title=\"Convert this dataframe to an interactive table.\"\n",
              "            style=\"display:none;\">\n",
              "\n",
              "  <svg xmlns=\"http://www.w3.org/2000/svg\" height=\"24px\" viewBox=\"0 -960 960 960\">\n",
              "    <path d=\"M120-120v-720h720v720H120Zm60-500h600v-160H180v160Zm220 220h160v-160H400v160Zm0 220h160v-160H400v160ZM180-400h160v-160H180v160Zm440 0h160v-160H620v160ZM180-180h160v-160H180v160Zm440 0h160v-160H620v160Z\"/>\n",
              "  </svg>\n",
              "    </button>\n",
              "\n",
              "  <style>\n",
              "    .colab-df-container {\n",
              "      display:flex;\n",
              "      gap: 12px;\n",
              "    }\n",
              "\n",
              "    .colab-df-convert {\n",
              "      background-color: #E8F0FE;\n",
              "      border: none;\n",
              "      border-radius: 50%;\n",
              "      cursor: pointer;\n",
              "      display: none;\n",
              "      fill: #1967D2;\n",
              "      height: 32px;\n",
              "      padding: 0 0 0 0;\n",
              "      width: 32px;\n",
              "    }\n",
              "\n",
              "    .colab-df-convert:hover {\n",
              "      background-color: #E2EBFA;\n",
              "      box-shadow: 0px 1px 2px rgba(60, 64, 67, 0.3), 0px 1px 3px 1px rgba(60, 64, 67, 0.15);\n",
              "      fill: #174EA6;\n",
              "    }\n",
              "\n",
              "    .colab-df-buttons div {\n",
              "      margin-bottom: 4px;\n",
              "    }\n",
              "\n",
              "    [theme=dark] .colab-df-convert {\n",
              "      background-color: #3B4455;\n",
              "      fill: #D2E3FC;\n",
              "    }\n",
              "\n",
              "    [theme=dark] .colab-df-convert:hover {\n",
              "      background-color: #434B5C;\n",
              "      box-shadow: 0px 1px 3px 1px rgba(0, 0, 0, 0.15);\n",
              "      filter: drop-shadow(0px 1px 2px rgba(0, 0, 0, 0.3));\n",
              "      fill: #FFFFFF;\n",
              "    }\n",
              "  </style>\n",
              "\n",
              "    <script>\n",
              "      const buttonEl =\n",
              "        document.querySelector('#df-97a2dc4e-2445-462d-b6d7-9c77e89bd15d button.colab-df-convert');\n",
              "      buttonEl.style.display =\n",
              "        google.colab.kernel.accessAllowed ? 'block' : 'none';\n",
              "\n",
              "      async function convertToInteractive(key) {\n",
              "        const element = document.querySelector('#df-97a2dc4e-2445-462d-b6d7-9c77e89bd15d');\n",
              "        const dataTable =\n",
              "          await google.colab.kernel.invokeFunction('convertToInteractive',\n",
              "                                                    [key], {});\n",
              "        if (!dataTable) return;\n",
              "\n",
              "        const docLinkHtml = 'Like what you see? Visit the ' +\n",
              "          '<a target=\"_blank\" href=https://colab.research.google.com/notebooks/data_table.ipynb>data table notebook</a>'\n",
              "          + ' to learn more about interactive tables.';\n",
              "        element.innerHTML = '';\n",
              "        dataTable['output_type'] = 'display_data';\n",
              "        await google.colab.output.renderOutput(dataTable, element);\n",
              "        const docLink = document.createElement('div');\n",
              "        docLink.innerHTML = docLinkHtml;\n",
              "        element.appendChild(docLink);\n",
              "      }\n",
              "    </script>\n",
              "  </div>\n",
              "\n",
              "\n",
              "    <div id=\"df-5d14c035-13c6-495f-8faa-54e4a3dc9ff8\">\n",
              "      <button class=\"colab-df-quickchart\" onclick=\"quickchart('df-5d14c035-13c6-495f-8faa-54e4a3dc9ff8')\"\n",
              "                title=\"Suggest charts\"\n",
              "                style=\"display:none;\">\n",
              "\n",
              "<svg xmlns=\"http://www.w3.org/2000/svg\" height=\"24px\"viewBox=\"0 0 24 24\"\n",
              "     width=\"24px\">\n",
              "    <g>\n",
              "        <path d=\"M19 3H5c-1.1 0-2 .9-2 2v14c0 1.1.9 2 2 2h14c1.1 0 2-.9 2-2V5c0-1.1-.9-2-2-2zM9 17H7v-7h2v7zm4 0h-2V7h2v10zm4 0h-2v-4h2v4z\"/>\n",
              "    </g>\n",
              "</svg>\n",
              "      </button>\n",
              "\n",
              "<style>\n",
              "  .colab-df-quickchart {\n",
              "      --bg-color: #E8F0FE;\n",
              "      --fill-color: #1967D2;\n",
              "      --hover-bg-color: #E2EBFA;\n",
              "      --hover-fill-color: #174EA6;\n",
              "      --disabled-fill-color: #AAA;\n",
              "      --disabled-bg-color: #DDD;\n",
              "  }\n",
              "\n",
              "  [theme=dark] .colab-df-quickchart {\n",
              "      --bg-color: #3B4455;\n",
              "      --fill-color: #D2E3FC;\n",
              "      --hover-bg-color: #434B5C;\n",
              "      --hover-fill-color: #FFFFFF;\n",
              "      --disabled-bg-color: #3B4455;\n",
              "      --disabled-fill-color: #666;\n",
              "  }\n",
              "\n",
              "  .colab-df-quickchart {\n",
              "    background-color: var(--bg-color);\n",
              "    border: none;\n",
              "    border-radius: 50%;\n",
              "    cursor: pointer;\n",
              "    display: none;\n",
              "    fill: var(--fill-color);\n",
              "    height: 32px;\n",
              "    padding: 0;\n",
              "    width: 32px;\n",
              "  }\n",
              "\n",
              "  .colab-df-quickchart:hover {\n",
              "    background-color: var(--hover-bg-color);\n",
              "    box-shadow: 0 1px 2px rgba(60, 64, 67, 0.3), 0 1px 3px 1px rgba(60, 64, 67, 0.15);\n",
              "    fill: var(--button-hover-fill-color);\n",
              "  }\n",
              "\n",
              "  .colab-df-quickchart-complete:disabled,\n",
              "  .colab-df-quickchart-complete:disabled:hover {\n",
              "    background-color: var(--disabled-bg-color);\n",
              "    fill: var(--disabled-fill-color);\n",
              "    box-shadow: none;\n",
              "  }\n",
              "\n",
              "  .colab-df-spinner {\n",
              "    border: 2px solid var(--fill-color);\n",
              "    border-color: transparent;\n",
              "    border-bottom-color: var(--fill-color);\n",
              "    animation:\n",
              "      spin 1s steps(1) infinite;\n",
              "  }\n",
              "\n",
              "  @keyframes spin {\n",
              "    0% {\n",
              "      border-color: transparent;\n",
              "      border-bottom-color: var(--fill-color);\n",
              "      border-left-color: var(--fill-color);\n",
              "    }\n",
              "    20% {\n",
              "      border-color: transparent;\n",
              "      border-left-color: var(--fill-color);\n",
              "      border-top-color: var(--fill-color);\n",
              "    }\n",
              "    30% {\n",
              "      border-color: transparent;\n",
              "      border-left-color: var(--fill-color);\n",
              "      border-top-color: var(--fill-color);\n",
              "      border-right-color: var(--fill-color);\n",
              "    }\n",
              "    40% {\n",
              "      border-color: transparent;\n",
              "      border-right-color: var(--fill-color);\n",
              "      border-top-color: var(--fill-color);\n",
              "    }\n",
              "    60% {\n",
              "      border-color: transparent;\n",
              "      border-right-color: var(--fill-color);\n",
              "    }\n",
              "    80% {\n",
              "      border-color: transparent;\n",
              "      border-right-color: var(--fill-color);\n",
              "      border-bottom-color: var(--fill-color);\n",
              "    }\n",
              "    90% {\n",
              "      border-color: transparent;\n",
              "      border-bottom-color: var(--fill-color);\n",
              "    }\n",
              "  }\n",
              "</style>\n",
              "\n",
              "      <script>\n",
              "        async function quickchart(key) {\n",
              "          const quickchartButtonEl =\n",
              "            document.querySelector('#' + key + ' button');\n",
              "          quickchartButtonEl.disabled = true;  // To prevent multiple clicks.\n",
              "          quickchartButtonEl.classList.add('colab-df-spinner');\n",
              "          try {\n",
              "            const charts = await google.colab.kernel.invokeFunction(\n",
              "                'suggestCharts', [key], {});\n",
              "          } catch (error) {\n",
              "            console.error('Error during call to suggestCharts:', error);\n",
              "          }\n",
              "          quickchartButtonEl.classList.remove('colab-df-spinner');\n",
              "          quickchartButtonEl.classList.add('colab-df-quickchart-complete');\n",
              "        }\n",
              "        (() => {\n",
              "          let quickchartButtonEl =\n",
              "            document.querySelector('#df-5d14c035-13c6-495f-8faa-54e4a3dc9ff8 button');\n",
              "          quickchartButtonEl.style.display =\n",
              "            google.colab.kernel.accessAllowed ? 'block' : 'none';\n",
              "        })();\n",
              "      </script>\n",
              "    </div>\n",
              "\n",
              "  <div id=\"id_f8bb8645-09ff-4ae2-8e95-a82bcd8953a3\">\n",
              "    <style>\n",
              "      .colab-df-generate {\n",
              "        background-color: #E8F0FE;\n",
              "        border: none;\n",
              "        border-radius: 50%;\n",
              "        cursor: pointer;\n",
              "        display: none;\n",
              "        fill: #1967D2;\n",
              "        height: 32px;\n",
              "        padding: 0 0 0 0;\n",
              "        width: 32px;\n",
              "      }\n",
              "\n",
              "      .colab-df-generate:hover {\n",
              "        background-color: #E2EBFA;\n",
              "        box-shadow: 0px 1px 2px rgba(60, 64, 67, 0.3), 0px 1px 3px 1px rgba(60, 64, 67, 0.15);\n",
              "        fill: #174EA6;\n",
              "      }\n",
              "\n",
              "      [theme=dark] .colab-df-generate {\n",
              "        background-color: #3B4455;\n",
              "        fill: #D2E3FC;\n",
              "      }\n",
              "\n",
              "      [theme=dark] .colab-df-generate:hover {\n",
              "        background-color: #434B5C;\n",
              "        box-shadow: 0px 1px 3px 1px rgba(0, 0, 0, 0.15);\n",
              "        filter: drop-shadow(0px 1px 2px rgba(0, 0, 0, 0.3));\n",
              "        fill: #FFFFFF;\n",
              "      }\n",
              "    </style>\n",
              "    <button class=\"colab-df-generate\" onclick=\"generateWithVariable('train_data')\"\n",
              "            title=\"Generate code using this dataframe.\"\n",
              "            style=\"display:none;\">\n",
              "\n",
              "  <svg xmlns=\"http://www.w3.org/2000/svg\" height=\"24px\"viewBox=\"0 0 24 24\"\n",
              "       width=\"24px\">\n",
              "    <path d=\"M7,19H8.4L18.45,9,17,7.55,7,17.6ZM5,21V16.75L18.45,3.32a2,2,0,0,1,2.83,0l1.4,1.43a1.91,1.91,0,0,1,.58,1.4,1.91,1.91,0,0,1-.58,1.4L9.25,21ZM18.45,9,17,7.55Zm-12,3A5.31,5.31,0,0,0,4.9,8.1,5.31,5.31,0,0,0,1,6.5,5.31,5.31,0,0,0,4.9,4.9,5.31,5.31,0,0,0,6.5,1,5.31,5.31,0,0,0,8.1,4.9,5.31,5.31,0,0,0,12,6.5,5.46,5.46,0,0,0,6.5,12Z\"/>\n",
              "  </svg>\n",
              "    </button>\n",
              "    <script>\n",
              "      (() => {\n",
              "      const buttonEl =\n",
              "        document.querySelector('#id_f8bb8645-09ff-4ae2-8e95-a82bcd8953a3 button.colab-df-generate');\n",
              "      buttonEl.style.display =\n",
              "        google.colab.kernel.accessAllowed ? 'block' : 'none';\n",
              "\n",
              "      buttonEl.onclick = () => {\n",
              "        google.colab.notebook.generateWithVariable('train_data');\n",
              "      }\n",
              "      })();\n",
              "    </script>\n",
              "  </div>\n",
              "\n",
              "    </div>\n",
              "  </div>\n"
            ],
            "application/vnd.google.colaboratory.intrinsic+json": {
              "type": "dataframe",
              "variable_name": "train_data",
              "summary": "{\n  \"name\": \"train_data\",\n  \"rows\": 1598,\n  \"fields\": [\n    {\n      \"column\": \"input\",\n      \"properties\": {\n        \"dtype\": \"string\",\n        \"num_unique_values\": 1518,\n        \"samples\": [\n          \"From the following information about a ligand, predict whether it can bind to the HIF-2\\u03b1 protein.\\n\\nThis ligand is represented by the SMILES string CCCC(CCC)(c1ccc(O)c(C)c1)c1ccc(O)c(C)c1, and exhibits an IC50 of 4.9 nM (pIC50 = 8.31). It has a molecular weight of 312.45 Da, a topological polar surface area of 40.46 \\u00c5\\u00b2, 2.0 hydrogen bond donors, 2.0 hydrogen bond acceptors, and 6.0 rotatable bonds, with a logP of 5.60.\\n\",\n          \"From the following information about a ligand, predict whether it can bind to the HIF-2\\u03b1 protein.\\n\\nThis ligand is represented by the SMILES string C[C@]12CC[C@H]3[C@@H](CCc4cc(O)ccc34)[C@@H]1CCC2=O, and exhibits an IC50 of 480.0 nM (pIC50 = 6.32). It has a molecular weight of 270.37 Da, a topological polar surface area of 37.30 \\u00c5\\u00b2, 1.0 hydrogen bond donor, 2.0 hydrogen bond acceptors, and 0.0 rotatable bonds, with a logP of 3.82.\\n\",\n          \"From the following information about a ligand, predict whether it can bind to the HIF-2\\u03b1 protein.\\n\\nThis ligand is represented by the SMILES string Cc1coc-2c1C(=O)C(=O)c1c3CCCC(C)(C)c3ccc-21, and exhibits an IC50 of 7530.0 nM (pIC50 = 5.12). It has a molecular weight of 294.35 Da, a topological polar surface area of 47.28 \\u00c5\\u00b2, 0.0 hydrogen bond donors, 3.0 hydrogen bond acceptors, and 0.0 rotatable bonds, with a logP of 4.25.\\n\"\n        ],\n        \"semantic_type\": \"\",\n        \"description\": \"\"\n      }\n    },\n    {\n      \"column\": \"output\",\n      \"properties\": {\n        \"dtype\": \"category\",\n        \"num_unique_values\": 2,\n        \"samples\": [\n          \"Answer: Yes, it binds to HIF-2\\u03b1<eos>\",\n          \"Answer: No, it doesn't bind to HIF-2\\u03b1<eos>\"\n        ],\n        \"semantic_type\": \"\",\n        \"description\": \"\"\n      }\n    }\n  ]\n}"
            }
          },
          "metadata": {},
          "execution_count": 9
        }
      ]
    },
    {
      "cell_type": "markdown",
      "source": [
        "# Fine tuning the model (finally 😱)"
      ],
      "metadata": {
        "id": "p21qqvZSI-ol"
      },
      "id": "p21qqvZSI-ol"
    },
    {
      "cell_type": "code",
      "source": [],
      "metadata": {
        "id": "sL3vXhbTI2Xe"
      },
      "id": "sL3vXhbTI2Xe",
      "execution_count": null,
      "outputs": []
    }
  ],
  "metadata": {
    "language_info": {
      "name": "python"
    },
    "colab": {
      "provenance": [],
      "gpuType": "T4"
    },
    "kernelspec": {
      "name": "python3",
      "display_name": "Python 3"
    },
    "accelerator": "GPU"
  },
  "nbformat": 4,
  "nbformat_minor": 5
}