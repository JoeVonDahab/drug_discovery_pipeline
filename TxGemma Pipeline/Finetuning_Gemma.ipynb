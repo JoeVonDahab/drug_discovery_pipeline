{
 "cells": [
  {
   "cell_type": "code",
   "execution_count": null,
   "id": "0fc23d95",
   "metadata": {},
   "outputs": [],
   "source": [
    "import os\n",
    "from google.colab import userdata\n",
    "os.environ[\"HF_TOKEN\"] = userdata.get(\"HF_TOKEN\")"
   ]
  },
  {
   "cell_type": "markdown",
   "id": "ce7c2b59",
   "metadata": {},
   "source": [
    "# Install dependencies"
   ]
  },
  {
   "cell_type": "markdown",
   "id": "c090a1da",
   "metadata": {},
   "source": [
    "! pip install --upgrade --quiet bitsandbytes datasets peft transformers trl"
   ]
  },
  {
   "cell_type": "markdown",
   "id": "537afddc",
   "metadata": {},
   "source": [
    "# Load model from HF"
   ]
  },
  {
   "cell_type": "code",
   "execution_count": null,
   "id": "970a87b2",
   "metadata": {},
   "outputs": [],
   "source": [
    "import torch\n",
    "from transformers import AutoTokenizer, AutoModelForCausalLM, BitsAndBytesConfig\n",
    "\n",
    "model_id = \"google/txgemma-2b-predict\"\n",
    "\n",
    "# Use 4-bit quantization to reduce memory usage\n",
    "quantization_config = BitsAndBytesConfig(\n",
    "    load_in_4bit=True,\n",
    "    bnb_4bit_quant_type=\"nf4\",\n",
    "    bnb_4bit_compute_dtype=torch.bfloat16,\n",
    ")\n",
    "\n",
    "tokenizer = AutoTokenizer.from_pretrained(model_id)\n",
    "model = AutoModelForCausalLM.from_pretrained(\n",
    "    model_id,\n",
    "    quantization_config=quantization_config,\n",
    "    device_map={\"\":0},\n",
    "    torch_dtype=\"auto\",\n",
    "    attn_implementation=\"eager\",\n",
    ")"
   ]
  },
  {
   "cell_type": "markdown",
   "id": "b127cb8e",
   "metadata": {},
   "source": [
    "# Load Dataset"
   ]
  },
  {
   "cell_type": "code",
   "execution_count": null,
   "id": "c25db361",
   "metadata": {},
   "outputs": [],
   "source": [
    "import pandas as pd\n",
    "\n",
    "data = pd.read_csv()"
   ]
  },
  {
   "cell_type": "code",
   "execution_count": null,
   "id": "32cc20ef",
   "metadata": {},
   "outputs": [],
   "source": [
    "\"TODO: compute pLogP with RDKit and Tanimoto against known binder\""
   ]
  }
 ],
 "metadata": {
  "language_info": {
   "name": "python"
  }
 },
 "nbformat": 4,
 "nbformat_minor": 5
}
