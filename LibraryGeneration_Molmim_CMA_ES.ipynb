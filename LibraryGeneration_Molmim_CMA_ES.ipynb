{
  "cells": [
    {
      "cell_type": "markdown",
      "metadata": {
        "id": "37GTnpBZJrT4"
      },
      "source": [
        "# Set Up Environment\n",
        "\n"
      ]
    },
    {
      "cell_type": "code",
      "execution_count": null,
      "metadata": {
        "colab": {
          "base_uri": "https://localhost:8080/"
        },
        "id": "hz0aUeRgHgqn",
        "outputId": "2f2bcda8-b2e6-4082-ce06-008f622ee179"
      },
      "outputs": [],
      "source": [
        "!pip install rdkit python-dotenv pandas numpy matplotlib loguru py3dmol"
      ]
    },
    {
      "cell_type": "code",
      "execution_count": 2,
      "metadata": {
        "id": "8J3LNpj7JnOi"
      },
      "outputs": [],
      "source": [
        "import os\n",
        "import pickle\n",
        "from typing import List\n",
        "import numpy as np\n",
        "import pandas as pd\n",
        "import matplotlib.pyplot as plt\n",
        "import ast\n",
        "import requests\n",
        "\n",
        "from dotenv import load_dotenv\n",
        "\n",
        "from rdkit import Chem\n",
        "from rdkit.Chem.QED import qed as rdkit_qed\n",
        "from rdkit.Chem.QED import qed\n",
        "from rdkit.Chem import AllChem\n",
        "from rdkit.Chem.AllChem import GetMorganFingerprintAsBitVect\n",
        "from rdkit.DataStructs import TanimotoSimilarity\n",
        "from rdkit.Chem import Descriptors\n",
        "\n",
        "from IPython.display import display, clear_output"
      ]
    },
    {
      "cell_type": "markdown",
      "metadata": {
        "id": "B-qsGGhnJT6S"
      },
      "source": [
        "API Key and URL"
      ]
    },
    {
      "cell_type": "code",
      "execution_count": null,
      "metadata": {
        "id": "_G2DWHiDHGmO"
      },
      "outputs": [],
      "source": [
        "# Load environment variables from .env file. Add API key to .env file.\n",
        "load_dotenv()\n",
        "\n",
        "# Access your API key\n",
        "API_KEY = os.getenv(\"API_KEY\")\n",
        "\n",
        "if API_KEY:\n",
        "    print(\"NVIDIA API Key loaded successfully.\")\n",
        "else:\n",
        "    print(\"NVIDIA API Key not found. Make sure it's set in your .env file or as a system environment variable.\")\n",
        "    raise ValueError(\"API_KEY is not set. Please create a .env file with your API_KEY.\")\n",
        "\n",
        "# --- API Setup ---\n",
        "invoke_url = \"https://health.api.nvidia.com/v1/biology/nvidia/molmim/generate\"\n",
        "headers = {\n",
        "    \"Authorization\": f\"Bearer {API_KEY}\",\n",
        "    \"Accept\": \"application/json\",\n",
        "}\n",
        "session = requests.Session()"
      ]
    },
    {
      "cell_type": "markdown",
      "metadata": {
        "id": "dLnRNwaGK6lB"
      },
      "source": [
        "# Starting Molecule"
      ]
    },
    {
      "cell_type": "code",
      "execution_count": null,
      "metadata": {
        "colab": {
          "base_uri": "https://localhost:8080/",
          "height": 184
        },
        "id": "EWZQK7szK2nj",
        "outputId": "2b3602fb-33e7-4411-8804-5d16608c9582"
      },
      "outputs": [],
      "source": [
        "# Input SMILE string\n",
        "smis = \"C1=CC2=NON=C2C(=C1NC3=CC(=CC(=C3)Cl)F)[N+](=O)[O-]\"\n",
        "\n",
        "mol = Chem.MolFromSmiles(smis)\n",
        "qed_score = rdkit_qed(mol)\n",
        "print(f\"Original QED: {qed_score}\")\n",
        "mol"
      ]
    },
    {
      "cell_type": "markdown",
      "metadata": {
        "id": "pyHpKv48Ly0h"
      },
      "source": [
        "## CMA-ES Optimization"
      ]
    },
    {
      "cell_type": "code",
      "execution_count": 6,
      "metadata": {
        "id": "pOFucthtLxhL"
      },
      "outputs": [],
      "source": [
        "# Create a dictionary to store the results\n",
        "results = {}\n",
        "\n",
        "# Create a list of minimum similarities\n",
        "num_min_sims = 3\n",
        "min_sims = np.linspace(0.1, 0.7, num_min_sims)"
      ]
    },
    {
      "cell_type": "code",
      "execution_count": 7,
      "metadata": {
        "id": "EFn1AgqOL8NQ"
      },
      "outputs": [],
      "source": [
        "def tanimoto_similarity(smiles, reference: str):\n",
        "    # Get fingerprint params\n",
        "    fingerprint_radius_param = 2\n",
        "    fingerprint_nbits = 2048\n",
        "\n",
        "    # Handle the reference molecule\n",
        "    reference_mol = Chem.MolFromSmiles(reference)\n",
        "    reference_fingerprint = GetMorganFingerprintAsBitVect(\n",
        "        reference_mol, radius=fingerprint_radius_param, nBits=fingerprint_nbits\n",
        "    )\n",
        "\n",
        "    # Validate the other molecule\n",
        "    mol = Chem.MolFromSmiles(smiles)\n",
        "    if mol is None:\n",
        "        return 0\n",
        "\n",
        "    fingerprint = GetMorganFingerprintAsBitVect(mol, radius=fingerprint_radius_param, nBits=fingerprint_nbits)\n",
        "\n",
        "    # Calculate and return the Tanimoto similarity\n",
        "    return TanimotoSimilarity(fingerprint, reference_fingerprint)"
      ]
    },
    {
      "cell_type": "code",
      "execution_count": null,
      "metadata": {
        "colab": {
          "base_uri": "https://localhost:8080/"
        },
        "id": "oohHEcP0IrH1",
        "outputId": "68b97951-e37a-4645-ed46-afda254d3b10"
      },
      "outputs": [],
      "source": [
        "# Loop through each minimum similarity value\n",
        "for min_sim in min_sims:\n",
        "    # Create a dictionary to store the results for this min_sim\n",
        "    min_sim_results = {'smiles': [], 'num_smiles': [], 'tanimoto_similarity': [], 'qed_score': []}\n",
        "\n",
        "    # Create the request payload\n",
        "    payload = {\n",
        "      \"smi\": smis,\n",
        "      \"algorithm\": \"CMA-ES\",\n",
        "      \"num_molecules\": 10,\n",
        "      \"property_name\": \"QED\",\n",
        "      \"minimize\": False,\n",
        "      \"min_similarity\": min_sim,\n",
        "      \"particles\": 20,\n",
        "      \"iterations\": 2,\n",
        "      \"scaled_radius\": 1\n",
        "    }\n",
        "\n",
        "    # Send the request and get the response\n",
        "    response = session.post(invoke_url, headers=headers, json=payload)\n",
        "    response.raise_for_status()\n",
        "    response_json = response.json()\n",
        "    print(f\"*************** min_sim: {min_sim} ********************\")\n",
        "    print(f\"response_json: \\n\"\n",
        "          f\"{response_json}\")\n",
        "\n",
        "    # Extract the generated SMILES\n",
        "    gen_smiles_list = [i['sample'] for i in ast.literal_eval(response_json['molecules'])]\n",
        "    print(f\"gen_smiles_list: \\n\"\n",
        "          f\"{gen_smiles_list}\")\n",
        "    # Get the molecule objects out of valid SMILES\n",
        "    valid_mol_list = [mol for smiles in gen_smiles_list if (mol := Chem.MolFromSmiles(smiles))]\n",
        "    # Convert to canonical SMILES & deduplicate\n",
        "    canonical_smiles = set()\n",
        "    for mol in valid_mol_list:\n",
        "        canonical_smi = Chem.MolToSmiles(mol, canonical=True)\n",
        "        canonical_smiles.add(canonical_smi)\n",
        "    canonical_smiles_list = list(canonical_smiles)\n",
        "    print(f\"canonical_smiles_list: \\n\"\n",
        "          f\"{canonical_smiles_list}\")\n",
        "\n",
        "    # Calculate Tanimoto similarity and QED score for each valid SMILES\n",
        "    for smiles in canonical_smiles_list:\n",
        "        tanimoto = tanimoto_similarity(smiles, smis)\n",
        "        mol = Chem.MolFromSmiles(smiles)\n",
        "        qed_score = qed(mol)\n",
        "        min_sim_results['tanimoto_similarity'].append(tanimoto)\n",
        "        min_sim_results['qed_score'].append(qed_score)\n",
        "\n",
        "    # Update min_sim_results - get the average of Tanimoto and QED scores, store generated SMILES\n",
        "    min_sim_results['tanimoto_similarity'] = np.mean(min_sim_results['tanimoto_similarity'])\n",
        "    min_sim_results['qed_score'] = np.mean(min_sim_results['qed_score'])\n",
        "    min_sim_results['num_smiles'] = len(canonical_smiles_list)\n",
        "    min_sim_results['smiles'] = canonical_smiles_list\n",
        "\n",
        "    # Store the results for this min_sim\n",
        "    results[min_sim] = min_sim_results"
      ]
    },
    {
      "cell_type": "code",
      "execution_count": 13,
      "metadata": {
        "id": "1NvjYVOkwoar"
      },
      "outputs": [],
      "source": [
        "def lipinski_properties(smiles):\n",
        "    mol = Chem.MolFromSmiles(smiles)\n",
        "    if mol is None:\n",
        "        return None  # invalid SMILES\n",
        "\n",
        "    # Calculate Lipinski's properties\n",
        "    mw = Descriptors.MolWt(mol)\n",
        "    logp = Descriptors.MolLogP(mol)\n",
        "    hba = Descriptors.NumHAcceptors(mol)\n",
        "    hbd = Descriptors.NumHDonors(mol)\n",
        "\n",
        "    return mw, logp, hba, hbd"
      ]
    },
    {
      "cell_type": "code",
      "execution_count": null,
      "metadata": {},
      "outputs": [],
      "source": [
        "\n",
        "# Create a list to store the data for the report\n",
        "report_data = []\n",
        "\n",
        "for smiles in min_sim_results['smiles']:\n",
        "    mol = Chem.MolFromSmiles(smiles)\n",
        "    qed_score = qed(mol)\n",
        "    tanimoto = tanimoto_similarity(smiles, smis)\n",
        "\n",
        "    # Calculate Lipinski properties\n",
        "    lipinski = lipinski_properties(smiles)\n",
        "    if lipinski:\n",
        "        mw, logp, hba, hbd = lipinski\n",
        "    else:\n",
        "        mw, logp, hba, hbd = None, None, None, None\n",
        "\n",
        "    report_data.append({\n",
        "        'smiles': smiles,\n",
        "        'qed_score': qed_score,\n",
        "        'tanimoto_similarity': tanimoto,\n",
        "        'min_sim': min_sim,\n",
        "        'mw': mw,\n",
        "        'logp': logp,\n",
        "        'hba': hba,\n",
        "        'hbd': hbd,\n",
        "    })\n",
        "\n",
        "# Create a pandas DataFrame from the report data\n",
        "report_df = pd.DataFrame(report_data)\n",
        "\n",
        "# Display the DataFrame\n",
        "display(report_df)\n",
        "\n",
        "# Save the DataFrame as a CSV file\n",
        "csv_filename = 'min_sim_results_report.csv'\n",
        "report_df.to_csv(csv_filename, index=False)\n",
        "print(f\"CSV report saved as '{csv_filename}'.\")\n",
        "\n",
        "\n"
      ]
    }
  ],
  "metadata": {
    "colab": {
      "provenance": []
    },
    "kernelspec": {
      "display_name": "Python 3",
      "name": "python3"
    },
    "language_info": {
      "codemirror_mode": {
        "name": "ipython",
        "version": 3
      },
      "file_extension": ".py",
      "mimetype": "text/x-python",
      "name": "python",
      "nbconvert_exporter": "python",
      "pygments_lexer": "ipython3",
      "version": "3.9.18"
    }
  },
  "nbformat": 4,
  "nbformat_minor": 0
}
