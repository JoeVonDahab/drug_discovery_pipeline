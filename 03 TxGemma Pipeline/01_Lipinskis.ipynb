{
 "cells": [
  {
   "cell_type": "code",
   "execution_count": null,
   "id": "34cf2615",
   "metadata": {},
   "outputs": [],
   "source": [
    "from rdkit import Chem\n",
    "from rdkit.Chem import Descriptors\n",
    "\n",
    "def lipinski_violations(mol):\n",
    "    \"\"\"Return the count of Lipinski rule violations.\"\"\"\n",
    "    mw   = Descriptors.MolWt(mol)\n",
    "    logp = Descriptors.MolLogP(mol)\n",
    "    hbd  = Descriptors.NumHDonors(mol)\n",
    "    hba  = Descriptors.NumHAcceptors(mol)\n",
    "\n",
    "    violations = 0\n",
    "    if mw   >= 500: violations += 1\n",
    "    if logp >= 5:   violations += 1\n",
    "    if hbd  >= 5:   violations += 1\n",
    "    if hba  >= 10:  violations += 1\n",
    "\n",
    "    return violations\n",
    "\n",
    "def filter_lipinski(input_path='top100.txt', output_path='passed_smiles.txt'):\n",
    "    passed = []\n",
    "    with open(input_path, 'r') as infile:\n",
    "        for line in infile:\n",
    "            smi = line.strip()\n",
    "            if not smi:\n",
    "                continue\n",
    "\n",
    "            mol = Chem.MolFromSmiles(smi)\n",
    "            if mol is None:\n",
    "                continue\n",
    "\n",
    "            if lipinski_violations(mol) <= 1:\n",
    "                passed.append(smi)\n",
    "\n",
    "    with open(output_path, 'w') as outfile:\n",
    "        for smi in passed:\n",
    "            outfile.write(smi + '\\n')\n",
    "\n",
    "    print(f\"Saved {len(passed)} molecules that passed Lipinski’s rule to `{output_path}`\")\n",
    "\n",
    "if __name__ == '__main__':\n",
    "    filter_lipinski()\n"
   ]
  }
 ],
 "metadata": {
  "language_info": {
   "name": "python"
  }
 },
 "nbformat": 4,
 "nbformat_minor": 5
}
