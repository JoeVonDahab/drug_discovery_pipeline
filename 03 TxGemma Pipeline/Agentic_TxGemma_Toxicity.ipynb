{
 "cells": [
  {
   "cell_type": "code",
   "execution_count": null,
   "id": "2d74ed6b",
   "metadata": {
    "id": "2d74ed6b"
   },
   "outputs": [],
   "source": [
    "import os, re\n",
    "import google.generativeai as genai\n",
    "\n",
    "os.environ[\"HF_TOKEN\"] = \"\"\n",
    "genai.configure(api_key=\"\")\n",
    "\n"
   ]
  },
  {
   "cell_type": "code",
   "execution_count": 2,
   "id": "IOGKgkrJl4pk",
   "metadata": {
    "colab": {
     "base_uri": "https://localhost:8080/",
     "height": 49,
     "referenced_widgets": [
      "58eddef3b8424af1b4dac52fb8dc2827",
      "58caf0aa8b514eeb87a03f06d3d8a9d6",
      "51fa6cdfcd92429196a7e00eb6eac86a",
      "ecd955d94d0c4ce3bca4b1eed1322daf",
      "b76970417c3b485aa30d2b17fc770932",
      "ed6060fbe8e44d54b243e108c828a634",
      "7535a7e8769a4be185a9bfee36eec56c",
      "01d901bf1e094f4e9eacc30ef3622bcb",
      "0ed0eca26b0c46e884ef796a36dab527",
      "ec3082bc4269483e82f88c2b410443b4",
      "e327110890e64215953c93b7570e5b60"
     ]
    },
    "id": "IOGKgkrJl4pk",
    "outputId": "d463c0ed-3135-4db2-a043-c4bb55862616"
   },
   "outputs": [],
   "source": [
    "import json\n",
    "from huggingface_hub import hf_hub_download\n",
    "\n",
    "tdc_prompts_filepath = hf_hub_download(\n",
    "    repo_id=\"google/txgemma-27b-predict\",\n",
    "    filename=\"tdc_prompts.json\",\n",
    ")\n",
    "\n",
    "with open(tdc_prompts_filepath, \"r\") as f:\n",
    "    tdc_prompts_json = json.load(f)"
   ]
  },
  {
   "cell_type": "code",
   "execution_count": 3,
   "id": "2cbi-eVX5akG",
   "metadata": {
    "colab": {
     "base_uri": "https://localhost:8080/"
    },
    "id": "2cbi-eVX5akG",
    "outputId": "689bd14f-5161-4ac8-fc31-723af4869cc1"
   },
   "outputs": [
    {
     "name": "stdout",
     "output_type": "stream",
     "text": [
      "Instructions: Answer the following question about drug properties.\n",
      "Context: Humans are exposed to a variety of chemicals through food, household products, and medicines, some of which can be toxic, leading to over 30% of promising pharmaceuticals failing in human trials due to toxicity. Toxic drugs can be identified from clinical trials that failed due to toxicity, while non-toxic drugs can be identified from FDA approval status or from clinical trials that report no toxicity.\n",
      "Question: Given a drug SMILES string, predict whether it\n",
      "(A) is not toxic (B) is toxic\n",
      "Drug SMILES: {Drug SMILES}\n",
      "Answer:\n"
     ]
    }
   ],
   "source": [
    "dataset = \"ClinTox\"  #@param [\"AMES\", \"ClinTox\"]\n",
    "\n",
    "# now use it:\n",
    "prompt = tdc_prompts_json[dataset]\n",
    "print(prompt)"
   ]
  },
  {
   "cell_type": "code",
   "execution_count": 4,
   "id": "p2WWWAoBmv1i",
   "metadata": {
    "id": "p2WWWAoBmv1i"
   },
   "outputs": [
    {
     "data": {
      "application/vnd.jupyter.widget-view+json": {
       "model_id": "e0d012371b76447a8704dfc9a6864bdb",
       "version_major": 2,
       "version_minor": 0
      },
      "text/plain": [
       "Loading checkpoint shards:   0%|          | 0/8 [00:00<?, ?it/s]"
      ]
     },
     "metadata": {},
     "output_type": "display_data"
    },
    {
     "data": {
      "application/vnd.jupyter.widget-view+json": {
       "model_id": "e69f2ef5eb554e379ad479e7f64bbdd0",
       "version_major": 2,
       "version_minor": 0
      },
      "text/plain": [
       "Loading checkpoint shards:   0%|          | 0/4 [00:00<?, ?it/s]"
      ]
     },
     "metadata": {},
     "output_type": "display_data"
    }
   ],
   "source": [
    "from transformers import AutoTokenizer, AutoModelForCausalLM, BitsAndBytesConfig\n",
    "\n",
    "PREDICT_VARIANT = \"9b-predict\"  # @param [\"2b-predict\", \"9b-predict\", \"27b-predict\"]\n",
    "CHAT_VARIANT = \"9b-chat\" # @param [\"9b-chat\", \"27b-chat\"]\n",
    "USE_CHAT = True # @param {type: \"boolean\"}\n",
    "\n",
    "quantization_config = BitsAndBytesConfig(load_in_4bit=True)\n",
    "\n",
    "predict_tokenizer = AutoTokenizer.from_pretrained(f\"google/txgemma-{PREDICT_VARIANT}\")\n",
    "predict_model = AutoModelForCausalLM.from_pretrained(\n",
    "    f\"google/txgemma-{PREDICT_VARIANT}\",\n",
    "    device_map=\"auto\",\n",
    "    quantization_config=quantization_config,\n",
    ")\n",
    "\n",
    "if USE_CHAT:\n",
    "    chat_tokenizer = AutoTokenizer.from_pretrained(f\"google/txgemma-{CHAT_VARIANT}\")\n",
    "    chat_model = AutoModelForCausalLM.from_pretrained(\n",
    "        f\"google/txgemma-{CHAT_VARIANT}\",\n",
    "        device_map=\"auto\",\n",
    "        quantization_config=quantization_config,\n",
    "    )"
   ]
  },
  {
   "cell_type": "code",
   "execution_count": 5,
   "id": "PZ_n3m4Bgv2v",
   "metadata": {
    "id": "PZ_n3m4Bgv2v"
   },
   "outputs": [
    {
     "name": "stderr",
     "output_type": "stream",
     "text": [
      "c:\\Users\\zhaol\\AppData\\Local\\Programs\\Python\\Python311\\Lib\\site-packages\\bitsandbytes\\nn\\modules.py:463: UserWarning: Input type into Linear4bit is torch.float16, but bnb_4bit_compute_dtype=torch.float32 (default). This will lead to slow inference or training speed.\n",
      "  warnings.warn(\n"
     ]
    },
    {
     "name": "stdout",
     "output_type": "stream",
     "text": [
      "Prediction model response: Instructions: Answer the following question about drug properties.\n",
      "Context: Mutagenicity means the ability of a drug to induce genetic alterations. Drugs that can cause damage to the DNA can result in cell death or other severe adverse effects. Nowadays, the most widely used assay for testing the mutagenicity of compounds is the Ames experiment which was invented by a professor named Ames. The Ames test is a short-term bacterial reverse mutation assay detecting a large number of compounds which can induce genetic damage and frameshift mutations.\n",
      "Question: Given a drug SMILES string, predict whether it\n",
      "(A) is not mutagenic (B) is mutagenic\n",
      "Drug SMILES: C[C@@H]1Cc2c([nH]c3ccccc23)[C@H](N1CC(F)(F)F)c1c(F)ccc(NCCNCCCF)c1F\n",
      "Answer:B)\n",
      "Chat model response: Instructions: Answer the following question about drug properties.\n",
      "Context: Mutagenicity means the ability of a drug to induce genetic alterations. Drugs that can cause damage to the DNA can result in cell death or other severe adverse effects. Nowadays, the most widely used assay for testing the mutagenicity of compounds is the Ames experiment which was invented by a professor named Ames. The Ames test is a short-term bacterial reverse mutation assay detecting a large number of compounds which can induce genetic damage and frameshift mutations.\n",
      "Question: Given a drug SMILES string, predict whether it\n",
      "(A) is not mutagenic (B) is mutagenic\n",
      "Drug SMILES: C[C@@H]1Cc2c([nH]c3ccccc23)[C@H](N1CC(F)(F)F)c1c(F)ccc(NCCNCCCF)c1F\n",
      "Answer: (A)\n"
     ]
    }
   ],
   "source": [
    "## Example task and input\n",
    "task_name = \"AMES\"\n",
    "smiles = \"{Drug SMILES}\"\n",
    "sequence = \"{Target amino acid sequence}\"\n",
    "drug_smiles = \"C[C@@H]1Cc2c([nH]c3ccccc23)[C@H](N1CC(F)(F)F)c1c(F)ccc(NCCNCCCF)c1F\"\n",
    "AA_sequence = \"MTAEKEKKRCSSERRKEKSRDAARCRRSKETEVFYELAHQLPIPHSISSHLDKASIMRLAISFLRTRKLLTSGCVAATETTDVDRLMDSWYLKPLGGFITVVTSDGDMIFLSENINKFMGLTQVELTGHSIFDFTHPCDHEEIRENLSLKAGMGKKGKELNTERDFFMRMKCTVTNRGRTVNLKSASWKVLHCTGHLKVCNGCPARVLCGFKEPPLTCVVMMCEPIPHPSNIDTPLDSKAFLSRHSMDMKFTYCDDRVTELMGYSPEDLLGRSAYDFYHALDSDNVTKSHQNLCTKGQAVSGQYRMLAKNGGYVWVETQGTVIYNSRNSQPQCIVCVNYVLSDVEEKSMIFSMDQTESLFKPHNLNSFFSPSKRSLGSDQSEALFTKLKEEPEDLTQLAPTPGDTIISLDFGQPQYEEHPMYSKVSSVAPPVSHSIHDGHKASYAGDMPKMAATFSVPQAPPPSSATPSLSSCSTPSSPGDYYTPVDSDLKVELTEKLFSLDTQETKASCNQENDLSDLDLETLAPYIPMDGEDFQLNPICQEEPASEIGGLVTNQQSFSNITSLFQPLGSSSAAHFQPNMSSGGDKKSISGGSVGSWPSIPCSRGPMQMPPYHDPASTPLSSMGGRQNLQWPPDPPLPSKAGMMDPLAAKRSCQTMPANRMPLYLQRPVENFVQNYRDMSPARLALTNGFKRSFTQMTMGESPPTKSQQTLWKRLRNESCAVMDRKSLSTSALSDKGMAHNRGMDHQHRKTQYSGNQTGQAAKCYREQCCNYREFSMQPSSKMDGIASRLIGPSFETYSLPELTRYDCEVNVPLQGNLHLLQGSDLLRALDQST\"\n",
    "TDC_PROMPT = tdc_prompts_json[task_name].replace(smiles, drug_smiles).replace(sequence, AA_sequence)\n",
    "\n",
    "def txgemma_predict(prompt):\n",
    "    input_ids = predict_tokenizer(prompt, return_tensors=\"pt\").to(\"cuda\")\n",
    "    outputs = predict_model.generate(**input_ids, max_new_tokens=8)\n",
    "    return predict_tokenizer.decode(outputs[0], skip_special_tokens=True)\n",
    "\n",
    "def txgemma_chat(prompt):\n",
    "    input_ids = chat_tokenizer(prompt, return_tensors=\"pt\").to(\"cuda\")\n",
    "    outputs = chat_model.generate(**input_ids, max_new_tokens=32)\n",
    "    return chat_tokenizer.decode(outputs[0], skip_special_tokens=True)\n",
    "\n",
    "print(f\"Prediction model response: {txgemma_predict(TDC_PROMPT)}\")\n",
    "if USE_CHAT: print(f\"Chat model response: {txgemma_chat(TDC_PROMPT)}\")"
   ]
  },
  {
   "cell_type": "markdown",
   "id": "0a05786f-0bc8-4dff-a642-e143b9541d4f",
   "metadata": {
    "id": "0a05786f-0bc8-4dff-a642-e143b9541d4f"
   },
   "source": [
    "# Tool to allow our Agentic-Tx to ask TxGemma therapeutically relevant questions"
   ]
  },
  {
   "cell_type": "markdown",
   "id": "Wq5KmiGXdrH-",
   "metadata": {
    "id": "Wq5KmiGXdrH-"
   },
   "source": [
    "Making a tool for our agent to use: a chat interface for our llama-based Agentic-Tx and TxGemma-Chat."
   ]
  },
  {
   "cell_type": "code",
   "execution_count": 6,
   "id": "24ce4ff8-e105-4903-8af8-9dae8809964b",
   "metadata": {
    "id": "24ce4ff8-e105-4903-8af8-9dae8809964b"
   },
   "outputs": [],
   "source": [
    "# This will allow us to extract content from inside of ticks\n",
    "def extract_prompt(text, word):\n",
    "    code_block_pattern = rf\"```{word}(.*?)```\"\n",
    "    code_blocks = re.findall(code_block_pattern, text, re.DOTALL)\n",
    "    extracted_code = \"\\n\".join(code_blocks).strip()\n",
    "    return extracted_code\n",
    "\n",
    "# This class will allow us to inferface with TxGemma\n",
    "class TxGemmaChatTool:\n",
    "    def __init__(self):\n",
    "      self.tool_name = \"Chat Tool\"\n",
    "\n",
    "    def use_tool(self, question):\n",
    "        # Here, we are submitting a question to TxGemma\n",
    "        response = txgemma_chat(question)\n",
    "        return response\n",
    "\n",
    "    def tool_is_used(self, query):\n",
    "        # This just checks to see if the tool call was evoked\n",
    "        return \"```TxGemmaChat\" in query\n",
    "\n",
    "    def process_query(self, query):\n",
    "        # Here, we clean to query to remove the tool call\n",
    "        return extract_prompt(query, word=\"TxGemmaChat\")\n",
    "\n",
    "    def instructions(self):\n",
    "        # Here, we are **very** descriptively explaining how the tool works to the agent\n",
    "        # This will be useful later on\n",
    "        return (\n",
    "            \"=== Therapeutic Chat Tool Instructions ===\\n\"\n",
    "            \"### What This Tool Does\\n\"\n",
    "            \"The Therapeutic Chat Tool allows you to chat with a knowledgeable large language model named TxGemma trained on many therapeutics datasets.\"\n",
    "            \"### When and Why You Should Use It\\n\"\n",
    "            \"- If you have therapeutics related questions that you would benefit from asking TxGemma from.\\n\"\n",
    "            \"### How to Use It\\n\"\n",
    "            \"Format your query with triple backticks (```), and start with `TxGemmaChat`. Then on a new line:\\n\"\n",
    "            \"1) **Any question you would like to ask**\\n\\n\"\n",
    "            \"Example:\\n\"\n",
    "            \"```TxGemmaChat\\n\"\n",
    "            \"What is a common drug used to treat ovarian cancer?\\n\"\n",
    "            \"```\\n\")\n"
   ]
  },
  {
   "cell_type": "markdown",
   "id": "c85711f6-b5b9-4066-a2cc-4d712e18a37d",
   "metadata": {
    "id": "c85711f6-b5b9-4066-a2cc-4d712e18a37d"
   },
   "source": [
    "# Making a TxGemma prediction"
   ]
  },
  {
   "cell_type": "markdown",
   "id": "QnVhLQOphKmd",
   "metadata": {
    "id": "QnVhLQOphKmd"
   },
   "source": [
    "AMES Mutagenicity"
   ]
  },
  {
   "cell_type": "code",
   "execution_count": 7,
   "id": "7e724847-9358-4d30-b231-671d632e98ab",
   "metadata": {
    "id": "7e724847-9358-4d30-b231-671d632e98ab"
   },
   "outputs": [],
   "source": [
    "# This class will allow us to predict binding affinity using TxGemma\n",
    "class Mutagenicity:\n",
    "    def __init__(self):\n",
    "      self.tool_name = \"AMES Mutagenicity Prediction\"\n",
    "\n",
    "    def use_tool(self, smiles_string):\n",
    "        # Here, we are submitting the smiles to TxGemma, and returning the response\n",
    "        prediction = txgemma_predict(tdc_prompts_json[\"AMES\"].replace(\"{Drug SMILES}\", smiles_string))\n",
    "        if \"(A)\" in prediction:   prediction = f\"{smiles_string} is not mutagenic!\"\n",
    "        elif \"(B)\" in prediction: prediction = f\"{smiles_string} is mutagenic!\"\n",
    "        return prediction\n",
    "\n",
    "    def tool_is_used(self, query):\n",
    "        # This just checks to see if the tool call was evoked\n",
    "        return \"```MutagenicityPred\" in query\n",
    "\n",
    "    def process_query(self, query):\n",
    "        # Here, we clean to query to remove the tool call\n",
    "        return extract_prompt(query, word=\"MutagenicityPred\")\n",
    "\n",
    "    def instructions(self):\n",
    "        # Here, we are explaining how the tool works to the agent\n",
    "        return (\n",
    "        \"=== AMES Mutagenicity Prediction Instructions ===\\n\"\n",
    "            \"The AMES Mutagenicity Prediction Tool is designed to predict potential for mutagenicity for humans in clinicial trials.\\n\"\n",
    "            \"You can test the mutagenicity of different SMILES strings as they might affect humans.\\n\"\n",
    "            \"To properly use this tool, follow the format outlined below:\\n\"\n",
    "            \"1. **Form a AMES Mutagenicity Prediction query**:\\n\"\n",
    "            \"```MutagenicityPred\\n\\n```\\n\"\n",
    "            \"Example: ```MutagenicityPred\\nCN(C)C(=N)N=C(N)N\\n```\\n\"\n",
    "            \"- Replace `` with an exact smiles string. \"\n",
    "            \"A result will be returned to you describing the AMES Mutagenicity Prediction.\\n\"\n",
    "            \"**Important Formatting Details**:\\n\"\n",
    "            \"- Use `MutagenicityPred` as the exact keyword to begin your query.\\n\"\n",
    "            \"- Place your text after `MutagenicityPred` on a new line.\\n\"\n",
    "            \"- Enclose the entire query using three backticks (```), as shown in the example above.\\n\")"
   ]
  },
  {
   "cell_type": "markdown",
   "id": "934c02ad",
   "metadata": {
    "id": "934c02ad"
   },
   "source": [
    "ClinTox"
   ]
  },
  {
   "cell_type": "code",
   "execution_count": 8,
   "id": "57b4c966",
   "metadata": {
    "id": "57b4c966"
   },
   "outputs": [],
   "source": [
    "class ClinTox:\n",
    "    def __init__(self):\n",
    "      self.tool_name = \"Clinical Toxicology Prediction\"\n",
    "\n",
    "    def use_tool(self, smiles_string):\n",
    "        # Here, we are submitting the smiles to TxGemma, and returning the response\n",
    "        prediction = txgemma_predict(tdc_prompts_json[\"ClinTox\"].replace(\"{Drug SMILES}\", smiles_string))\n",
    "        if \"(A)\" in prediction:   prediction = f\"{smiles_string} is predicted to be toxic!\"\n",
    "        elif \"(B)\" in prediction: prediction = f\"{smiles_string} is predicted to be not toxic!\"\n",
    "        return prediction\n",
    "\n",
    "    def tool_is_used(self, query):\n",
    "        # This just checks to see if the tool call was evoked\n",
    "        return \"```ClinToxPred\" in query\n",
    "\n",
    "    def process_query(self, query):\n",
    "        # Here, we clean to query to remove the tool call\n",
    "        return extract_prompt(query, word=\"ClinToxPred\")\n",
    "\n",
    "    def instructions(self):\n",
    "        # Here, we are explaining how the tool works to the agent\n",
    "        return (\n",
    "        \"=== Clinical Toxicology Prediction Instructions ===\\n\"\n",
    "            \"The Clinical Toxicology Prediction Tool is designed to predict potential for toxicology for humans in clinicial trials.\\n\"\n",
    "            \"You can test the toxicology of different SMILES strings as they might affect humans.\\n\"\n",
    "            \"To properly use this tool, follow the format outlined below:\\n\"\n",
    "            \"1. **Form a Clinical Toxicology Prediction query**:\\n\"\n",
    "            \"```ClinToxPred\\n\\n```\\n\"\n",
    "            \"Example: ```ClinToxPred\\nCN(C)C(=N)N=C(N)N\\n```\\n\"\n",
    "            \"- Replace `` with an exact smiles string. \"\n",
    "            \"A result will be returned to you describing the Clinical Toxicology Prediction.\\n\"\n",
    "            \"**Important Formatting Details**:\\n\"\n",
    "            \"- Use `ClinToxPred` as the exact keyword to begin your query.\\n\"\n",
    "            \"- Place your text after `ClinToxPred` on a new line.\\n\"\n",
    "            \"- Enclose the entire query using three backticks (```), as shown in the example above.\\n\")"
   ]
  },
  {
   "cell_type": "markdown",
   "id": "d1ea20d0-0032-4a20-8907-54137f7bea68",
   "metadata": {
    "id": "d1ea20d0-0032-4a20-8907-54137f7bea68"
   },
   "source": [
    "# PubMed search tool"
   ]
  },
  {
   "cell_type": "code",
   "execution_count": 9,
   "id": "a98fca4b-20a1-4cf6-948f-75bbf592f2be",
   "metadata": {
    "id": "a98fca4b-20a1-4cf6-948f-75bbf592f2be",
    "outputId": "902bfd70-9d7e-4bb5-ca60-1a110603de91"
   },
   "outputs": [
    {
     "name": "stderr",
     "output_type": "stream",
     "text": [
      "\n",
      "[notice] A new release of pip is available: 25.0.1 -> 25.1.1\n",
      "[notice] To update, run: python.exe -m pip install --upgrade pip\n"
     ]
    }
   ],
   "source": [
    "! pip install --upgrade --quiet biopython"
   ]
  },
  {
   "cell_type": "code",
   "execution_count": 10,
   "id": "a1b171b6-4b50-43b3-8e7e-98c7404a736d",
   "metadata": {
    "id": "a1b171b6-4b50-43b3-8e7e-98c7404a736d"
   },
   "outputs": [],
   "source": [
    "from Bio import Medline, Entrez\n",
    "\n",
    "# This class will allow us to interface with PubMed\n",
    "class PubMedSearch:\n",
    "    def __init__(self):\n",
    "      self.tool_name = \"PubMed Search\"\n",
    "\n",
    "    def tool_is_used(self, query: str):\n",
    "        # This just checks to see if the tool call was evoked\n",
    "        return \"```PubMedSearch\" in query\n",
    "\n",
    "    def process_query(self, query: str):\n",
    "        # Here, we clean to query to remove the tool call\n",
    "        search_text = extract_prompt(query, word=\"PubMedSearch\")\n",
    "        return search_text.strip()\n",
    "\n",
    "    def use_tool(self, search_text):\n",
    "        # Here, we are searching through PubMed and returning relevant articles\n",
    "        pmids = list()\n",
    "        handle = Entrez.esearch(db=\"pubmed\", sort=\"relevance\", term=search_text, retmax=3)\n",
    "        record = Entrez.read(handle)\n",
    "        pmids = record.get(\"IdList\", [])\n",
    "        handle.close()\n",
    "\n",
    "        if not pmids:\n",
    "            return f\"No PubMed articles found for '{search_text}' Please try a simpler search query.\"\n",
    "\n",
    "        fetch_handle = Entrez.efetch(db=\"pubmed\", id=\",\".join(pmids), rettype=\"medline\", retmode=\"text\")\n",
    "        records = list(Medline.parse(fetch_handle))\n",
    "        fetch_handle.close()\n",
    "\n",
    "        result_str = f\"=== PubMed Search Results for: '{search_text}' ===\\n\"\n",
    "        for i, record in enumerate(records, start=1):\n",
    "            pmid = record.get(\"PMID\", \"N/A\")\n",
    "            title = record.get(\"TI\", \"No title available\")\n",
    "            abstract = record.get(\"AB\", \"No abstract available\")\n",
    "            journal = record.get(\"JT\", \"No journal info\")\n",
    "            pub_date = record.get(\"DP\", \"No date info\")\n",
    "            authors = record.get(\"AU\", [])\n",
    "            authors_str = \", \".join(authors[:3])\n",
    "            result_str += (\n",
    "                f\"\\n--- Article #{i} ---\\n\"\n",
    "                f\"PMID: {pmid}\\n\"\n",
    "                f\"Title: {title}\\n\"\n",
    "                f\"Authors: {authors_str}\\n\"\n",
    "                f\"Journal: {journal}\\n\"\n",
    "                f\"Publication Date: {pub_date}\\n\"\n",
    "                f\"Abstract: {abstract}\\n\")\n",
    "        return f\"Query: {search_text}\\nResults: {result_str}\"\n",
    "\n",
    "    def instructions(self):\n",
    "        # Here, we are explaining how the tool works to the agent\n",
    "        return (\n",
    "            f\"{'@' * 10}\\n@@@ PubMed Search Tool Instructions @@@\\n\\n\"\n",
    "            \"### What This Tool Does\\n\"\n",
    "            \"The PubMed Search Tool queries the NCBI Entrez API (PubMed) for a given search phrase, \"\n",
    "            \"and retrieves metadata for a few of the top articles (PMID, title, authors, journal, date, abstract).\\n\\n\"\n",
    "            \"### When / Why You Should Use It\\n\"\n",
    "            \"- To find **scientific literature** references on a specific biomedical topic.\\n\"\n",
    "            \"- To retrieve **abstracts, titles, authors**, and other metadata.\\n\\n\"\n",
    "            \"### Query Format\\n\"\n",
    "            \"Wrap your request with triple backticks, starting with `PubMedSearch`. For example:\\n\\n\"\n",
    "            \"```PubMedSearch\\ncancer immunotherapy\\n```\\n\\n\"\n",
    "            \"### Example\\n\"\n",
    "            \"```PubMedSearch\\nmachine learning in drug discovery\\n```\\n\"\n",
    "            \"- This will search PubMed for articles related to 'machine learning in drug discovery', \"\n",
    "            \"fetch up to 3 PMIDs, and return their titles, abstracts, etc.\\n\\n\")"
   ]
  },
  {
   "cell_type": "code",
   "execution_count": 11,
   "id": "19ffd399-4fcd-4730-afe3-e4f7eb0477ac",
   "metadata": {},
   "outputs": [
    {
     "name": "stderr",
     "output_type": "stream",
     "text": [
      "c:\\Users\\zhaol\\AppData\\Local\\Programs\\Python\\Python311\\Lib\\site-packages\\Bio\\Entrez\\__init__.py:734: UserWarning: \n",
      "            Email address is not specified.\n",
      "\n",
      "            To make use of NCBI's E-utilities, NCBI requires you to specify your\n",
      "            email address with each request.  As an example, if your email address\n",
      "            is A.N.Other@example.com, you can specify it as follows:\n",
      "               from Bio import Entrez\n",
      "               Entrez.email = 'A.N.Other@example.com'\n",
      "            In case of excessive usage of the E-utilities, NCBI will attempt to contact\n",
      "            a user at the email address provided before blocking access to the\n",
      "            E-utilities.\n",
      "  warnings.warn(\n"
     ]
    },
    {
     "name": "stdout",
     "output_type": "stream",
     "text": [
      "Query: Is aspirin toxic?\n",
      "Results: === PubMed Search Results for: 'Is aspirin toxic?' ===\n",
      "\n",
      "--- Article #1 ---\n",
      "PMID: 24361050\n",
      "Title: An aspirin a day.\n",
      "Authors: Majerus PW\n",
      "Journal: Advances in biological regulation\n",
      "Publication Date: 2014 Jan\n",
      "Abstract: The title of this article is also its punch line. The thesis that I will prove is that every adult, with a few exceptions, should take one 325 mg aspirin tablet each day. The drug is extraordinary and is beneficial in myriad ways. In this dosage the toxicity of the treatment is minimal. Since the drug is sold \"over the counter\", not requiring prescription, it is cheap and its benefits are easily underestimated. I do not use extensive reference citations; but just tell the story of aspirin.\n",
      "\n",
      "--- Article #2 ---\n",
      "PMID: 39092921\n",
      "Title: Pharmacokinetics of aspirin: evaluating shortcomings in the literature.\n",
      "Authors: Visagie JL, Aruwajoye GS, van der Sluis R\n",
      "Journal: Expert opinion on drug metabolism & toxicology\n",
      "Publication Date: 2024 Aug\n",
      "Abstract: INTRODUCTION: Aspirin is known for its therapeutic benefits in preventing strokes and relieving pain. However, it is toxic to some individuals, and the biological mechanisms causing toxicity are unknown. Limited literature is available on the role of glycine conjugation as the principal pathway in aspirin detoxification. Previous studies have quantified this two-step enzyme reaction as a singular enzymatic process. Consequently, the individual contributions of these enzymes to the kinetics remain unclear. AREAS COVERED: This review summarized the available information on the pharmacokinetics and detoxification of aspirin by the glycine conjugation pathway. Literature searches were conducted using Google Scholar and the academic journal databases accessible through the North-West University Library. Furthermore, the factors affecting interindividual variation in aspirin metabolism and what is known regarding aspirin toxicity were discussed. EXPERT OPINION: The greatest drawback in understanding the pharmacokinetics of aspirin is the limited information available on the substrate preference of the xenobiotic ligase (ACSM) responsible for activating salicylate to salicyl-CoA. Furthermore, previous pharmacokinetic studies did not consider the contribution of other substrates from the diet or genetic variants, to the detoxification rate of glycine conjugation. Impaired glycine conjugation might contribute to adverse health effects seen in Reye's syndrome and cancer.\n",
      "\n",
      "--- Article #3 ---\n",
      "PMID: 21847126\n",
      "Title: Aspirin and cancer: has aspirin been overlooked as an adjuvant therapy?\n",
      "Authors: Langley RE, Burdett S, Tierney JF\n",
      "Journal: British journal of cancer\n",
      "Publication Date: 2011 Oct 11\n",
      "Abstract: Aspirin inhibits the enzyme cyclooxygenase (Cox), and there is a significant body of epidemiological evidence demonstrating that regular aspirin use is associated with a decreased incidence of developing cancer. Interest focussed on selective Cox-2 inhibitors both as cancer prevention agents and as therapeutic agents in patients with proven malignancy until concerns were raised about their toxicity profile. Aspirin has several additional mechanisms of action that may contribute to its anti-cancer effect. It also influences cellular processes such as apoptosis and angiogenesis that are crucial for the development and growth of malignancies. Evidence suggests that these effects can occur through Cox-independent pathways questioning the rationale of focussing on Cox-2 inhibition alone as an anti-cancer strategy. Randomised studies with aspirin primarily designed to prevent cardiovascular disease have demonstrated a reduction in cancer deaths with long-term follow-up. Concerns about toxicity, particularly serious haemorrhage, have limited the use of aspirin as a cancer prevention agent, but recent epidemiological evidence demonstrating regular aspirin use after a diagnosis of cancer improves outcomes suggests that it may have a role in the adjuvant setting where the risk:benefit ratio will be different.\n",
      "\n"
     ]
    }
   ],
   "source": [
    "pubmed_tool = PubMedSearch()\n",
    "search_results = pubmed_tool.use_tool(\"Is aspirin toxic?\")\n",
    "print(search_results)"
   ]
  },
  {
   "cell_type": "markdown",
   "id": "66e3c551-ceec-45cd-b390-73f95cf369e2",
   "metadata": {
    "id": "66e3c551-ceec-45cd-b390-73f95cf369e2"
   },
   "source": [
    "# Wrapping it all together"
   ]
  },
  {
   "cell_type": "markdown",
   "id": "2ab55c29-5b48-41d6-8079-703a759c345b",
   "metadata": {
    "id": "2ab55c29-5b48-41d6-8079-703a759c345b"
   },
   "source": [
    "### Creating a tool manager"
   ]
  },
  {
   "cell_type": "code",
   "execution_count": 12,
   "id": "cae77fbb-2c27-43a8-87bf-c6af7d9ea4ca",
   "metadata": {
    "id": "cae77fbb-2c27-43a8-87bf-c6af7d9ea4ca"
   },
   "outputs": [],
   "source": [
    "# The tool manager will hold all of the tools, and provide an interface for the agent\n",
    "class ToolManager:\n",
    "    def __init__(self, toolset):\n",
    "        self.toolset = toolset\n",
    "\n",
    "    def tool_prompt(self):\n",
    "        # This will let the agent know what tools it has access to\n",
    "        tool_names = \", \".join([tool.tool_name for tool in self.toolset])\n",
    "        return f\"You have access to the following tools: {tool_names}\\n{self.tool_instructions()}. You can only use one tool at a time. These are the only tools you have access to nothing else.\"\n",
    "\n",
    "    def tool_instructions(self):\n",
    "        # This allows the agent to know how to use the tools\n",
    "        tool_instr = \"\\n\".join([tool.instructions() for tool in self.toolset])\n",
    "        return f\"The following is a set of instructions on how to use each tool.\\n{tool_instr}\"\n",
    "\n",
    "    def use_tool(self, query):\n",
    "        # This will iterate through all of the tools\n",
    "        # and find the correct tool that the agent requested\n",
    "        for tool in self.toolset:\n",
    "            if tool.tool_is_used(query):\n",
    "                # use the tool and return the output\n",
    "                return tool.use_tool(tool.process_query(query))\n",
    "        return f\"No tool match for search: {query}\"\n",
    "\n",
    "if USE_CHAT:\n",
    "    tools = ToolManager([TxGemmaChatTool(), Mutagenicity(), ClinTox(), PubMedSearch()])\n",
    "else:\n",
    "    tools = ToolManager([Mutagenicity(), ClinTox(), PubMedSearch()])"
   ]
  },
  {
   "cell_type": "markdown",
   "id": "84697557-a96a-4423-89ce-bfd3069d750b",
   "metadata": {
    "id": "84697557-a96a-4423-89ce-bfd3069d750b"
   },
   "source": [
    "### Creating a gemini inference tool"
   ]
  },
  {
   "cell_type": "code",
   "execution_count": 13,
   "id": "29ea0659-4ad4-4324-ae79-1b00a473af25",
   "metadata": {},
   "outputs": [],
   "source": [
    "def inference_gemini(prompt, system_prompt, model_str):\n",
    "  # Check to see that our model string matches\n",
    "  if model_str == \"gemini-2.5-flash\":\n",
    "    model = genai.GenerativeModel(model_name=\"gemini-2.5-flash-preview-05-20\", system_instruction=system_prompt)\n",
    "    response = model.generate_content(prompt)\n",
    "    answer = response.text\n",
    "  return answer"
   ]
  },
  {
   "cell_type": "code",
   "execution_count": 29,
   "id": "5ce4bf0c-fefb-4e1f-8c22-67bf10cfd358",
   "metadata": {
    "id": "5ce4bf0c-fefb-4e1f-8c22-67bf10cfd358"
   },
   "outputs": [],
   "source": [
    "# def inference_llama(prompt: str, system_prompt: str, model_str: str) -> str:\n",
    "#     if model_str == \"llama-3.1-8B\":\n",
    "#         full_prompt = system_prompt.strip() + \"\\n\" + prompt.strip()\n",
    "#         outputs = pipe(full_prompt, return_full_text=False)\n",
    "#         return outputs[0][\"generated_text\"]\n",
    "#     else:\n",
    "#         raise ValueError(f\"Unsupported model_str: {model_str}\")"
   ]
  },
  {
   "cell_type": "markdown",
   "id": "cb2a665f-df58-4ed5-b8b8-8268827adf9f",
   "metadata": {},
   "source": [
    "# Creating a therapeutics agent"
   ]
  },
  {
   "cell_type": "code",
   "execution_count": 16,
   "id": "7b6aa3bb-a4f7-4073-8e6a-e970da853917",
   "metadata": {
    "id": "e52c2282-0fa3-45ee-8e2d-b84389ef68c2"
   },
   "outputs": [
    {
     "name": "stdout",
     "output_type": "stream",
     "text": [
      "Thought: To answer this question about drug toxicity, I would first use a chemical database to identify the compound and check for existing toxicity data. If no direct data is available, I would then employ computational toxicology tools to predict various toxicity endpoints and analyze the molecule for known toxicophores, especially noting the aliphatic fluorine substitution on the amine chain.\n",
      "Action: ```ClinToxPred\n",
      "COc1c(F)cccc1C1=C(c2ccc(O[C@H]3CCN(CCCF)C3)cc2)c2ccc(O)cc2CCC1\n",
      "```\n",
      "Observation: COc1c(F)cccc1C1=C(c2ccc(O[C@H]3CCN(CCCF)C3)cc2)c2ccc(O)cc2CCC1 is predicted to be toxic!\n",
      "Thought: Given the compound is predicted toxic, I would analyze its structure for known toxicophores, specifically focusing on the aliphatic fluorinated chain and the tertiary amine, as these can lead to reactive metabolites or interfere with essential biochemical pathways.\n",
      "Action: ```TxGemmaChat\n",
      "Given the SMILES string COc1c(F)cccc1C1=C(c2ccc(O[C@H]3CCN(CCCF)C3)cc2)c2ccc(O)cc2CCC1, and that it has been predicted to be toxic, can you discuss potential reasons for its toxicity, specifically considering the presence of an aliphatic fluorinated chain (CCCF) and a tertiary amine within the molecule?\n",
      "```\n",
      "Observation: Given the SMILES string COc1c(F)cccc1C1=C(c2ccc(O[C@H]3CCN(CCCF)C3)cc2)c2ccc(O)cc2CCC1, and that it has been predicted to be toxic, can you discuss potential reasons for its toxicity, specifically considering the presence of an aliphatic fluorinated chain (CCCF) and a tertiary amine within the molecule?\n",
      "\n",
      "Aliphatic fluorinated chains are known to be more lipophilic and thus can increase cell membrane permeability and bioaccumulation. Lipophilicity can also enhance\n",
      "Thought: The drug is predicted to be toxic. Its toxicity can be attributed to several properties, primarily the aliphatic fluorinated chain and the tertiary amine. The fluorinated chain can increase lipophilicity, leading to enhanced cell membrane permeability and bioaccumulation, and may undergo defluorination to produce highly toxic reactive metabolites like fluoroacetate analogs, which disrupt cellular metabolism (e.g., tricarboxylic acid cycle). The tertiary amine can be a site of metabolic N-oxidation, potentially forming reactive intermediates or altering drug-target interactions, and may also contribute to interactions with various biological targets or transporters.\n",
      "Action: The drug with the SMILES string `COc1c(F)cccc1C1=C(c2ccc(O[C@H]3CCN(CCCF)C3)cc2)c2ccc(O)cc2CCC1` has been predicted to be toxic.\n",
      "\n",
      "The properties that contribute to its toxicity, specifically considering the presence of an aliphatic fluorinated chain and a tertiary amine within the molecule, are:\n",
      "\n",
      "1.  **Aliphatic Fluorinated Chain (CCCF)**:\n",
      "    *   **Increased Lipophilicity**: The presence of fluorine atoms generally increases the lipophilicity of a molecule. This can enhance its ability to cross cell membranes, increasing cell membrane permeability and leading to higher bioaccumulation within the body.\n",
      "    *   **Metabolic Defluorination**: Aliphatic carbon-fluorine bonds, especially in certain structural contexts, can be susceptible to metabolic defluorination. This process can produce highly toxic reactive metabolites, such as fluoroacetate analogs. Fluoroacetate is known to be a potent inhibitor of the aconitase enzyme in the tricarboxylic acid (TCA) cycle, leading to the accumulation of citrate and subsequent disruption of cellular energy production.\n",
      "\n",
      "2.  **Tertiary Amine**:\n",
      "    *   **Metabolic N-oxidation**: Tertiary amines are often substrates for N-oxidation by cytochrome P450 enzymes (e.g., flavin-containing monooxygenases). This can lead to the formation of N-oxides or other reactive intermediates that may contribute to toxicity or alter the pharmacological profile of the drug.\n",
      "    *   **Interactions with Biological Targets**: Tertiary amines can interact with a variety of biological targets, including receptors, ion channels, and transporters, due to their basicity and potential for hydrogen bonding or charge-charge interactions. While this is often related to therapeutic effects, off-target interactions can lead to adverse effects and toxicity.\n",
      "Observation: No tool match for search: The drug with the SMILES string `COc1c(F)cccc1C1=C(c2ccc(O[C@H]3CCN(CCCF)C3)cc2)c2ccc(O)cc2CCC1` has been predicted to be toxic.\n",
      "\n",
      "The properties that contribute to its toxicity, specifically considering the presence of an aliphatic fluorinated chain and a tertiary amine within the molecule, are:\n",
      "\n",
      "1.  **Aliphatic Fluorinated Chain (CCCF)**:\n",
      "    *   **Increased Lipophilicity**: The presence of fluorine atoms generally increases the lipophilicity of a molecule. This can enhance its ability to cross cell membranes, increasing cell membrane permeability and leading to higher bioaccumulation within the body.\n",
      "    *   **Metabolic Defluorination**: Aliphatic carbon-fluorine bonds, especially in certain structural contexts, can be susceptible to metabolic defluorination. This process can produce highly toxic reactive metabolites, such as fluoroacetate analogs. Fluoroacetate is known to be a potent inhibitor of the aconitase enzyme in the tricarboxylic acid (TCA) cycle, leading to the accumulation of citrate and subsequent disruption of cellular energy production.\n",
      "\n",
      "2.  **Tertiary Amine**:\n",
      "    *   **Metabolic N-oxidation**: Tertiary amines are often substrates for N-oxidation by cytochrome P450 enzymes (e.g., flavin-containing monooxygenases). This can lead to the formation of N-oxides or other reactive intermediates that may contribute to toxicity or alter the pharmacological profile of the drug.\n",
      "    *   **Interactions with Biological Targets**: Tertiary amines can interact with a variety of biological targets, including receptors, ion channels, and transporters, due to their basicity and potential for hydrogen bonding or charge-charge interactions. While this is often related to therapeutic effects, off-target interactions can lead to adverse effects and toxicity.\n",
      "Thought: The drug is predicted to be toxic. Its toxicity is primarily due to the aliphatic fluorinated chain, which increases lipophilicity and can lead to toxic fluoroacetate-like metabolites, and the tertiary amine, which can undergo N-oxidation forming reactive intermediates and cause off-target interactions.\n",
      "Action: The drug with the SMILES string `COc1c(F)cccc1C1=C(c2ccc(O[C@H]3CCN(CCCF)C3)cc2)c2ccc(O)cc2CCC1` is predicted to be toxic.\n",
      "\n",
      "The properties that contribute to its toxicity are primarily related to the presence of the **aliphatic fluorinated chain (CCCF)** and the **tertiary amine** within its structure:\n",
      "\n",
      "1.  **Aliphatic Fluorinated Chain (CCCF)**:\n",
      "    *   **Increased Lipophilicity**: The fluorine atoms increase the lipophilicity of the molecule, which can enhance its ability to cross cell membranes and increase bioaccumulation within the body, potentially leading to higher concentrations in tissues and subsequent toxicity.\n",
      "    *   **Metabolic Defluorination**: Aliphatic carbon-fluorine bonds can be susceptible to metabolic defluorination. This process can generate highly toxic reactive metabolites, such as fluoroacetate analogs. Fluoroacetate is known to disrupt the tricarboxylic acid (TCA) cycle by inhibiting aconitase, leading to the accumulation of citrate and severe metabolic dysfunction.\n",
      "\n",
      "2.  **Tertiary Amine**:\n",
      "    *   **Metabolic N-oxidation**: Tertiary amines are often substrates for N-oxidation by cytochrome P450 enzymes. This can result in the formation of N-oxides or other reactive intermediates that may contribute to adverse effects or alter the drug's metabolic fate and overall toxicity profile.\n",
      "    *   **Interactions with Biological Targets**: The basicity and structural features of tertiary amines allow them to interact with a variety of biological targets, including receptors, ion channels, and transporters. While such interactions are often responsible for therapeutic effects, off-target binding can lead to unintended side effects and toxicity.\n",
      "Observation: No tool match for search: The drug with the SMILES string `COc1c(F)cccc1C1=C(c2ccc(O[C@H]3CCN(CCCF)C3)cc2)c2ccc(O)cc2CCC1` is predicted to be toxic.\n",
      "\n",
      "The properties that contribute to its toxicity are primarily related to the presence of the **aliphatic fluorinated chain (CCCF)** and the **tertiary amine** within its structure:\n",
      "\n",
      "1.  **Aliphatic Fluorinated Chain (CCCF)**:\n",
      "    *   **Increased Lipophilicity**: The fluorine atoms increase the lipophilicity of the molecule, which can enhance its ability to cross cell membranes and increase bioaccumulation within the body, potentially leading to higher concentrations in tissues and subsequent toxicity.\n",
      "    *   **Metabolic Defluorination**: Aliphatic carbon-fluorine bonds can be susceptible to metabolic defluorination. This process can generate highly toxic reactive metabolites, such as fluoroacetate analogs. Fluoroacetate is known to disrupt the tricarboxylic acid (TCA) cycle by inhibiting aconitase, leading to the accumulation of citrate and severe metabolic dysfunction.\n",
      "\n",
      "2.  **Tertiary Amine**:\n",
      "    *   **Metabolic N-oxidation**: Tertiary amines are often substrates for N-oxidation by cytochrome P450 enzymes. This can result in the formation of N-oxides or other reactive intermediates that may contribute to adverse effects or alter the drug's metabolic fate and overall toxicity profile.\n",
      "    *   **Interactions with Biological Targets**: The basicity and structural features of tertiary amines allow them to interact with a variety of biological targets, including receptors, ion channels, and transporters. While such interactions are often responsible for therapeutic effects, off-target binding can lead to unintended side effects and toxicity.\n",
      "\n",
      "Final Response: The drug with the SMILES string `COc1c(F)cccc1C1=C(c2ccc(O[C@H]3CCN(CCCF)C3)cc2)c2ccc(O)cc2CCC1` is **predicted to be toxic**.\n",
      "\n",
      "The properties that contribute to its toxicity are primarily related to the presence of two key structural features: an **aliphatic fluorinated chain (CCCF)** and a **tertiary amine**.\n",
      "\n",
      "1.  **Aliphatic Fluorinated Chain (CCCF)**:\n",
      "    *   **Increased Lipophilicity and Bioaccumulation**: The fluorine atoms in the aliphatic chain significantly increase the molecule's lipophilicity. This enhanced lipophilicity allows the drug to more readily cross biological membranes (e.g., cell membranes, blood-brain barrier), increasing its tissue distribution and potential for bioaccumulation. Higher concentrations in tissues can lead to greater exposure to cellular components and an increased likelihood of adverse effects.\n",
      "    *   **Metabolic Defluorination and Toxic Metabolite Formation**: Aliphatic carbon-fluorine bonds can be susceptible to metabolic defluorination, a process where enzymes cleave the C-F bond. This can generate highly toxic reactive metabolites, such as fluoroacetate analogs. Fluoroacetate is a well-known metabolic poison; it is converted to fluorocitrate, which then acts as a potent inhibitor of aconitase in the tricarboxylic acid (TCA) cycle. This inhibition disrupts cellular energy production and leads to the accumulation of citrate, causing severe metabolic dysfunction and cellular damage.\n",
      "\n",
      "2.  **Tertiary Amine**:\n",
      "    *   **Metabolic N-oxidation and Reactive Intermediates**: Tertiary amines are common substrates for metabolic enzymes, particularly cytochrome P450 enzymes (CYPs) and flavin-containing monooxygenases (FMOs). These enzymes can oxidize the tertiary amine nitrogen, forming N-oxides or other reactive intermediates. These intermediates can potentially contribute to toxicity directly or indirectly by altering the drug's metabolic fate, leading to the formation of further toxic species, or by interacting with cellular macromolecules.\n",
      "    *   **Broad Biological Interactions and Off-Target Effects**: Tertiary amines are often basic and can exist in protonated forms at physiological pH. This basicity and their potential for hydrogen bonding allow them to interact with a wide array of biological targets, including receptors, ion channels, and transporters. While these interactions are often crucial for the drug's intended therapeutic effect, non-selective or off-target binding can lead to unintended pharmacological effects, contributing to the drug's overall toxicity profile.\n"
     ]
    }
   ],
   "source": [
    "# This class defines our Agentic-Tx, wrapping together all of our tools and the orchestrator\n",
    "class AgenticTx:\n",
    "  def __init__(self, tool_manager, model_str, num_steps=5):\n",
    "    self.curr_steps = 0\n",
    "    self.num_steps = num_steps\n",
    "    self.model_str = model_str\n",
    "    self.tool_manager = tool_manager\n",
    "    self.thoughts = list()\n",
    "    self.actions  = list()\n",
    "    self.observations = list()\n",
    "\n",
    "  def reset(self):\n",
    "    # Reset the number of steps taken\n",
    "    self.curr_steps = 0\n",
    "\n",
    "  def system_prompt(self, use_tools=True):\n",
    "    # These are the system instructions for AgenticTx\n",
    "    role_prompt = \"You are an expert therapeutic agent. You answer accurately and thoroughly.\"\n",
    "    prev_actions = f\"You can perform a maximum of {self.num_steps} actions. You have performed {self.curr_steps} and have {self.num_steps - self.curr_steps - 1} left.\"\n",
    "    if use_tools: tool_prompt = \"You can use tools to solve problems and answer questions. \" + self.tool_manager.tool_prompt()\n",
    "    else: tool_prompt = \"You cannot use any tools right now.\"\n",
    "    return f\"{role_prompt} {prev_actions} {tool_prompt}\"\n",
    "\n",
    "  def prior_information(self, query):\n",
    "      info_txt = f\"Question: {query}\\n\" if query is not None else \"\"\n",
    "      for _i in range(self.curr_steps):\n",
    "          info_txt += f\"### Thought {_i + 1}: {self.thoughts[_i]}\\n\"\n",
    "          info_txt += f\"### Action {_i + 1}: {self.actions[_i]}\\n\"\n",
    "          info_txt += f\"### Observation {_i + 1}: {self.observations[_i]}\\n\\n\"\n",
    "          info_txt += \"@\"*20\n",
    "      return info_txt\n",
    "\n",
    "  def step(self, question):\n",
    "    for _i in range(self.num_steps):\n",
    "      if self.curr_steps == self.num_steps-1:\n",
    "        return inference_gemini(\n",
    "            model_str=self.model_str,\n",
    "            prompt=f\"{self.prior_information(question)}\\nYou must now provide an answer to this question {question}\",\n",
    "            system_prompt=self.system_prompt(use_tools=False))\n",
    "      else:\n",
    "        # Provide a thought step, planning for the model\n",
    "        thought = inference_gemini(\n",
    "            model_str=self.model_str,\n",
    "            prompt=f\"{self.prior_information(question)}\\nYou cannot currently use tools but you can think about the problem and what tools you want to use. This was the question, think about plans for how to use tools to answer this {question}. Let's think step by step (respond with only 1-2 sentences).\\nThought: \",\n",
    "            system_prompt=self.system_prompt(use_tools=False))\n",
    "        # Provide a took action for the model\n",
    "        action = inference_gemini(\n",
    "            model_str=self.model_str,\n",
    "            prompt=f\"{self.prior_information(question)}\\n{thought}\\nNow you must use tools to answer the following user query [{question}], closely following the tool instructions. Tool\",\n",
    "            system_prompt=self.system_prompt(use_tools=True))\n",
    "        obs = self.tool_manager.use_tool(action)\n",
    "\n",
    "        print(\"Thought:\", thought)\n",
    "        print(\"Action:\",  action)\n",
    "        print(\"Observation:\",  obs)\n",
    "\n",
    "        self.thoughts.append(thought)\n",
    "        self.actions.append(action)\n",
    "        self.observations.append(obs)\n",
    "\n",
    "        self.curr_steps += 1\n",
    "\n",
    "\n",
    "agentictx = AgenticTx(tool_manager=tools, model_str=\"gemini-2.5-flash\")\n",
    "# It should select CS(=O)(=O)C1=C2[C@@H]([C@@H]([C@@H](C2=C(C=C1)OC3=CC(=CC(=C3)C#N)F)F)F)O because it is a known HIF-2a binder\n",
    "response = agentictx.step(\"Is this drug toxic COc1c(F)cccc1C1=C(c2ccc(O[C@H]3CCN(CCCF)C3)cc2)c2ccc(O)cc2CCC1? If it is toxic, what are the properties that makes it toxic\")\n",
    "print(\"\\nFinal Response:\", response)"
   ]
  }
 ],
 "metadata": {
  "accelerator": "GPU",
  "colab": {
   "gpuType": "T4",
   "provenance": []
  },
  "kernelspec": {
   "display_name": "Python 3",
   "language": "python",
   "name": "python3"
  },
  "language_info": {
   "codemirror_mode": {
    "name": "ipython",
    "version": 3
   },
   "file_extension": ".py",
   "mimetype": "text/x-python",
   "name": "python",
   "nbconvert_exporter": "python",
   "pygments_lexer": "ipython3",
   "version": "3.11.0"
  },
  "widgets": {
   "application/vnd.jupyter.widget-state+json": {
    "01d901bf1e094f4e9eacc30ef3622bcb": {
     "model_module": "@jupyter-widgets/base",
     "model_module_version": "1.2.0",
     "model_name": "LayoutModel",
     "state": {
      "_model_module": "@jupyter-widgets/base",
      "_model_module_version": "1.2.0",
      "_model_name": "LayoutModel",
      "_view_count": null,
      "_view_module": "@jupyter-widgets/base",
      "_view_module_version": "1.2.0",
      "_view_name": "LayoutView",
      "align_content": null,
      "align_items": null,
      "align_self": null,
      "border": null,
      "bottom": null,
      "display": null,
      "flex": null,
      "flex_flow": null,
      "grid_area": null,
      "grid_auto_columns": null,
      "grid_auto_flow": null,
      "grid_auto_rows": null,
      "grid_column": null,
      "grid_gap": null,
      "grid_row": null,
      "grid_template_areas": null,
      "grid_template_columns": null,
      "grid_template_rows": null,
      "height": null,
      "justify_content": null,
      "justify_items": null,
      "left": null,
      "margin": null,
      "max_height": null,
      "max_width": null,
      "min_height": null,
      "min_width": null,
      "object_fit": null,
      "object_position": null,
      "order": null,
      "overflow": null,
      "overflow_x": null,
      "overflow_y": null,
      "padding": null,
      "right": null,
      "top": null,
      "visibility": null,
      "width": null
     }
    },
    "0ed0eca26b0c46e884ef796a36dab527": {
     "model_module": "@jupyter-widgets/controls",
     "model_module_version": "1.5.0",
     "model_name": "ProgressStyleModel",
     "state": {
      "_model_module": "@jupyter-widgets/controls",
      "_model_module_version": "1.5.0",
      "_model_name": "ProgressStyleModel",
      "_view_count": null,
      "_view_module": "@jupyter-widgets/base",
      "_view_module_version": "1.2.0",
      "_view_name": "StyleView",
      "bar_color": null,
      "description_width": ""
     }
    },
    "51fa6cdfcd92429196a7e00eb6eac86a": {
     "model_module": "@jupyter-widgets/controls",
     "model_module_version": "1.5.0",
     "model_name": "FloatProgressModel",
     "state": {
      "_dom_classes": [],
      "_model_module": "@jupyter-widgets/controls",
      "_model_module_version": "1.5.0",
      "_model_name": "FloatProgressModel",
      "_view_count": null,
      "_view_module": "@jupyter-widgets/controls",
      "_view_module_version": "1.5.0",
      "_view_name": "ProgressView",
      "bar_style": "success",
      "description": "",
      "description_tooltip": null,
      "layout": "IPY_MODEL_01d901bf1e094f4e9eacc30ef3622bcb",
      "max": 768023,
      "min": 0,
      "orientation": "horizontal",
      "style": "IPY_MODEL_0ed0eca26b0c46e884ef796a36dab527",
      "value": 768023
     }
    },
    "58caf0aa8b514eeb87a03f06d3d8a9d6": {
     "model_module": "@jupyter-widgets/controls",
     "model_module_version": "1.5.0",
     "model_name": "HTMLModel",
     "state": {
      "_dom_classes": [],
      "_model_module": "@jupyter-widgets/controls",
      "_model_module_version": "1.5.0",
      "_model_name": "HTMLModel",
      "_view_count": null,
      "_view_module": "@jupyter-widgets/controls",
      "_view_module_version": "1.5.0",
      "_view_name": "HTMLView",
      "description": "",
      "description_tooltip": null,
      "layout": "IPY_MODEL_ed6060fbe8e44d54b243e108c828a634",
      "placeholder": "​",
      "style": "IPY_MODEL_7535a7e8769a4be185a9bfee36eec56c",
      "value": "tdc_prompts.json: 100%"
     }
    },
    "58eddef3b8424af1b4dac52fb8dc2827": {
     "model_module": "@jupyter-widgets/controls",
     "model_module_version": "1.5.0",
     "model_name": "HBoxModel",
     "state": {
      "_dom_classes": [],
      "_model_module": "@jupyter-widgets/controls",
      "_model_module_version": "1.5.0",
      "_model_name": "HBoxModel",
      "_view_count": null,
      "_view_module": "@jupyter-widgets/controls",
      "_view_module_version": "1.5.0",
      "_view_name": "HBoxView",
      "box_style": "",
      "children": [
       "IPY_MODEL_58caf0aa8b514eeb87a03f06d3d8a9d6",
       "IPY_MODEL_51fa6cdfcd92429196a7e00eb6eac86a",
       "IPY_MODEL_ecd955d94d0c4ce3bca4b1eed1322daf"
      ],
      "layout": "IPY_MODEL_b76970417c3b485aa30d2b17fc770932"
     }
    },
    "7535a7e8769a4be185a9bfee36eec56c": {
     "model_module": "@jupyter-widgets/controls",
     "model_module_version": "1.5.0",
     "model_name": "DescriptionStyleModel",
     "state": {
      "_model_module": "@jupyter-widgets/controls",
      "_model_module_version": "1.5.0",
      "_model_name": "DescriptionStyleModel",
      "_view_count": null,
      "_view_module": "@jupyter-widgets/base",
      "_view_module_version": "1.2.0",
      "_view_name": "StyleView",
      "description_width": ""
     }
    },
    "b76970417c3b485aa30d2b17fc770932": {
     "model_module": "@jupyter-widgets/base",
     "model_module_version": "1.2.0",
     "model_name": "LayoutModel",
     "state": {
      "_model_module": "@jupyter-widgets/base",
      "_model_module_version": "1.2.0",
      "_model_name": "LayoutModel",
      "_view_count": null,
      "_view_module": "@jupyter-widgets/base",
      "_view_module_version": "1.2.0",
      "_view_name": "LayoutView",
      "align_content": null,
      "align_items": null,
      "align_self": null,
      "border": null,
      "bottom": null,
      "display": null,
      "flex": null,
      "flex_flow": null,
      "grid_area": null,
      "grid_auto_columns": null,
      "grid_auto_flow": null,
      "grid_auto_rows": null,
      "grid_column": null,
      "grid_gap": null,
      "grid_row": null,
      "grid_template_areas": null,
      "grid_template_columns": null,
      "grid_template_rows": null,
      "height": null,
      "justify_content": null,
      "justify_items": null,
      "left": null,
      "margin": null,
      "max_height": null,
      "max_width": null,
      "min_height": null,
      "min_width": null,
      "object_fit": null,
      "object_position": null,
      "order": null,
      "overflow": null,
      "overflow_x": null,
      "overflow_y": null,
      "padding": null,
      "right": null,
      "top": null,
      "visibility": null,
      "width": null
     }
    },
    "e327110890e64215953c93b7570e5b60": {
     "model_module": "@jupyter-widgets/controls",
     "model_module_version": "1.5.0",
     "model_name": "DescriptionStyleModel",
     "state": {
      "_model_module": "@jupyter-widgets/controls",
      "_model_module_version": "1.5.0",
      "_model_name": "DescriptionStyleModel",
      "_view_count": null,
      "_view_module": "@jupyter-widgets/base",
      "_view_module_version": "1.2.0",
      "_view_name": "StyleView",
      "description_width": ""
     }
    },
    "ec3082bc4269483e82f88c2b410443b4": {
     "model_module": "@jupyter-widgets/base",
     "model_module_version": "1.2.0",
     "model_name": "LayoutModel",
     "state": {
      "_model_module": "@jupyter-widgets/base",
      "_model_module_version": "1.2.0",
      "_model_name": "LayoutModel",
      "_view_count": null,
      "_view_module": "@jupyter-widgets/base",
      "_view_module_version": "1.2.0",
      "_view_name": "LayoutView",
      "align_content": null,
      "align_items": null,
      "align_self": null,
      "border": null,
      "bottom": null,
      "display": null,
      "flex": null,
      "flex_flow": null,
      "grid_area": null,
      "grid_auto_columns": null,
      "grid_auto_flow": null,
      "grid_auto_rows": null,
      "grid_column": null,
      "grid_gap": null,
      "grid_row": null,
      "grid_template_areas": null,
      "grid_template_columns": null,
      "grid_template_rows": null,
      "height": null,
      "justify_content": null,
      "justify_items": null,
      "left": null,
      "margin": null,
      "max_height": null,
      "max_width": null,
      "min_height": null,
      "min_width": null,
      "object_fit": null,
      "object_position": null,
      "order": null,
      "overflow": null,
      "overflow_x": null,
      "overflow_y": null,
      "padding": null,
      "right": null,
      "top": null,
      "visibility": null,
      "width": null
     }
    },
    "ecd955d94d0c4ce3bca4b1eed1322daf": {
     "model_module": "@jupyter-widgets/controls",
     "model_module_version": "1.5.0",
     "model_name": "HTMLModel",
     "state": {
      "_dom_classes": [],
      "_model_module": "@jupyter-widgets/controls",
      "_model_module_version": "1.5.0",
      "_model_name": "HTMLModel",
      "_view_count": null,
      "_view_module": "@jupyter-widgets/controls",
      "_view_module_version": "1.5.0",
      "_view_name": "HTMLView",
      "description": "",
      "description_tooltip": null,
      "layout": "IPY_MODEL_ec3082bc4269483e82f88c2b410443b4",
      "placeholder": "​",
      "style": "IPY_MODEL_e327110890e64215953c93b7570e5b60",
      "value": " 768k/768k [00:01&lt;00:00, 693kB/s]"
     }
    },
    "ed6060fbe8e44d54b243e108c828a634": {
     "model_module": "@jupyter-widgets/base",
     "model_module_version": "1.2.0",
     "model_name": "LayoutModel",
     "state": {
      "_model_module": "@jupyter-widgets/base",
      "_model_module_version": "1.2.0",
      "_model_name": "LayoutModel",
      "_view_count": null,
      "_view_module": "@jupyter-widgets/base",
      "_view_module_version": "1.2.0",
      "_view_name": "LayoutView",
      "align_content": null,
      "align_items": null,
      "align_self": null,
      "border": null,
      "bottom": null,
      "display": null,
      "flex": null,
      "flex_flow": null,
      "grid_area": null,
      "grid_auto_columns": null,
      "grid_auto_flow": null,
      "grid_auto_rows": null,
      "grid_column": null,
      "grid_gap": null,
      "grid_row": null,
      "grid_template_areas": null,
      "grid_template_columns": null,
      "grid_template_rows": null,
      "height": null,
      "justify_content": null,
      "justify_items": null,
      "left": null,
      "margin": null,
      "max_height": null,
      "max_width": null,
      "min_height": null,
      "min_width": null,
      "object_fit": null,
      "object_position": null,
      "order": null,
      "overflow": null,
      "overflow_x": null,
      "overflow_y": null,
      "padding": null,
      "right": null,
      "top": null,
      "visibility": null,
      "width": null
     }
    }
   }
  }
 },
 "nbformat": 4,
 "nbformat_minor": 5
}
