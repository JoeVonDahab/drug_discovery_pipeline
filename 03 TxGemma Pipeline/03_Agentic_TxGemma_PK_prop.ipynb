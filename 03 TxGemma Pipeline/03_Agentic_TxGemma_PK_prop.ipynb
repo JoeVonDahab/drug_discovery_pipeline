{
 "cells": [
  {
   "cell_type": "code",
   "execution_count": null,
   "id": "2d74ed6b",
   "metadata": {
    "id": "2d74ed6b"
   },
   "outputs": [
    {
     "name": "stderr",
     "output_type": "stream",
     "text": [
      "/usr/local/lib/python3.10/dist-packages/tqdm/auto.py:21: TqdmWarning: IProgress not found. Please update jupyter and ipywidgets. See https://ipywidgets.readthedocs.io/en/stable/user_install.html\n",
      "  from .autonotebook import tqdm as notebook_tqdm\n"
     ]
    }
   ],
   "source": [
    "import os, re\n",
    "import google.generativeai as genai\n",
    "\n",
    "os.environ[\"HF_TOKEN\"] = \"\"\n",
    "genai.configure(api_key=\"\")"
   ]
  },
  {
   "cell_type": "code",
   "execution_count": 2,
   "id": "IOGKgkrJl4pk",
   "metadata": {
    "colab": {
     "base_uri": "https://localhost:8080/",
     "height": 49,
     "referenced_widgets": [
      "7b1fc1323b774b37848351700ed2d326",
      "2c0d54af95724e9a97eddfc2b4a69fee",
      "2bddab3efac4495cbce24fb5f09d0003",
      "8830c914a7804ab0b66f574fe07f327a",
      "2592f55cc75b41caa7cd8831f23d7963",
      "714b2b8270a04cde91fc5034df6a4465",
      "ba50a6c5d28a442e918be9d3e48f632a",
      "1d85631e18404082b279d1f1ba422833",
      "725d503f395b42eeb7eb7bf8636525f8",
      "212301f0b442421693d077c01e0f27ca",
      "90afe47fc2734888a05e422de4c6a657"
     ]
    },
    "id": "IOGKgkrJl4pk",
    "outputId": "92ce5e96-736f-42e7-d524-e6248b5eb2b9"
   },
   "outputs": [],
   "source": [
    "import json\n",
    "from huggingface_hub import hf_hub_download\n",
    "\n",
    "tdc_prompts_filepath = hf_hub_download(\n",
    "    repo_id=\"google/txgemma-27b-predict\",\n",
    "    filename=\"tdc_prompts.json\",\n",
    ")\n",
    "\n",
    "with open(tdc_prompts_filepath, \"r\") as f:\n",
    "    tdc_prompts_json = json.load(f)"
   ]
  },
  {
   "cell_type": "code",
   "execution_count": 4,
   "id": "337bfbaa",
   "metadata": {},
   "outputs": [
    {
     "data": {
      "text/plain": [
       "'Instructions: Answer the following question about drug properties.\\nContext: Drug clearance is defined as the volume of plasma cleared of a drug over a specified time period and it measures the rate at which the active drug is removed from the body.\\nQuestion: Given a drug SMILES string, predict its normalized hepatocyte clearance from 000 to 1000, where 000 is minimum hepatocyte clearance and 1000 is maximum hepatocyte clearance.\\nDrug SMILES: {Drug SMILES}\\nAnswer:'"
      ]
     },
     "execution_count": 4,
     "metadata": {},
     "output_type": "execute_result"
    }
   ],
   "source": [
    "## Clearance Hepatocyte AZ: Given a drug SMILES, predict the activity of hepatocyte clearance.\n",
    "tdc_prompts_json[\"Clearance_Hepatocyte_AZ\"]"
   ]
  },
  {
   "cell_type": "code",
   "execution_count": 5,
   "id": "7eb1a1ce",
   "metadata": {},
   "outputs": [
    {
     "data": {
      "text/plain": [
       "'Instructions: Answer the following question about drug properties.\\nContext: Drug clearance is defined as the volume of plasma cleared of a drug over a specified time period and it measures the rate at which the active drug is removed from the body.\\nQuestion: Given a drug SMILES string, predict its normalized microsome clearance activity from 000 to 1000, where 000 is minimum microsome clearance and 1000 is maximum microsome clearance.\\nDrug SMILES: {Drug SMILES}\\nAnswer:'"
      ]
     },
     "execution_count": 5,
     "metadata": {},
     "output_type": "execute_result"
    }
   ],
   "source": [
    "#### Clearance Microsome AZ: Given a drug SMILES, predict the activity of microsome clearance.\n",
    "tdc_prompts_json[\"Clearance_Microsome_AZ\"]"
   ]
  },
  {
   "cell_type": "code",
   "execution_count": 6,
   "id": "2694b50a",
   "metadata": {},
   "outputs": [
    {
     "data": {
      "text/plain": [
       "'Instructions: Answer the following question about drug properties.\\nContext: Half life of a drug is the duration for the concentration of the drug in the body to be reduced by half. It measures the duration of actions of a drug. \\nQuestion: Given a drug SMILES string, predict its normalized half life from 000 to 1000, where 000 is minimum half life and 1000 is maximum half life.\\nDrug SMILES: {Drug SMILES}\\nAnswer:'"
      ]
     },
     "execution_count": 6,
     "metadata": {},
     "output_type": "execute_result"
    }
   ],
   "source": [
    "#### Half Life Obach: Given a drug SMILES, predict the half life duration.\n",
    "tdc_prompts_json[\"Half_Life_Obach\"]"
   ]
  },
  {
   "cell_type": "code",
   "execution_count": 7,
   "id": "f0fe33b8",
   "metadata": {},
   "outputs": [
    {
     "data": {
      "text/plain": [
       "\"Instructions: Answer the following question about drug properties.\\nContext: The volume of distribution at steady state (VDss) measures the degree of a drug's concentration in body tissue compared to concentration in blood. Higher VD indicates a higher distribution in the tissue and usually indicates the drug with high lipid solubility, low plasma protein binding rate.\\nQuestion: Given a drug SMILES string, predict its normalized volume of distribution from 000 to 1000, where 000 is minimum volume of distribution and 1000 is maximum volume of distribution.\\nDrug SMILES: {Drug SMILES}\\nAnswer:\""
      ]
     },
     "execution_count": 7,
     "metadata": {},
     "output_type": "execute_result"
    }
   ],
   "source": [
    "####VDss Lombardo: Given a drug SMILES, predict the volume of distributon.\n",
    "tdc_prompts_json[\"VDss_Lombardo\"]"
   ]
  },
  {
   "cell_type": "code",
   "execution_count": 8,
   "id": "c20fdc96",
   "metadata": {},
   "outputs": [
    {
     "data": {
      "text/plain": [
       "'Instructions: Answer the following question about drug properties.\\nContext: Oral bioavailability is defined as “the rate and extent to which the active ingredient or active moiety is absorbed from a drug product and becomes available at the site of action”.\\n\\n\\nQuestion: Given a drug SMILES string, predict whether it\\n(A) has oral bioavailability < 20% (B) has oral bioavailability ≥ 20%\\nDrug SMILES: {Drug SMILES}\\nAnswer:'"
      ]
     },
     "execution_count": 8,
     "metadata": {},
     "output_type": "execute_result"
    }
   ],
   "source": [
    "####Bioavailability Ma : Given a drug SMILES, predict whether it is orally available.\n",
    "tdc_prompts_json[\"Bioavailability_Ma\"]"
   ]
  },
  {
   "cell_type": "code",
   "execution_count": 9,
   "id": "p2WWWAoBmv1i",
   "metadata": {
    "id": "p2WWWAoBmv1i"
   },
   "outputs": [
    {
     "name": "stderr",
     "output_type": "stream",
     "text": [
      "Fetching 8 files: 100%|██████████| 8/8 [03:29<00:00, 26.13s/it] \n",
      "Loading checkpoint shards: 100%|██████████| 8/8 [00:11<00:00,  1.49s/it]\n",
      "Fetching 4 files: 100%|██████████| 4/4 [02:10<00:00, 32.73s/it] \n",
      "Loading checkpoint shards: 100%|██████████| 4/4 [00:10<00:00,  2.69s/it]\n"
     ]
    }
   ],
   "source": [
    "from transformers import AutoTokenizer, AutoModelForCausalLM, BitsAndBytesConfig\n",
    "\n",
    "PREDICT_VARIANT = \"9b-predict\"  # @param [\"2b-predict\", \"9b-predict\", \"27b-predict\"]\n",
    "CHAT_VARIANT = \"9b-chat\" # @param [\"9b-chat\", \"27b-chat\"]\n",
    "USE_CHAT = True # @param {type: \"boolean\"}\n",
    "\n",
    "quantization_config = BitsAndBytesConfig(load_in_4bit=True)\n",
    "\n",
    "predict_tokenizer = AutoTokenizer.from_pretrained(f\"google/txgemma-{PREDICT_VARIANT}\")\n",
    "predict_model = AutoModelForCausalLM.from_pretrained(\n",
    "    f\"google/txgemma-{PREDICT_VARIANT}\",\n",
    "    device_map=\"auto\",\n",
    "    quantization_config=quantization_config,\n",
    ")\n",
    "\n",
    "if USE_CHAT:\n",
    "    chat_tokenizer = AutoTokenizer.from_pretrained(f\"google/txgemma-{CHAT_VARIANT}\")\n",
    "    chat_model = AutoModelForCausalLM.from_pretrained(\n",
    "        f\"google/txgemma-{CHAT_VARIANT}\",\n",
    "        device_map=\"auto\",\n",
    "        quantization_config=quantization_config,\n",
    "    )"
   ]
  },
  {
   "cell_type": "code",
   "execution_count": 10,
   "id": "3c476a3a-ecb4-43f0-bab5-07de2e2858d5",
   "metadata": {},
   "outputs": [
    {
     "name": "stderr",
     "output_type": "stream",
     "text": [
      "/home/ubuntu/.local/lib/python3.10/site-packages/bitsandbytes/nn/modules.py:463: UserWarning: Input type into Linear4bit is torch.float16, but bnb_4bit_compute_dtype=torch.float32 (default). This will lead to slow inference or training speed.\n",
      "  warnings.warn(\n"
     ]
    },
    {
     "name": "stdout",
     "output_type": "stream",
     "text": [
      "Prediction model response: Instructions: Answer the following question about drug properties.\n",
      "Context: Half life of a drug is the duration for the concentration of the drug in the body to be reduced by half. It measures the duration of actions of a drug. \n",
      "Question: Given a drug SMILES string, predict its normalized half life from 000 to 1000, where 000 is minimum half life and 1000 is maximum half life.\n",
      "Drug SMILES: C[C@@H]1Cc2c([nH]c3ccccc23)[C@H](N1CC(F)(F)F)c1c(F)ccc(NCCNCCCF)c1F\n",
      "Answer:1\n",
      "Chat model response: Instructions: Answer the following question about drug properties.\n",
      "Context: Half life of a drug is the duration for the concentration of the drug in the body to be reduced by half. It measures the duration of actions of a drug. \n",
      "Question: Given a drug SMILES string, predict its normalized half life from 000 to 1000, where 000 is minimum half life and 1000 is maximum half life.\n",
      "Drug SMILES: C[C@@H]1Cc2c([nH]c3ccccc23)[C@H](N1CC(F)(F)F)c1c(F)ccc(NCCNCCCF)c1F\n",
      "Answer:10\n"
     ]
    }
   ],
   "source": [
    "## Example task and input\n",
    "task_name = \"Half_Life_Obach\"\n",
    "smiles = \"{Drug SMILES}\"\n",
    "drug_smiles = \"C[C@@H]1Cc2c([nH]c3ccccc23)[C@H](N1CC(F)(F)F)c1c(F)ccc(NCCNCCCF)c1F\"\n",
    "\n",
    "TDC_PROMPT = tdc_prompts_json[task_name].replace(smiles, drug_smiles)\n",
    "\n",
    "def txgemma_predict(prompt):\n",
    "    input_ids = predict_tokenizer(prompt, return_tensors=\"pt\").to(\"cuda\")\n",
    "    outputs = predict_model.generate(**input_ids, max_new_tokens=8)\n",
    "    return predict_tokenizer.decode(outputs[0], skip_special_tokens=True)\n",
    "\n",
    "def txgemma_chat(prompt):\n",
    "    input_ids = chat_tokenizer(prompt, return_tensors=\"pt\").to(\"cuda\")\n",
    "    outputs = chat_model.generate(**input_ids, max_new_tokens=32)\n",
    "    return chat_tokenizer.decode(outputs[0], skip_special_tokens=True)\n",
    "\n",
    "print(f\"Prediction model response: {txgemma_predict(TDC_PROMPT)}\")\n",
    "if USE_CHAT: print(f\"Chat model response: {txgemma_chat(TDC_PROMPT)}\")"
   ]
  },
  {
   "cell_type": "markdown",
   "id": "0a05786f-0bc8-4dff-a642-e143b9541d4f",
   "metadata": {},
   "source": [
    "# Tool to allow our Agentic-Tx to ask TxGemma therapeutically relevant questions"
   ]
  },
  {
   "cell_type": "code",
   "execution_count": 11,
   "id": "24ce4ff8-e105-4903-8af8-9dae8809964b",
   "metadata": {},
   "outputs": [],
   "source": [
    "# This will allow us to extract content from inside of ticks\n",
    "def extract_prompt(text, word):\n",
    "    code_block_pattern = rf\"```{word}(.*?)```\"\n",
    "    code_blocks = re.findall(code_block_pattern, text, re.DOTALL)\n",
    "    extracted_code = \"\\n\".join(code_blocks).strip()\n",
    "    return extracted_code\n",
    "\n",
    "# This class will allow us to inferface with TxGemma\n",
    "class TxGemmaChatTool:\n",
    "    def __init__(self):\n",
    "      self.tool_name = \"Chat Tool\"\n",
    "\n",
    "    def use_tool(self, question):\n",
    "        # Here, we are submitting a question to TxGemma\n",
    "        response = txgemma_chat(question)\n",
    "        return response\n",
    "\n",
    "    def tool_is_used(self, query):\n",
    "        # This just checks to see if the tool call was evoked\n",
    "        return \"```TxGemmaChat\" in query\n",
    "\n",
    "    def process_query(self, query):\n",
    "        # Here, we clean to query to remove the tool call\n",
    "        return extract_prompt(query, word=\"TxGemmaChat\")\n",
    "\n",
    "    def instructions(self):\n",
    "        # Here, we are **very** descriptively explaining how the tool works to the agent\n",
    "        # This will be useful later on\n",
    "        return (\n",
    "            \"=== Therapeutic Chat Tool Instructions ===\\n\"\n",
    "            \"### What This Tool Does\\n\"\n",
    "            \"The Therapeutic Chat Tool allows you to chat with a knowledgeable large language model named TxGemma trained on many therapeutics datasets.\"\n",
    "            \"### When and Why You Should Use It\\n\"\n",
    "            \"- If you have therapeutics related questions that you would benefit from asking TxGemma from.\\n\"\n",
    "            \"### How to Use It\\n\"\n",
    "            \"Format your query with triple backticks (```), and start with `TxGemmaChat`. Then on a new line:\\n\"\n",
    "            \"1) **Any question you would like to ask**\\n\\n\"\n",
    "            \"Example:\\n\"\n",
    "            \"```TxGemmaChat\\n\"\n",
    "            \"What is a common drug used to treat ovarian cancer?\\n\"\n",
    "            \"```\\n\")\n",
    "     "
   ]
  },
  {
   "cell_type": "markdown",
   "id": "c85711f6-b5b9-4066-a2cc-4d712e18a37d",
   "metadata": {},
   "source": [
    "# Making a TxGemma prediction"
   ]
  },
  {
   "cell_type": "code",
   "execution_count": 12,
   "id": "96b19969",
   "metadata": {},
   "outputs": [],
   "source": [
    "## Bioavailability Ma\n",
    "class BioavailabilityPred:\n",
    "    def __init__(self):\n",
    "        self.tool_name = \"Oral Bioavailability Prediction\"\n",
    "\n",
    "    def use_tool(self, smiles_string):\n",
    "        # Assuming txgemma_predict and tdc_prompts_json have an entry for Bioavailability\n",
    "        prediction = txgemma_predict(tdc_prompts_json[\"Bioavailability_Ma\"].replace(\"{Drug SMILES}\", smiles_string))\n",
    "        if \"(A)\" in prediction:   prediction = f\"{smiles_string} is predicted to have oral bioavailability < 20%!\"\n",
    "        elif \"(B)\" in prediction: prediction = f\"{smiles_string} is predicted to have oral bioavailability ≥ 20%!\"\n",
    "        return prediction\n",
    "\n",
    "    def tool_is_used(self, query):\n",
    "        # Check for exact keyword in query\n",
    "        return \"```BioavailabilityPred\" in query\n",
    "\n",
    "    def process_query(self, query):\n",
    "        # Clean query to remove tool call block and extract prompt\n",
    "        return extract_prompt(query, word=\"BioavailabilityPred\")\n",
    "\n",
    "    def instructions(self):\n",
    "        return (\n",
    "            \"=== Oral Bioavailability Prediction Instructions ===\\n\"\n",
    "            \"This tool predicts whether a small molecule (given as SMILES) is orally bioavailable.\\n\\n\"\n",
    "            \"To use this tool, invoke it exactly like this:\\n\"\n",
    "            \"```BioavailabilityPred\\n\"\n",
    "            \"{Drug SMILES}\\n\"\n",
    "            \"```\\n\\n\"\n",
    "            \"• **Keyword**: `BioavailabilityPred` (must match exactly).\\n\"\n",
    "            \"• **Line 2**: the SMILES string of your ligand.\\n\\n\"\n",
    "            \"**Example:**\\n\"\n",
    "            \"```BioavailabilityPred\\n\"\n",
    "            \"CC(=O)Oc1ccccc1C(=O)O\\n\"\n",
    "            \"```\\n\"\n",
    "            \"This will return a prediction on oral bioavailability for that molecule.\\n\"\n",
    "        )"
   ]
  },
  {
   "cell_type": "code",
   "execution_count": 13,
   "id": "e1f06ad5",
   "metadata": {},
   "outputs": [
    {
     "name": "stdout",
     "output_type": "stream",
     "text": [
      "COc1c(F)cccc1C1=C(c2ccc(O[C@H]3CCN(CCCF)C3)cc2)c2ccc(O)cc2CCC1 is predicted to have oral bioavailability < 20%!\n"
     ]
    }
   ],
   "source": [
    "bioavailPred = BioavailabilityPred()\n",
    "\n",
    "# Use only the SMILES string since BioavailabilityPred takes just that\n",
    "smiles = \"COc1c(F)cccc1C1=C(c2ccc(O[C@H]3CCN(CCCF)C3)cc2)c2ccc(O)cc2CCC1\"\n",
    "prediction_bioavail = bioavailPred.use_tool(smiles)\n",
    "print(prediction_bioavail)"
   ]
  },
  {
   "cell_type": "code",
   "execution_count": 61,
   "id": "c4dc8024",
   "metadata": {},
   "outputs": [],
   "source": [
    "# class ClearanceHepatocyteAZPred:\n",
    "#     def __init__(self):\n",
    "#         self.tool_name = \"Clearance Hepatocyte AZ Prediction\"\n",
    "\n",
    "#     def use_tool(self, smiles_string):\n",
    "#         # Assuming txgemma_predict and tdc_prompts_json have an entry for ClearanceHepatocyteAZ\n",
    "#         prediction = txgemma_predict(\n",
    "#             tdc_prompts_json[\"Clearance_Hepatocyte_AZ\"].replace(\"{Drug SMILES}\", smiles_string)\n",
    "#         )\n",
    "#         # Example expected output: \"Answer: Clearance value: 45.6\"\n",
    "#         match = re.search(r\"Answer:\\s*(?:Clearance value:\\s*)?([0-9]*\\.?[0-9]+)\", prediction)\n",
    "        \n",
    "#         if match:\n",
    "#             clearance_value = match.group(1)\n",
    "#             return f\"{smiles_string} is predicted to have hepatocyte clearance with a value of {clearance_value}(L/min).\"\n",
    "#         else:\n",
    "#             return \"Prediction output format unrecognized.\"\n",
    "\n",
    "#     def tool_is_used(self, query):\n",
    "#         return \"```ClearanceHepatocyteAZPred\" in query\n",
    "\n",
    "#     def process_query(self, query):\n",
    "#         return extract_prompt(query, word=\"ClearanceHepatocyteAZPred\")\n",
    "\n",
    "#     def instructions(self):\n",
    "#         return (\n",
    "#             \"=== Clearance Hepatocyte AZ Prediction Instructions ===\\n\"\n",
    "#             \"This tool predicts the hepatocyte clearance of a small molecule (given as SMILES).\\n\\n\"\n",
    "#             \"To use this tool, invoke it exactly like this:\\n\"\n",
    "#             \"```ClearanceHepatocyteAZPred\\n\"\n",
    "#             \"{Drug SMILES}\\n\"\n",
    "#             \"```\\n\\n\"\n",
    "#             \"• **Keyword**: `ClearanceHepatocyteAZPred` (must match exactly).\\n\"\n",
    "#             \"• **Line 2**: the SMILES string of your ligand.\\n\\n\"\n",
    "#             \"**Example:**\\n\"\n",
    "#             \"```ClearanceHepatocyteAZPred\\n\"\n",
    "#             \"CC(=O)Oc1ccccc1C(=O)O\\n\"\n",
    "#             \"```\\n\"\n",
    "#             \"This will return a predicted hepatocyte clearance value for that molecule.\\n\"\n",
    "#         )"
   ]
  },
  {
   "cell_type": "code",
   "execution_count": 62,
   "id": "f3ea94e6",
   "metadata": {},
   "outputs": [],
   "source": [
    "# clearancePred = ClearanceHepatocyteAZPred()\n",
    "\n",
    "# smiles = \"COc1c(F)cccc1C1=C(c2ccc(O[C@H]3CCN(CCCF)C3)cc2)c2ccc(O)cc2CCC1\"\n",
    "# prediction_clearance = clearancePred.use_tool(smiles)\n",
    "# print(prediction_clearance)"
   ]
  },
  {
   "cell_type": "code",
   "execution_count": 63,
   "id": "537da160",
   "metadata": {},
   "outputs": [],
   "source": [
    "# class ClearanceMicrosomeAZPred:\n",
    "#     def __init__(self):\n",
    "#         self.tool_name = \"Clearance Microsome AZ Prediction\"\n",
    "\n",
    "#     def use_tool(self, smiles_string):\n",
    "#         # Assumes tdc_prompts_json has an entry \"ClearanceMicrosomeAZ\" for this task\n",
    "#         prediction = txgemma_predict(\n",
    "#             tdc_prompts_json[\"Clearance_Microsome_AZ\"].replace(\"{Drug SMILES}\", smiles_string)\n",
    "#         )\n",
    "#         # Example output might be: \"Answer: Clearance rate: 45.6\"\n",
    "#         match = re.search(r\"Answer:*([0-9]*\\.?[0-9]+)\", prediction)\n",
    "        \n",
    "#         clearance_value = float(match.group(1))\n",
    "#         # You can adjust thresholds or interpretation as needed\n",
    "#         return f\"{smiles_string} has a predicted microsomal clearance rate of {clearance_value} (mL·min⁻¹·g⁻¹).\"\n",
    "\n",
    "#     def tool_is_used(self, query):\n",
    "#         # Check for exact keyword in query\n",
    "#         return \"```ClearanceMicrosomeAZPred\" in query\n",
    "\n",
    "#     def process_query(self, query):\n",
    "#         # Clean query to remove tool call block and extract prompt\n",
    "#         return extract_prompt(query, word=\"ClearanceMicrosomeAZPred\")\n",
    "\n",
    "#     def instructions(self):\n",
    "#         return (\n",
    "#             \"=== Clearance Microsome AZ Prediction Instructions ===\\n\"\n",
    "#             \"This tool predicts the microsomal clearance rate of a small molecule (given as SMILES),\\n\"\n",
    "#             \"based on AstraZeneca data and models.\\n\\n\"\n",
    "#             \"To use this tool, invoke it exactly like this:\\n\"\n",
    "#             \"```ClearanceMicrosomeAZPred\\n\"\n",
    "#             \"{Drug SMILES}\\n\"\n",
    "#             \"```\\n\\n\"\n",
    "#             \"• **Keyword**: `ClearanceMicrosomeAZPred` (must match exactly).\\n\"\n",
    "#             \"• **Line 2**: the SMILES string of your molecule.\\n\\n\"\n",
    "#             \"**Example:**\\n\"\n",
    "#             \"```ClearanceMicrosomeAZPred\\n\"\n",
    "#             \"CC(=O)Oc1ccccc1C(=O)O\\n\"\n",
    "#             \"```\\n\"\n",
    "#             \"This will return a predicted microsomal clearance rate for that molecule.\\n\"\n",
    "#         )"
   ]
  },
  {
   "cell_type": "code",
   "execution_count": 64,
   "id": "7f7aadaa",
   "metadata": {},
   "outputs": [],
   "source": [
    "# clearance_pred = ClearanceMicrosomeAZPred()\n",
    "\n",
    "# smiles = \"COc1c(F)cccc1C1=C(c2ccc(O[C@H]3CCN(CCCF)C3)cc2)c2ccc(O)cc2CCC1\"\n",
    "# prediction_clearance = clearance_pred.use_tool(smiles)\n",
    "# print(prediction_clearance)"
   ]
  },
  {
   "cell_type": "code",
   "execution_count": 43,
   "id": "48193e67",
   "metadata": {},
   "outputs": [],
   "source": [
    "class HalfLifeObachPred:\n",
    "    def __init__(self):\n",
    "        self.tool_name = \"Half-Life Prediction (Obach)\"\n",
    "\n",
    "    def use_tool(self, smiles_string):\n",
    "        # Assuming txgemma_predict and tdc_prompts_json have an entry for \"HalfLifeObach\"\n",
    "        prediction = txgemma_predict(\n",
    "            tdc_prompts_json[\"Half_Life_Obach\"].replace(\"{Drug SMILES}\", smiles_string)\n",
    "        )\n",
    "        # Example output might be: \"Answer: Half-life (hours): 4.2\"\n",
    "        match = re.search(r\"Answer:\\s*(?:Half-life \\(hours\\):\\s*)?([0-9]*\\.?[0-9]+)\", prediction)\n",
    "        \n",
    "        if match:\n",
    "            half_life = float(match.group(1))\n",
    "            return f\"{smiles_string} is predicted to have a half-life of {half_life:.2f} hours.\"\n",
    "        else:\n",
    "            return \"Prediction output format unrecognized.\"\n",
    "\n",
    "    def tool_is_used(self, query):\n",
    "        # Check for exact keyword in query\n",
    "        return \"```HalfLifeObachPred\" in query\n",
    "\n",
    "    def process_query(self, query):\n",
    "        # Clean query to remove tool call block and extract prompt\n",
    "        return extract_prompt(query, word=\"HalfLifeObachPred\")\n",
    "\n",
    "    def instructions(self):\n",
    "        return (\n",
    "            \"=== Half-Life Prediction (Obach) Instructions ===\\n\"\n",
    "            \"This tool predicts the half-life (in hours) of a small molecule (given as SMILES),\\n\"\n",
    "            \"based on the Obach model.\\n\\n\"\n",
    "            \"To use this tool, invoke it exactly like this:\\n\"\n",
    "            \"```HalfLifeObachPred\\n\"\n",
    "            \"{Drug SMILES}\\n\"\n",
    "            \"```\\n\\n\"\n",
    "            \"• **Keyword**: `HalfLifeObachPred` (must match exactly).\\n\"\n",
    "            \"• **Line 2**: the SMILES string of your molecule.\\n\\n\"\n",
    "            \"**Example:**\\n\"\n",
    "            \"```HalfLifeObachPred\\n\"\n",
    "            \"CC(=O)Oc1ccccc1C(=O)O\\n\"\n",
    "            \"```\\n\"\n",
    "            \"This will return a predicted half-life (in hours) for that molecule.\\n\"\n",
    "        )"
   ]
  },
  {
   "cell_type": "code",
   "execution_count": 44,
   "id": "8704ecd3",
   "metadata": {},
   "outputs": [
    {
     "name": "stdout",
     "output_type": "stream",
     "text": [
      "COc1c(F)cccc1C1=C(c2ccc(O[C@H]3CCN(CCCF)C3)cc2)c2ccc(O)cc2CCC1 is predicted to have a half-life of 10.00 hours.\n"
     ]
    }
   ],
   "source": [
    "half_life_pred = HalfLifeObachPred()\n",
    "# Only pass the SMILES string, since AA_sequence is not needed here\n",
    "smiles = \"COc1c(F)cccc1C1=C(c2ccc(O[C@H]3CCN(CCCF)C3)cc2)c2ccc(O)cc2CCC1\"\n",
    "prediction_half_life = half_life_pred.use_tool(smiles)\n",
    "print(prediction_half_life)"
   ]
  },
  {
   "cell_type": "code",
   "execution_count": 49,
   "id": "d3bb8051",
   "metadata": {},
   "outputs": [],
   "source": [
    "class VDssLombardoPred:\n",
    "    def __init__(self):\n",
    "        self.tool_name = \"VDss Lombardo Prediction\"\n",
    "\n",
    "    def use_tool(self, smiles_string):\n",
    "        # Assuming txgemma_predict and tdc_prompts_json have an entry for VDss Lombardo\n",
    "        prediction = txgemma_predict(\n",
    "            tdc_prompts_json[\"VDss_Lombardo\"].replace(\"{Drug SMILES}\", smiles_string)\n",
    "        )\n",
    "        # Example output might be: \"Answer: VDss (L/kg): 0.85\"\n",
    "        match = re.search(r\"Answer:\\s*(?:VDss\\s*\\(L/kg\\):\\s*)?([0-9]*\\.?[0-9]+)\", prediction)\n",
    "\n",
    "        if match:\n",
    "            vdss_value = float(match.group(1))\n",
    "            # Interpret vdss_value as you prefer, e.g.:\n",
    "            return f\"{smiles_string} has a predicted VDss of {vdss_value:.2f}(L/kg).\"\n",
    "        else:\n",
    "            return \"Prediction output format unrecognized.\"\n",
    "\n",
    "    def tool_is_used(self, query):\n",
    "        # Check for exact keyword in query\n",
    "        return \"```VDssLombardoPred\" in query\n",
    "\n",
    "    def process_query(self, query):\n",
    "        # Clean query to remove tool call block and extract prompt\n",
    "        return extract_prompt(query, word=\"VDssLombardoPred\")\n",
    "\n",
    "    def instructions(self):\n",
    "        return (\n",
    "            \"=== VDss Lombardo Prediction Instructions ===\\n\"\n",
    "            \"This tool predicts the steady-state volume of distribution (VDss) in L/kg\\n\"\n",
    "            \"for a small molecule using the Lombardo method.\\n\\n\"\n",
    "            \"To use this tool, invoke it exactly like this:\\n\"\n",
    "            \"```VDssLombardoPred\\n\"\n",
    "            \"{Drug SMILES}\\n\"\n",
    "            \"```\\n\\n\"\n",
    "            \"• **Keyword**: `VDssLombardoPred` (must match exactly).\\n\"\n",
    "            \"• **Line 2**: the SMILES string of your molecule.\\n\\n\"\n",
    "            \"**Example:**\\n\"\n",
    "            \"```VDssLombardoPred\\n\"\n",
    "            \"CC(=O)Oc1ccccc1C(=O)O\\n\"\n",
    "            \"```\\n\"\n",
    "            \"This will return the predicted VDss value for that molecule.\\n\"\n",
    "        )"
   ]
  },
  {
   "cell_type": "code",
   "execution_count": 50,
   "id": "6aab5c15",
   "metadata": {},
   "outputs": [
    {
     "name": "stdout",
     "output_type": "stream",
     "text": [
      "COc1c(F)cccc1C1=C(c2ccc(O[C@H]3CCN(CCCF)C3)cc2)c2ccc(O)cc2CCC1 has a predicted VDss of 3.00(L/kg).\n"
     ]
    }
   ],
   "source": [
    "# Instantiate the VDss Lombardo predictor\n",
    "vdssPred = VDssLombardoPred()\n",
    "\n",
    "# Use only the SMILES string since VDssLombardoPred takes just that\n",
    "smiles = \"COc1c(F)cccc1C1=C(c2ccc(O[C@H]3CCN(CCCF)C3)cc2)c2ccc(O)cc2CCC1\"\n",
    "prediction_vdss = vdssPred.use_tool(smiles)\n",
    "print(prediction_vdss)\n"
   ]
  },
  {
   "cell_type": "markdown",
   "id": "d1ea20d0-0032-4a20-8907-54137f7bea68",
   "metadata": {},
   "source": [
    "# PubMed search tool"
   ]
  },
  {
   "cell_type": "code",
   "execution_count": 51,
   "id": "a98fca4b-20a1-4cf6-948f-75bbf592f2be",
   "metadata": {},
   "outputs": [
    {
     "name": "stderr",
     "output_type": "stream",
     "text": [
      "huggingface/tokenizers: The current process just got forked, after parallelism has already been used. Disabling parallelism to avoid deadlocks...\n",
      "To disable this warning, you can either:\n",
      "\t- Avoid using `tokenizers` before the fork if possible\n",
      "\t- Explicitly set the environment variable TOKENIZERS_PARALLELISM=(true | false)\n"
     ]
    },
    {
     "name": "stdout",
     "output_type": "stream",
     "text": [
      "\u001b[33mWARNING: Error parsing dependencies of devscripts: Invalid version: '2.22.1ubuntu1'\u001b[0m\u001b[33m\n",
      "\u001b[0m"
     ]
    }
   ],
   "source": [
    "! pip install --upgrade --quiet biopython"
   ]
  },
  {
   "cell_type": "code",
   "execution_count": 52,
   "id": "a1b171b6-4b50-43b3-8e7e-98c7404a736d",
   "metadata": {},
   "outputs": [],
   "source": [
    "from Bio import Medline, Entrez\n",
    "\n",
    "# This class will allow us to interface with PubMed\n",
    "class PubMedSearch:\n",
    "    def __init__(self):\n",
    "      self.tool_name = \"PubMed Search\"\n",
    "\n",
    "    def tool_is_used(self, query: str):\n",
    "        # This just checks to see if the tool call was evoked\n",
    "        return \"```PubMedSearch\" in query\n",
    "\n",
    "    def process_query(self, query: str):\n",
    "        # Here, we clean to query to remove the tool call\n",
    "        search_text = extract_prompt(query, word=\"PubMedSearch\")\n",
    "        return search_text.strip()\n",
    "\n",
    "    def use_tool(self, search_text):\n",
    "        # Here, we are searching through PubMed and returning relevant articles\n",
    "        pmids = list()\n",
    "        handle = Entrez.esearch(db=\"pubmed\", sort=\"relevance\", term=search_text, retmax=3)\n",
    "        record = Entrez.read(handle)\n",
    "        pmids = record.get(\"IdList\", [])\n",
    "        handle.close()\n",
    "\n",
    "        if not pmids:\n",
    "            return f\"No PubMed articles found for '{search_text}' Please try a simpler search query.\"\n",
    "\n",
    "        fetch_handle = Entrez.efetch(db=\"pubmed\", id=\",\".join(pmids), rettype=\"medline\", retmode=\"text\")\n",
    "        records = list(Medline.parse(fetch_handle))\n",
    "        fetch_handle.close()\n",
    "\n",
    "        result_str = f\"=== PubMed Search Results for: '{search_text}' ===\\n\"\n",
    "        for i, record in enumerate(records, start=1):\n",
    "            pmid = record.get(\"PMID\", \"N/A\")\n",
    "            title = record.get(\"TI\", \"No title available\")\n",
    "            abstract = record.get(\"AB\", \"No abstract available\")\n",
    "            journal = record.get(\"JT\", \"No journal info\")\n",
    "            pub_date = record.get(\"DP\", \"No date info\")\n",
    "            authors = record.get(\"AU\", [])\n",
    "            authors_str = \", \".join(authors[:3])\n",
    "            result_str += (\n",
    "                f\"\\n--- Article #{i} ---\\n\"\n",
    "                f\"PMID: {pmid}\\n\"\n",
    "                f\"Title: {title}\\n\"\n",
    "                f\"Authors: {authors_str}\\n\"\n",
    "                f\"Journal: {journal}\\n\"\n",
    "                f\"Publication Date: {pub_date}\\n\"\n",
    "                f\"Abstract: {abstract}\\n\")\n",
    "        return f\"Query: {search_text}\\nResults: {result_str}\"\n",
    "\n",
    "    def instructions(self):\n",
    "        # Here, we are explaining how the tool works to the agent\n",
    "        return (\n",
    "            f\"{'@' * 10}\\n@@@ PubMed Search Tool Instructions @@@\\n\\n\"\n",
    "            \"### What This Tool Does\\n\"\n",
    "            \"The PubMed Search Tool queries the NCBI Entrez API (PubMed) for a given search phrase, \"\n",
    "            \"and retrieves metadata for a few of the top articles (PMID, title, authors, journal, date, abstract).\\n\\n\"\n",
    "            \"### When / Why You Should Use It\\n\"\n",
    "            \"- To find **scientific literature** references on a specific biomedical topic.\\n\"\n",
    "            \"- To retrieve **abstracts, titles, authors**, and other metadata.\\n\\n\"\n",
    "            \"### Query Format\\n\"\n",
    "            \"Wrap your request with triple backticks, starting with `PubMedSearch`. For example:\\n\\n\"\n",
    "            \"```PubMedSearch\\ncancer immunotherapy\\n```\\n\\n\"\n",
    "            \"### Example\\n\"\n",
    "            \"```PubMedSearch\\nmachine learning in drug discovery\\n```\\n\"\n",
    "            \"- This will search PubMed for articles related to 'machine learning in drug discovery', \"\n",
    "            \"fetch up to 3 PMIDs, and return their titles, abstracts, etc.\\n\\n\")"
   ]
  },
  {
   "cell_type": "markdown",
   "id": "66e3c551-ceec-45cd-b390-73f95cf369e2",
   "metadata": {},
   "source": [
    "# Wrapping it all together"
   ]
  },
  {
   "cell_type": "markdown",
   "id": "2ab55c29-5b48-41d6-8079-703a759c345b",
   "metadata": {},
   "source": [
    "### Creating a tool manager"
   ]
  },
  {
   "cell_type": "code",
   "execution_count": 60,
   "id": "cae77fbb-2c27-43a8-87bf-c6af7d9ea4ca",
   "metadata": {},
   "outputs": [],
   "source": [
    "# The tool manager will hold all of the tools, and provide an interface for the agent\n",
    "class ToolManager:\n",
    "    def __init__(self, toolset):\n",
    "        self.toolset = toolset\n",
    "\n",
    "    def tool_prompt(self):\n",
    "        # This will let the agent know what tools it has access to\n",
    "        tool_names = \", \".join([tool.tool_name for tool in self.toolset])\n",
    "        return f\"You have access to the following tools: {tool_names}\\n{self.tool_instructions()}. You can only use one tool at a time. These are the only tools you have access to nothing else.\"\n",
    "\n",
    "    def tool_instructions(self):\n",
    "        # This allows the agent to know how to use the tools\n",
    "        tool_instr = \"\\n\".join([tool.instructions() for tool in self.toolset])\n",
    "        return f\"The following is a set of instructions on how to use each tool.\\n{tool_instr}\"\n",
    "\n",
    "    def use_tool(self, query):\n",
    "        # This will iterate through all of the tools\n",
    "        # and find the correct tool that the agent requested\n",
    "        for tool in self.toolset:\n",
    "            if tool.tool_is_used(query):\n",
    "                # use the tool and return the output\n",
    "                return tool.use_tool(tool.process_query(query))\n",
    "        return f\"No tool match for search: {query}\"\n",
    "\n",
    "if USE_CHAT:\n",
    "    tools = ToolManager([TxGemmaChatTool(), BioavailabilityPred(), HalfLifeObachPred(), VDssLombardoPred(), PubMedSearch()])\n",
    "else:\n",
    "    tools = ToolManager([BioavailabilityPred(), HalfLifeObachPred(), VDssLombardoPred(), PubMedSearch()])\n",
    "    \n",
    "# if USE_CHAT:\n",
    "#     tools = ToolManager([TxGemmaChatTool(), BioavailabilityPred(), ClearanceHepatocyteAZPred(), ClearanceMicrosomeAZPred(), HalfLifeObachPred(), VDssLombardoPred(), PubMedSearch()])\n",
    "# else:\n",
    "#     tools = ToolManager([BioavailabilityPred(), ClearanceHepatocyteAZPred(), ClearanceMicrosomeAZPred(), HalfLifeObachPred(), VDssLombardoPred(), PubMedSearch()])"
   ]
  },
  {
   "cell_type": "markdown",
   "id": "84697557-a96a-4423-89ce-bfd3069d750b",
   "metadata": {},
   "source": [
    "### Creating a Gemini inference tool"
   ]
  },
  {
   "cell_type": "code",
   "execution_count": 54,
   "id": "5ce4bf0c-fefb-4e1f-8c22-67bf10cfd358",
   "metadata": {},
   "outputs": [],
   "source": [
    "def inference_gemini(prompt, system_prompt, model_str):\n",
    "  # Check to see that our model string matches\n",
    "  if model_str == \"gemini-2.5-flash\":\n",
    "    model = genai.GenerativeModel(model_name=\"gemini-2.5-flash-preview-05-20\", system_instruction=system_prompt)\n",
    "    response = model.generate_content(prompt)\n",
    "    answer = response.text\n",
    "  return answer"
   ]
  },
  {
   "cell_type": "markdown",
   "id": "e52c2282-0fa3-45ee-8e2d-b84389ef68c2",
   "metadata": {},
   "source": [
    "# Creating a therapeutics agent"
   ]
  },
  {
   "cell_type": "code",
   "execution_count": 65,
   "id": "90800572-75f4-49ba-907a-41f7d957edc6",
   "metadata": {},
   "outputs": [
    {
     "name": "stdout",
     "output_type": "stream",
     "text": [
      "Thought: To determine the PK properties, I would first use cheminformatics tools (like SwissADME or pkCSM) to predict physicochemical properties (e.g., molecular weight, LogP, TPSA) and then specific ADME parameters such as oral absorption, blood-brain barrier penetration, CYP450 metabolism, and potential efflux pump interactions.\n",
      "Action: ```BioavailabilityPred\n",
      "COc1c(F)cccc1C1=C(c2ccc(O[C@H]3CCN(CCCF)C3)cc2)c2ccc(O)cc2CCC1\n",
      "```\n",
      "Observation: COc1c(F)cccc1C1=C(c2ccc(O[C@H]3CCN(CCCF)C3)cc2)c2ccc(O)cc2CCC1 is predicted to have oral bioavailability < 20%!\n",
      "Thought: The user wants to know the PK properties of the drug. I would plan to predict key ADME parameters (Absorption, Distribution, Metabolism, Excretion) using computational models, focusing on oral bioavailability, blood-brain barrier penetration, metabolic stability (CYP inhibition/induction), and potential efflux pump interactions. I would also assess physicochemical properties like lipophilicity, molecular weight, and topological polar surface area (TPSA) to infer distribution characteristics and potential for passive diffusion.\n",
      "The user wants to know the PK properties of the given drug. I have already noted a predicted oral bioavailability of < 20%. To provide a comprehensive answer, I would proceed by outlining the various PK parameters that are typically assessed, considering the implications of the already known low bioavailability, and how I would (if able to use tools) predict them.\n",
      "\n",
      "**PK Properties to Consider:**\n",
      "\n",
      "1.  **Absorption (A):**\n",
      "    *   **Oral Bioavailability (F):** Already predicted as < 20%. This is a critical factor, indicating poor oral absorption or extensive first-pass metabolism.\n",
      "    *   **Permeability:** Intestinal permeability (e.g., Caco-2 permeability) is important. Low permeability could contribute to poor absorption.\n",
      "    *   **Solubility:** Aqueous solubility, especially at physiological pH, is crucial for dissolution and absorption. Poor solubility can limit bioavailability.\n",
      "    *   **Efflux Transporter Interactions:** Is the drug a substrate for efflux pumps like P-gp? This could significantly reduce absorption.\n",
      "\n",
      "2.  **Distribution (D):**\n",
      "    *   **Volume of Distribution (Vd):** Indicates how widely a drug distributes throughout the body. High lipophilicity often leads to high Vd.\n",
      "    *   **Plasma Protein Binding (PPB):** The fraction of drug bound to plasma proteins affects the free drug concentration, which is the pharmacologically active form. High PPB can limit distribution to tissues.\n",
      "    *   **Blood-Brain Barrier (BBB) Permeation:** Important for CNS-targeted drugs or to assess potential CNS side effects.\n",
      "\n",
      "3.  **Metabolism (M):**\n",
      "    *   **Metabolic Stability:** How quickly the drug is metabolized, primarily by cytochrome P450 (CYP) enzymes, but also by other enzymes (e.g., esterases, glucuronidation). This impacts half-life and clearance.\n",
      "    *   **CYP Inhibition/Induction:** Does the drug inhibit or induce major CYP isoforms (e.g., CYP3A4, 2D6, 2C9, 2C19, 1A2)? This is critical for predicting drug-drug interactions (DDIs).\n",
      "    *   **Metabolite Formation:** Identification of major metabolites.\n",
      "\n",
      "4.  **Excretion (E):**\n",
      "    *   **Clearance (CL):** The rate at which the drug is removed from the body, typically hepatic and/or renal.\n",
      "    *   **Renal Excretion:** Is the drug excreted unchanged via the kidneys?\n",
      "    *   **Biliary Excretion:** Is the drug excreted via bile?\n",
      "\n",
      "**Inferences from the Low Bioavailability (< 20%):**\n",
      "\n",
      "Given the predicted low oral bioavailability, the following are likely contributing factors:\n",
      "*   **Poor Aqueous Solubility:** The molecule appears fairly large and could be hydrophobic, potentially limiting its dissolution in the GI tract.\n",
      "*   **Low Intestinal Permeability:** The molecule might not readily cross the intestinal membrane.\n",
      "*   **Significant First-Pass Metabolism:** The drug might be extensively metabolized in the liver before reaching systemic circulation.\n",
      "*   **Efflux Pump Substrate:** The drug could be pumped out of enterocytes back into the gut lumen by efflux transporters like P-glycoprotein.\n",
      "\n",
      "To provide a more detailed PK profile, I would need to predict these individual parameters using computational models, if tool access were available.\n",
      "\n",
      "**Summary of PK Properties of COc1c(F)cccc1C1=C(c2ccc(O[C@H]3CCN(CCCF)C3)cc2)c2ccc(O)cc2CCC1:**\n",
      "\n",
      "Based on the provided information, the most significant PK property known so far is its **poor predicted oral bioavailability (< 20%)**. This suggests challenges with absorption (e.g., low solubility, low permeability, efflux) and/or extensive first-pass metabolism. Further analysis of its physiochemical properties (LogP, TPSA, molecular weight), metabolic fate, and transporter interactions would be necessary to fully characterize its PK profile.\n",
      "\n",
      "**Limitations:** Without access to specific prediction tools, I cannot provide quantitative values for all these parameters beyond the given bioavailability. My answer is based on a qualitative assessment of typical PK considerations and the implication of the low bioavailability.\n",
      "\n",
      "You have performed 1 action and have 3 left.\n",
      "I am unable to use tools currently.\n",
      "The user wants to know the PK properties of the given drug. I have already established that its oral bioavailability is predicted to be < 20%. To provide a complete PK profile, I would address the core ADME parameters (Absorption, Distribution, Metabolism, Excretion), identifying potential contributing factors to the observed low bioavailability and outlining other key PK characteristics that would need to be assessed.\n",
      "\n",
      "**Predicted PK Properties:**\n",
      "\n",
      "1.  **Absorption (A):**\n",
      "    *   **Oral Bioavailability:** **Predicted to be < 20%**. This is a major concern, indicating poor absorption or extensive first-pass metabolism.\n",
      "    *   **Potential contributing factors:** Based on the structure, the molecule is relatively large (MW ~ 500-600 g/mol, which is borderline for oral drugs) and appears to have several rotatable bonds, suggesting potential for low permeability and/or solubility issues, or it might be a substrate for efflux pumps (like P-glycoprotein) in the gut. The presence of a tertiary amine (in the piperidine ring) could make it ionizable, affecting solubility and permeability depending on pH.\n",
      "\n",
      "2.  **Distribution (D):**\n",
      "    *   **Lipophilicity (LogP/D):** The molecule appears moderately to highly lipophilic due to the extensive aromatic and aliphatic systems. High lipophilicity often correlates with high volume of distribution (Vd) and plasma protein binding.\n",
      "    *   **Plasma Protein Binding (PPB):** Given its apparent lipophilicity and size, it is likely to exhibit high plasma protein binding, which means a smaller fraction of the drug would be free (pharmacologically active).\n",
      "    *   **Blood-Brain Barrier (BBB) Permeation:** Without specific prediction, it's hard to say definitively. The fluorine atom and the relatively high lipophilicity might suggest some permeability, but the piperidine ring could also lead to efflux by transporters at the BBB.\n",
      "\n",
      "3.  **Metabolism (M):**\n",
      "    *   **Metabolic Stability:** The presence of several aromatic rings, an ether linkage, and an aliphatic chain with a tertiary amine suggests multiple potential sites for metabolism (e.g., oxidative metabolism by CYP450 enzymes). The trifluoromethyl group (-CCCF) is generally metabolically stable, but the adjacent amine could be a target. Extensive first-pass metabolism is a strong possibility given the low bioavailability.\n",
      "    *   **CYP Inhibition/Induction:** The molecule's structure could potentially lead to interactions with CYP enzymes, either as inhibitors or inducers. This would require specific prediction.\n",
      "\n",
      "4.  **Excretion (E):**\n",
      "    *   **Clearance:** Likely to be primarily hepatic clearance due to metabolism, possibly with some renal excretion of metabolites or the parent compound if it's sufficiently polar.\n",
      "    *   **Excretion Pathway:** Due to its size and lipophilicity, biliary excretion of the parent drug or its metabolites is also a possibility.\n",
      "\n",
      "**Summary of Key PK Properties:**\n",
      "\n",
      "The most prominent PK property identified is the **very low predicted oral bioavailability (< 20%)**, which significantly impacts its utility as an orally administered drug. This suggests that the drug would require a high dose or an alternative administration route to achieve therapeutic concentrations. Other properties like high plasma protein binding, significant metabolic clearance, and potential efflux pump interactions are also likely, contributing to its overall PK profile. Further detailed predictions would be needed to quantify these parameters.\n",
      "Action: ```HalfLifeObachPred\n",
      "COc1c(F)cccc1C1=C(c2ccc(O[C@H]3CCN(CCCF)C3)cc2)c2ccc(O)cc2CCC1\n",
      "```\n",
      "Observation: COc1c(F)cccc1C1=C(c2ccc(O[C@H]3CCN(CCCF)C3)cc2)c2ccc(O)cc2CCC1 is predicted to have a half-life of 10.00 hours.\n",
      "Thought: I have already established low oral bioavailability and a 10-hour half-life. To provide a comprehensive PK profile, I would next predict distribution characteristics (LogP, TPSA, plasma protein binding, BBB penetration) and further metabolic details (CYP inhibition/induction).\n",
      "Action: ```VDssLombardoPred\n",
      "COc1c(F)cccc1C1=C(c2ccc(O[C@H]3CCN(CCCF)C3)cc2)c2ccc(O)cc2CCC1\n",
      "```\n",
      "Observation: COc1c(F)cccc1C1=C(c2ccc(O[C@H]3CCN(CCCF)C3)cc2)c2ccc(O)cc2CCC1 has a predicted VDss of 3.00(L/kg).\n",
      "Thought: I have already established low oral bioavailability, a 10-hour half-life, and a VDss of 3.00 L/kg. To complete the PK profile, I would next plan to predict additional absorption parameters (solubility, permeability, efflux), further metabolic details (CYP inhibition/induction, metabolic stability), and plasma protein binding.\n",
      "Action: The PK properties of the drug COc1c(F)cccc1C1=C(c2ccc(O[C@H]3CCN(CCCF)C3)cc2)c2ccc(O)cc2CCC1 are:\n",
      "\n",
      "*   **Oral Bioavailability:** Predicted to be **< 20%**. This indicates poor oral absorption or extensive first-pass metabolism, suggesting that achieving therapeutic plasma concentrations via oral administration might be challenging or require high doses.\n",
      "*   **Half-Life (Obach model):** Predicted to be **10.00 hours**. This suggests a moderate duration of action, allowing for once or twice daily dosing.\n",
      "*   **Steady-State Volume of Distribution (VDss Lombardo model):** Predicted to be **3.00 L/kg**. This value suggests that the drug distributes moderately well into tissues outside the plasma compartment, which is typical for lipophilic drugs.\n",
      "\n",
      "Further PK properties that would typically be assessed include:\n",
      "*   **Clearance:** The rate at which the drug is removed from the body (hepatic, renal, or both).\n",
      "*   **Plasma Protein Binding:** The extent to which the drug binds to plasma proteins, affecting the free (active) drug concentration.\n",
      "*   **Metabolic Pathways:** Identification of specific enzymes (e.g., CYP450 isoforms) involved in drug metabolism and potential for drug-drug interactions (inhibition or induction of these enzymes).\n",
      "*   **Excretion Routes:** How the drug and its metabolites are eliminated from the body (e.g., urine, feces).\n",
      "*   **Solubility and Permeability:** Critical factors influencing absorption, especially for oral drugs.\n",
      "\n",
      "In summary, the drug exhibits low predicted oral bioavailability, a moderate half-life, and a moderate-to-high volume of distribution.\n",
      "Observation: No tool match for search: The PK properties of the drug COc1c(F)cccc1C1=C(c2ccc(O[C@H]3CCN(CCCF)C3)cc2)c2ccc(O)cc2CCC1 are:\n",
      "\n",
      "*   **Oral Bioavailability:** Predicted to be **< 20%**. This indicates poor oral absorption or extensive first-pass metabolism, suggesting that achieving therapeutic plasma concentrations via oral administration might be challenging or require high doses.\n",
      "*   **Half-Life (Obach model):** Predicted to be **10.00 hours**. This suggests a moderate duration of action, allowing for once or twice daily dosing.\n",
      "*   **Steady-State Volume of Distribution (VDss Lombardo model):** Predicted to be **3.00 L/kg**. This value suggests that the drug distributes moderately well into tissues outside the plasma compartment, which is typical for lipophilic drugs.\n",
      "\n",
      "Further PK properties that would typically be assessed include:\n",
      "*   **Clearance:** The rate at which the drug is removed from the body (hepatic, renal, or both).\n",
      "*   **Plasma Protein Binding:** The extent to which the drug binds to plasma proteins, affecting the free (active) drug concentration.\n",
      "*   **Metabolic Pathways:** Identification of specific enzymes (e.g., CYP450 isoforms) involved in drug metabolism and potential for drug-drug interactions (inhibition or induction of these enzymes).\n",
      "*   **Excretion Routes:** How the drug and its metabolites are eliminated from the body (e.g., urine, feces).\n",
      "*   **Solubility and Permeability:** Critical factors influencing absorption, especially for oral drugs.\n",
      "\n",
      "In summary, the drug exhibits low predicted oral bioavailability, a moderate half-life, and a moderate-to-high volume of distribution.\n",
      "\n",
      "Final Response: The PK properties of the drug COc1c(F)cccc1C1=C(c2ccc(O[C@H]3CCN(CCCF)C3)cc2)c2ccc(O)cc2CCC1 are as follows:\n",
      "\n",
      "*   **Oral Bioavailability:** Predicted to be **< 20%**. This is a significant finding, indicating that the drug likely has poor oral absorption or undergoes extensive first-pass metabolism in the liver. This low bioavailability suggests that achieving therapeutic plasma concentrations via oral administration might be challenging and could require very high doses, or an alternative route of administration might be necessary.\n",
      "*   **Half-Life (Obach model):** Predicted to be **10.00 hours**. A half-life of 10 hours suggests a moderate duration of action, which could allow for once or twice daily dosing in a clinical setting, provided sufficient systemic exposure can be achieved.\n",
      "*   **Steady-State Volume of Distribution (VDss Lombardo model):** Predicted to be **3.00 L/kg**. This value indicates that the drug distributes moderately well from the bloodstream into body tissues and fluids. A VDss of 3.00 L/kg is characteristic of compounds that distribute beyond the plasma compartment into the interstitial fluid and potentially into cells, suggesting some lipophilicity and tissue penetration.\n",
      "\n",
      "**Further Considerations for a Complete PK Profile:**\n",
      "\n",
      "While the above provides key insights, a comprehensive PK profile would also typically assess:\n",
      "\n",
      "*   **Absorption (beyond bioavailability):** This would include aqueous solubility (crucial for dissolution in the GI tract), intestinal permeability (how well it crosses the gut wall), and potential interactions with efflux transporters (e.g., P-glycoprotein, which could pump the drug back into the gut lumen).\n",
      "*   **Plasma Protein Binding:** The extent to which the drug binds to plasma proteins (e.g., albumin, alpha-1 acid glycoprotein). High protein binding can limit the concentration of free (pharmacologically active) drug available to exert its effect.\n",
      "*   **Metabolism:** Identification of specific metabolic pathways and the cytochrome P450 (CYP) enzymes involved (e.g., CYP3A4, 2D6, 2C9). This is crucial for understanding metabolic stability, clearance, and potential drug-drug interactions (inhibition or induction of other drug-metabolizing enzymes).\n",
      "*   **Excretion:** The primary routes by which the drug and its metabolites are eliminated from the body (e.g., renal excretion via urine, biliary excretion via feces).\n",
      "*   **Clearance:** The overall rate at which the drug is removed from the systemic circulation, integrating metabolism and excretion.\n",
      "\n",
      "In summary, the drug exhibits a challenging oral bioavailability, a moderate half-life, and a moderate-to-high volume of distribution, suggesting it distributes well but faces significant hurdles in absorption.\n"
     ]
    }
   ],
   "source": [
    "# This class defines our Agentic-Tx, wrapping together all of our tools and the orchestrator\n",
    "class AgenticTx:\n",
    "  def __init__(self, tool_manager, model_str, num_steps=5):\n",
    "    self.curr_steps = 0\n",
    "    self.num_steps = num_steps\n",
    "    self.model_str = model_str\n",
    "    self.tool_manager = tool_manager\n",
    "    self.thoughts = list()\n",
    "    self.actions  = list()\n",
    "    self.observations = list()\n",
    "\n",
    "  def reset(self):\n",
    "    # Reset the number of steps taken\n",
    "    self.curr_steps = 0\n",
    "\n",
    "  def system_prompt(self, use_tools=True):\n",
    "    # These are the system instructions for AgenticTx\n",
    "    role_prompt = \"You are an expert therapeutic agent. You answer accurately and thoroughly.\"\n",
    "    prev_actions = f\"You can perform a maximum of {self.num_steps} actions. You have performed {self.curr_steps} and have {self.num_steps - self.curr_steps - 1} left.\"\n",
    "    if use_tools: tool_prompt = \"You can use tools to solve problems and answer questions. \" + self.tool_manager.tool_prompt()\n",
    "    else: tool_prompt = \"You cannot use any tools right now.\"\n",
    "    return f\"{role_prompt} {prev_actions} {tool_prompt}\"\n",
    "\n",
    "  def prior_information(self, query):\n",
    "      info_txt = f\"Question: {query}\\n\" if query is not None else \"\"\n",
    "      for _i in range(self.curr_steps):\n",
    "          info_txt += f\"### Thought {_i + 1}: {self.thoughts[_i]}\\n\"\n",
    "          info_txt += f\"### Action {_i + 1}: {self.actions[_i]}\\n\"\n",
    "          info_txt += f\"### Observation {_i + 1}: {self.observations[_i]}\\n\\n\"\n",
    "          info_txt += \"@\"*20\n",
    "      return info_txt\n",
    "\n",
    "  def step(self, question):\n",
    "    for _i in range(self.num_steps):\n",
    "      if self.curr_steps == self.num_steps-1:\n",
    "        return inference_gemini(\n",
    "            model_str=self.model_str,\n",
    "            prompt=f\"{self.prior_information(question)}\\nYou must now provide an answer to this question {question}\",\n",
    "            system_prompt=self.system_prompt(use_tools=False))\n",
    "      else:\n",
    "        # Provide a thought step, planning for the model\n",
    "        thought = inference_gemini(\n",
    "            model_str=self.model_str,\n",
    "            prompt=f\"{self.prior_information(question)}\\nYou cannot currently use tools but you can think about the problem and what tools you want to use. This was the question, think about plans for how to use tools to answer this {question}. Let's think step by step (respond with only 1-2 sentences).\\nThought: \",\n",
    "            system_prompt=self.system_prompt(use_tools=False))\n",
    "        # Provide a took action for the model\n",
    "        action = inference_gemini(\n",
    "            model_str=self.model_str,\n",
    "            prompt=f\"{self.prior_information(question)}\\n{thought}\\nNow you must use tools to answer the following user query [{question}], closely following the tool instructions. Tool\",\n",
    "            system_prompt=self.system_prompt(use_tools=True))\n",
    "        obs = self.tool_manager.use_tool(action)\n",
    "\n",
    "        print(\"Thought:\", thought)\n",
    "        print(\"Action:\",  action)\n",
    "        print(\"Observation:\",  obs)\n",
    "\n",
    "        self.thoughts.append(thought)\n",
    "        self.actions.append(action)\n",
    "        self.observations.append(obs)\n",
    "\n",
    "        self.curr_steps += 1\n",
    "\n",
    "\n",
    "agentictx = AgenticTx(tool_manager=tools, model_str=\"gemini-2.5-flash\")\n",
    "# It should select CS(=O)(=O)C1=C2[C@@H]([C@@H]([C@@H](C2=C(C=C1)OC3=CC(=CC(=C3)C#N)F)F)F)O because it is a known HIF-2a binder\n",
    "response = agentictx.step(\"What are  the PK properties of this drug COc1c(F)cccc1C1=C(c2ccc(O[C@H]3CCN(CCCF)C3)cc2)c2ccc(O)cc2CCC1?\")\n",
    "print(\"\\nFinal Response:\", response)"
   ]
  }
 ],
 "metadata": {
  "colab": {
   "provenance": []
  },
  "kernelspec": {
   "display_name": "test",
   "language": "python",
   "name": "python3"
  },
  "language_info": {
   "codemirror_mode": {
    "name": "ipython",
    "version": 3
   },
   "file_extension": ".py",
   "mimetype": "text/x-python",
   "name": "python",
   "nbconvert_exporter": "python",
   "pygments_lexer": "ipython3",
   "version": "3.10.11"
  },
  "widgets": {
   "application/vnd.jupyter.widget-state+json": {
    "1d85631e18404082b279d1f1ba422833": {
     "model_module": "@jupyter-widgets/base",
     "model_module_version": "1.2.0",
     "model_name": "LayoutModel",
     "state": {
      "_model_module": "@jupyter-widgets/base",
      "_model_module_version": "1.2.0",
      "_model_name": "LayoutModel",
      "_view_count": null,
      "_view_module": "@jupyter-widgets/base",
      "_view_module_version": "1.2.0",
      "_view_name": "LayoutView",
      "align_content": null,
      "align_items": null,
      "align_self": null,
      "border": null,
      "bottom": null,
      "display": null,
      "flex": null,
      "flex_flow": null,
      "grid_area": null,
      "grid_auto_columns": null,
      "grid_auto_flow": null,
      "grid_auto_rows": null,
      "grid_column": null,
      "grid_gap": null,
      "grid_row": null,
      "grid_template_areas": null,
      "grid_template_columns": null,
      "grid_template_rows": null,
      "height": null,
      "justify_content": null,
      "justify_items": null,
      "left": null,
      "margin": null,
      "max_height": null,
      "max_width": null,
      "min_height": null,
      "min_width": null,
      "object_fit": null,
      "object_position": null,
      "order": null,
      "overflow": null,
      "overflow_x": null,
      "overflow_y": null,
      "padding": null,
      "right": null,
      "top": null,
      "visibility": null,
      "width": null
     }
    },
    "212301f0b442421693d077c01e0f27ca": {
     "model_module": "@jupyter-widgets/base",
     "model_module_version": "1.2.0",
     "model_name": "LayoutModel",
     "state": {
      "_model_module": "@jupyter-widgets/base",
      "_model_module_version": "1.2.0",
      "_model_name": "LayoutModel",
      "_view_count": null,
      "_view_module": "@jupyter-widgets/base",
      "_view_module_version": "1.2.0",
      "_view_name": "LayoutView",
      "align_content": null,
      "align_items": null,
      "align_self": null,
      "border": null,
      "bottom": null,
      "display": null,
      "flex": null,
      "flex_flow": null,
      "grid_area": null,
      "grid_auto_columns": null,
      "grid_auto_flow": null,
      "grid_auto_rows": null,
      "grid_column": null,
      "grid_gap": null,
      "grid_row": null,
      "grid_template_areas": null,
      "grid_template_columns": null,
      "grid_template_rows": null,
      "height": null,
      "justify_content": null,
      "justify_items": null,
      "left": null,
      "margin": null,
      "max_height": null,
      "max_width": null,
      "min_height": null,
      "min_width": null,
      "object_fit": null,
      "object_position": null,
      "order": null,
      "overflow": null,
      "overflow_x": null,
      "overflow_y": null,
      "padding": null,
      "right": null,
      "top": null,
      "visibility": null,
      "width": null
     }
    },
    "2592f55cc75b41caa7cd8831f23d7963": {
     "model_module": "@jupyter-widgets/base",
     "model_module_version": "1.2.0",
     "model_name": "LayoutModel",
     "state": {
      "_model_module": "@jupyter-widgets/base",
      "_model_module_version": "1.2.0",
      "_model_name": "LayoutModel",
      "_view_count": null,
      "_view_module": "@jupyter-widgets/base",
      "_view_module_version": "1.2.0",
      "_view_name": "LayoutView",
      "align_content": null,
      "align_items": null,
      "align_self": null,
      "border": null,
      "bottom": null,
      "display": null,
      "flex": null,
      "flex_flow": null,
      "grid_area": null,
      "grid_auto_columns": null,
      "grid_auto_flow": null,
      "grid_auto_rows": null,
      "grid_column": null,
      "grid_gap": null,
      "grid_row": null,
      "grid_template_areas": null,
      "grid_template_columns": null,
      "grid_template_rows": null,
      "height": null,
      "justify_content": null,
      "justify_items": null,
      "left": null,
      "margin": null,
      "max_height": null,
      "max_width": null,
      "min_height": null,
      "min_width": null,
      "object_fit": null,
      "object_position": null,
      "order": null,
      "overflow": null,
      "overflow_x": null,
      "overflow_y": null,
      "padding": null,
      "right": null,
      "top": null,
      "visibility": null,
      "width": null
     }
    },
    "2bddab3efac4495cbce24fb5f09d0003": {
     "model_module": "@jupyter-widgets/controls",
     "model_module_version": "1.5.0",
     "model_name": "FloatProgressModel",
     "state": {
      "_dom_classes": [],
      "_model_module": "@jupyter-widgets/controls",
      "_model_module_version": "1.5.0",
      "_model_name": "FloatProgressModel",
      "_view_count": null,
      "_view_module": "@jupyter-widgets/controls",
      "_view_module_version": "1.5.0",
      "_view_name": "ProgressView",
      "bar_style": "success",
      "description": "",
      "description_tooltip": null,
      "layout": "IPY_MODEL_1d85631e18404082b279d1f1ba422833",
      "max": 768023,
      "min": 0,
      "orientation": "horizontal",
      "style": "IPY_MODEL_725d503f395b42eeb7eb7bf8636525f8",
      "value": 768023
     }
    },
    "2c0d54af95724e9a97eddfc2b4a69fee": {
     "model_module": "@jupyter-widgets/controls",
     "model_module_version": "1.5.0",
     "model_name": "HTMLModel",
     "state": {
      "_dom_classes": [],
      "_model_module": "@jupyter-widgets/controls",
      "_model_module_version": "1.5.0",
      "_model_name": "HTMLModel",
      "_view_count": null,
      "_view_module": "@jupyter-widgets/controls",
      "_view_module_version": "1.5.0",
      "_view_name": "HTMLView",
      "description": "",
      "description_tooltip": null,
      "layout": "IPY_MODEL_714b2b8270a04cde91fc5034df6a4465",
      "placeholder": "​",
      "style": "IPY_MODEL_ba50a6c5d28a442e918be9d3e48f632a",
      "value": "tdc_prompts.json: 100%"
     }
    },
    "714b2b8270a04cde91fc5034df6a4465": {
     "model_module": "@jupyter-widgets/base",
     "model_module_version": "1.2.0",
     "model_name": "LayoutModel",
     "state": {
      "_model_module": "@jupyter-widgets/base",
      "_model_module_version": "1.2.0",
      "_model_name": "LayoutModel",
      "_view_count": null,
      "_view_module": "@jupyter-widgets/base",
      "_view_module_version": "1.2.0",
      "_view_name": "LayoutView",
      "align_content": null,
      "align_items": null,
      "align_self": null,
      "border": null,
      "bottom": null,
      "display": null,
      "flex": null,
      "flex_flow": null,
      "grid_area": null,
      "grid_auto_columns": null,
      "grid_auto_flow": null,
      "grid_auto_rows": null,
      "grid_column": null,
      "grid_gap": null,
      "grid_row": null,
      "grid_template_areas": null,
      "grid_template_columns": null,
      "grid_template_rows": null,
      "height": null,
      "justify_content": null,
      "justify_items": null,
      "left": null,
      "margin": null,
      "max_height": null,
      "max_width": null,
      "min_height": null,
      "min_width": null,
      "object_fit": null,
      "object_position": null,
      "order": null,
      "overflow": null,
      "overflow_x": null,
      "overflow_y": null,
      "padding": null,
      "right": null,
      "top": null,
      "visibility": null,
      "width": null
     }
    },
    "725d503f395b42eeb7eb7bf8636525f8": {
     "model_module": "@jupyter-widgets/controls",
     "model_module_version": "1.5.0",
     "model_name": "ProgressStyleModel",
     "state": {
      "_model_module": "@jupyter-widgets/controls",
      "_model_module_version": "1.5.0",
      "_model_name": "ProgressStyleModel",
      "_view_count": null,
      "_view_module": "@jupyter-widgets/base",
      "_view_module_version": "1.2.0",
      "_view_name": "StyleView",
      "bar_color": null,
      "description_width": ""
     }
    },
    "7b1fc1323b774b37848351700ed2d326": {
     "model_module": "@jupyter-widgets/controls",
     "model_module_version": "1.5.0",
     "model_name": "HBoxModel",
     "state": {
      "_dom_classes": [],
      "_model_module": "@jupyter-widgets/controls",
      "_model_module_version": "1.5.0",
      "_model_name": "HBoxModel",
      "_view_count": null,
      "_view_module": "@jupyter-widgets/controls",
      "_view_module_version": "1.5.0",
      "_view_name": "HBoxView",
      "box_style": "",
      "children": [
       "IPY_MODEL_2c0d54af95724e9a97eddfc2b4a69fee",
       "IPY_MODEL_2bddab3efac4495cbce24fb5f09d0003",
       "IPY_MODEL_8830c914a7804ab0b66f574fe07f327a"
      ],
      "layout": "IPY_MODEL_2592f55cc75b41caa7cd8831f23d7963"
     }
    },
    "8830c914a7804ab0b66f574fe07f327a": {
     "model_module": "@jupyter-widgets/controls",
     "model_module_version": "1.5.0",
     "model_name": "HTMLModel",
     "state": {
      "_dom_classes": [],
      "_model_module": "@jupyter-widgets/controls",
      "_model_module_version": "1.5.0",
      "_model_name": "HTMLModel",
      "_view_count": null,
      "_view_module": "@jupyter-widgets/controls",
      "_view_module_version": "1.5.0",
      "_view_name": "HTMLView",
      "description": "",
      "description_tooltip": null,
      "layout": "IPY_MODEL_212301f0b442421693d077c01e0f27ca",
      "placeholder": "​",
      "style": "IPY_MODEL_90afe47fc2734888a05e422de4c6a657",
      "value": " 768k/768k [00:00&lt;00:00, 5.75MB/s]"
     }
    },
    "90afe47fc2734888a05e422de4c6a657": {
     "model_module": "@jupyter-widgets/controls",
     "model_module_version": "1.5.0",
     "model_name": "DescriptionStyleModel",
     "state": {
      "_model_module": "@jupyter-widgets/controls",
      "_model_module_version": "1.5.0",
      "_model_name": "DescriptionStyleModel",
      "_view_count": null,
      "_view_module": "@jupyter-widgets/base",
      "_view_module_version": "1.2.0",
      "_view_name": "StyleView",
      "description_width": ""
     }
    },
    "ba50a6c5d28a442e918be9d3e48f632a": {
     "model_module": "@jupyter-widgets/controls",
     "model_module_version": "1.5.0",
     "model_name": "DescriptionStyleModel",
     "state": {
      "_model_module": "@jupyter-widgets/controls",
      "_model_module_version": "1.5.0",
      "_model_name": "DescriptionStyleModel",
      "_view_count": null,
      "_view_module": "@jupyter-widgets/base",
      "_view_module_version": "1.2.0",
      "_view_name": "StyleView",
      "description_width": ""
     }
    }
   }
  }
 },
 "nbformat": 4,
 "nbformat_minor": 5
}
